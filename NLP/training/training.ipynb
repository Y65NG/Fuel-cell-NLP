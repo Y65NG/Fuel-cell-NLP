{
 "cells": [
  {
   "cell_type": "markdown",
   "source": [
    "# Import"
   ],
   "metadata": {}
  },
  {
   "cell_type": "code",
   "execution_count": 3,
   "source": [
    "from gensim import utils\n",
    "import gensim.models\n",
    "from chemdataextractor import Document\n",
    "import re\n",
    "import pandas as pd\n",
    "from pprint import pprint\n",
    "from random import choice\n",
    "from adjustText import adjust_text"
   ],
   "outputs": [],
   "metadata": {}
  },
  {
   "cell_type": "markdown",
   "source": [
    "# Pre-training"
   ],
   "metadata": {}
  },
  {
   "cell_type": "markdown",
   "source": [
    "## No Punctuation"
   ],
   "metadata": {}
  },
  {
   "cell_type": "code",
   "execution_count": null,
   "source": [
    "# NOTE: 初始化 db_tokens\n",
    "import pymongo\n",
    "client = pymongo.MongoClient('mongodb://localhost:27017')\n",
    "db_tokens = client['year_tokens']"
   ],
   "outputs": [],
   "metadata": {}
  },
  {
   "cell_type": "code",
   "execution_count": null,
   "source": [
    "# NOTE: 从数据库中取 year_tokens\n",
    "year_tokens = {}\n",
    "for year in db_tokens.list_collection_names():\n",
    "    for paper in db_tokens[year].find({}, {'_id': 0}):\n",
    "        if year not in year_tokens: year_tokens[year] = [(paper['doi'], paper['title'], paper['tokens'])]\n",
    "        else: year_tokens[year].append((paper['doi'], paper['title'], paper['tokens']))\n",
    "\n",
    "# print(year_tokens['2020'])"
   ],
   "outputs": [],
   "metadata": {}
  },
  {
   "cell_type": "code",
   "execution_count": null,
   "source": [
    "year_tokens['2020']"
   ],
   "outputs": [],
   "metadata": {}
  },
  {
   "cell_type": "code",
   "execution_count": null,
   "source": [
    "all_tokens = []\n",
    "for year in year_tokens:\n",
    "    for tup in year_tokens[year]:\n",
    "        doi, title, token_lst = tup\n",
    "        # print(set(token_lst))\n",
    "        # break\n",
    "        all_tokens += token_lst\n",
    "        # print(all_tokens)\n",
    "        # break\n",
    "    # break\n",
    "# print(1)\n",
    "# print(all_tokens[:100])\n",
    "# all_token = set(tuple(all_tokens))\n",
    "print(len(all_tokens))\n",
    "all_tokens_set = set(all_tokens)"
   ],
   "outputs": [],
   "metadata": {}
  },
  {
   "cell_type": "code",
   "execution_count": null,
   "source": [
    "count = 0\n",
    "chems = set()\n",
    "for token in all_tokens_set:\n",
    "    try:\n",
    "        if len(Document(token).cems) != 0:\n",
    "            count += 1\n",
    "            chems.add(token)\n",
    "    except KeyboardInterrupt: print(count)\n",
    "print(count)\n",
    "print(len(chems))"
   ],
   "outputs": [],
   "metadata": {}
  },
  {
   "cell_type": "code",
   "execution_count": null,
   "source": [
    "count = 0\n",
    "\n",
    "for t in all_tokens:\n",
    "    try:\n",
    "        if t in chems: count += 1\n",
    "    except: KeyboardInterrupt: print(count)\n",
    "print(count)"
   ],
   "outputs": [],
   "metadata": {}
  },
  {
   "cell_type": "code",
   "execution_count": null,
   "source": [
    "print(len(all_tokens))"
   ],
   "outputs": [],
   "metadata": {}
  },
  {
   "cell_type": "code",
   "execution_count": null,
   "source": [
    "print(year_tokens['2020'][0])"
   ],
   "outputs": [],
   "metadata": {}
  },
  {
   "cell_type": "code",
   "execution_count": null,
   "source": [
    "# NOTE: 建立语料库\n",
    "from gensim import utils\n",
    "\n",
    "class Corpus:\n",
    "    def __iter__(self):\n",
    "        for year in year_tokens:\n",
    "            token_lst = year_tokens[year]\n",
    "            for tup in token_lst:\n",
    "                tokens = tup[-1]\n",
    "                yield tokens\n",
    "\n",
    "corpus = Corpus()"
   ],
   "outputs": [],
   "metadata": {}
  },
  {
   "cell_type": "markdown",
   "source": [
    "## With Punctuation"
   ],
   "metadata": {}
  },
  {
   "cell_type": "code",
   "execution_count": null,
   "source": [
    "# NOTE: 初始化 db_tokens_punct\n",
    "import pymongo\n",
    "client = pymongo.MongoClient('mongodb://localhost:27017')\n",
    "db_tokens_punct = client['year_tokens_punct_test']"
   ],
   "outputs": [],
   "metadata": {}
  },
  {
   "cell_type": "code",
   "execution_count": null,
   "source": [
    "year_tokens_punct = {}\n",
    "for year in db_tokens_punct.list_collection_names():\n",
    "    for paper in db_tokens_punct[year].find({}, {'_id': 0}):\n",
    "        if year not in year_tokens_punct: year_tokens_punct[year] = [(paper['doi'], paper['title'], paper['tokens'])]\n",
    "        else: year_tokens_punct[year].append((paper['doi'], paper['title'], paper['tokens']))\n"
   ],
   "outputs": [],
   "metadata": {}
  },
  {
   "cell_type": "markdown",
   "source": [
    "### All Years"
   ],
   "metadata": {}
  },
  {
   "cell_type": "code",
   "execution_count": null,
   "source": [
    "# NOTE: set\n",
    "all_tokens_punct = []\n",
    "for year in year_tokens_punct:\n",
    "    for tup in year_tokens_punct[year]:\n",
    "        doi, title, token_lst = tup\n",
    "        # print(set(token_lst))\n",
    "        # break\n",
    "        all_tokens_punct += token_lst\n",
    "        # print(all_tokens)\n",
    "        # break\n",
    "    # break\n",
    "# print(1)\n",
    "# print(all_tokens[:100])\n",
    "all_tokens_punct = set(tuple(all_tokens_punct))\n",
    "print(len(all_tokens_punct))"
   ],
   "outputs": [],
   "metadata": {}
  },
  {
   "cell_type": "code",
   "execution_count": null,
   "source": [
    "import spacy\n",
    "\n",
    "nlp = spacy.load('en_core_web_sm')\n",
    "doc = nlp('I were 10 years old.')\n",
    "type(doc[1].lemma_)"
   ],
   "outputs": [],
   "metadata": {}
  },
  {
   "cell_type": "code",
   "execution_count": null,
   "source": [
    "# NOTE: not set\n",
    "import spacy\n",
    "\n",
    "nlp = spacy.load('en_core_web_sm')\n",
    "\n",
    "all_tokens_punct = []\n",
    "for year in year_tokens_punct:\n",
    "    for tup in year_tokens_punct[year]:\n",
    "        doi, title, token_lst = tup\n",
    "        # print(set(token_lst))\n",
    "        # break\n",
    "        all_tokens_punct += token_lst\n",
    "        # print(all_tokens)\n",
    "        # break\n",
    "    # break\n",
    "# print(1)\n",
    "# print(all_tokens[:100])\n",
    "print(len(all_tokens_punct))\n"
   ],
   "outputs": [],
   "metadata": {}
  },
  {
   "cell_type": "code",
   "execution_count": null,
   "source": [
    "for i in range(520):\n",
    "    all_words = ' '.join(all_tokens_punct[int(f'{i}00000'):int(f'{i+1}00000')])\n",
    "    doc = nlp(all_words)\n",
    "    print(i, end = ' ')\n",
    "print(1)"
   ],
   "outputs": [],
   "metadata": {}
  },
  {
   "cell_type": "code",
   "execution_count": null,
   "source": [
    "# NOTE: 建立语料库\n",
    "from gensim import utils\n",
    "\n",
    "class Corpus:\n",
    "    def __iter__(self):\n",
    "        for year in year_tokens_punct:\n",
    "            token_lst = year_tokens_punct[year]\n",
    "            for tup in token_lst:\n",
    "                tokens = tup[-1]\n",
    "                yield tokens\n",
    "\n",
    "corpus = Corpus()"
   ],
   "outputs": [],
   "metadata": {}
  },
  {
   "cell_type": "code",
   "execution_count": null,
   "source": [
    "print(year_tokens_punct['2000'][0][-1])"
   ],
   "outputs": [],
   "metadata": {}
  },
  {
   "cell_type": "code",
   "execution_count": null,
   "source": [
    "counts = {'o-SWCNH': 0, 'H2NiO2': 0, 'MnO2':0, 'PPy':0, 'GOx':0, 'ITO':0, 'RVC':0, 'PEDOT':0, 'La4Mn5O15Sr':0, 'ScSZ':0}\n",
    "for w in all_tokens_punct:\n",
    "    if w in counts: counts[w] += 1\n",
    "print(counts)\n",
    "print(len(all_tokens_punct))"
   ],
   "outputs": [],
   "metadata": {}
  },
  {
   "cell_type": "markdown",
   "source": [
    "### One Year"
   ],
   "metadata": {}
  },
  {
   "cell_type": "code",
   "execution_count": null,
   "source": [
    "year = 2000"
   ],
   "outputs": [],
   "metadata": {}
  },
  {
   "cell_type": "code",
   "execution_count": null,
   "source": [
    "# NOTE: visited\n",
    "visited = []\n",
    "for y in range(1998, year):\n",
    "    for tup in year_tokens_punct[str(y)]:\n",
    "        doi, title, token_lst = tup\n",
    "        visited += token_lst\n",
    "print(len(visited))\n",
    "# print(visited[:100])"
   ],
   "outputs": [],
   "metadata": {}
  },
  {
   "cell_type": "code",
   "execution_count": null,
   "source": [
    "def add_visit(visited, year):\n",
    "    for tup in year_tokens_punct[str(year)]:\n",
    "        doi, title, token_lst = tup\n",
    "        visited += token_lst\n"
   ],
   "outputs": [],
   "metadata": {}
  },
  {
   "cell_type": "code",
   "execution_count": null,
   "source": [
    "# NOTE: 建立语料库\n",
    "from gensim import utils\n",
    "\n",
    "class Corpus:\n",
    "    def __init__(self, )\n",
    "    def __iter__(self):\n",
    "        token_lst = visited[:]\n",
    "        yield token_lst\n",
    "\n",
    "print(len(visited))\n",
    "corpus = Corpus()"
   ],
   "outputs": [],
   "metadata": {}
  },
  {
   "cell_type": "markdown",
   "source": [
    "# Table"
   ],
   "metadata": {}
  },
  {
   "cell_type": "code",
   "execution_count": null,
   "source": [
    "all_tokens_punct = []\n",
    "for year in year_tokens_punct:\n",
    "    for tup in year_tokens_punct[year]:\n",
    "        doi, title, token_lst = tup\n",
    "        all_tokens_punct += token_lst"
   ],
   "outputs": [],
   "metadata": {}
  },
  {
   "cell_type": "markdown",
   "source": [
    "## Electrolyte"
   ],
   "metadata": {}
  },
  {
   "cell_type": "code",
   "execution_count": null,
   "source": [
    "# NOTE: all year\n",
    "materials = {'CGO':0, 'TEGDME':0, 'ClLi':0, 'Ce0.8Sm0.2O2-d':0, 'La0.9Sr0.1Ga0.8Mg0.2O3-d':0, 'LSCF':0, 'ClK':0, 'GDC':0, 'La0.8Sr0.2Ga0.8Mg0.2O3-d':0, 'LiNO3':0}\n",
    "\n",
    "maximum = 0\n",
    "\n",
    "for t in all_tokens_punct:\n",
    "    if t in materials: \n",
    "        materials[t] += 1\n",
    "        if materials[t] > maximum: maximum = materials[t]\n",
    "\n",
    "for t in materials:\n",
    "    materials[t] /= maximum\n",
    "\n",
    "data = []\n",
    "for t in materials:\n",
    "    data.append(materials[t])\n",
    "data.sort()\n",
    "print([x/max(data) for x in data])  \n",
    "print(maximum) \n",
    "pprint(materials)\n",
    "    "
   ],
   "outputs": [],
   "metadata": {}
  },
  {
   "cell_type": "code",
   "execution_count": null,
   "source": [
    "# NOTE: use each year as maximum\n",
    "import pandas as pd\n",
    "from pprint import pprint\n",
    "\n",
    "materials = {'CGO':[0], 'TEGDME':[0], 'ClLi':[0], 'Ce0.8Sm0.2O2-d':[0], 'La0.9Sr0.1Ga0.8Mg0.2O3-d':[0], 'LSCF':[0], 'ClK':[0], 'LiTFSI':[0], 'La0.8Sr0.2Ga0.8Mg0.2O3-d':[0], 'LiNO3':[0]}\n",
    "\n",
    "\n",
    "all_tokens_punct = []\n",
    "for year in range(2001, 2022):\n",
    "    maximum = 0\n",
    "    for i in materials: materials[i].append(0)\n",
    "    year = str(year)\n",
    "    for tup in year_tokens_punct[year]:\n",
    "        doi, title, token_lst = tup\n",
    "        all_tokens_punct += token_lst\n",
    "    for i in all_tokens_punct:\n",
    "        if i in materials: \n",
    "            # print(materials[i])\n",
    "            materials[i][-1] += 1\n",
    "            materials[i][0] += 1\n",
    "            if materials[i][-1] > maximum: maximum = materials[i][-1]\n",
    "    \n",
    "    for t in materials: materials[t][-1] /= maximum\n",
    "    \n",
    "tot_max = 0\n",
    "for i in materials:\n",
    "    if materials[i][0] > maximum: maximum = materials[i][0]\n",
    "\n",
    "for i in materials:\n",
    "    materials[i][0] /= maximum\n",
    "\n",
    "print(materials)\n",
    "\n",
    "table = [x for x in materials.values()]\n",
    "i = 0\n",
    "table = [x for x in materials.values()]\n",
    "# for m in materials: \n",
    "#     table[i].insert(0, m)\n",
    "#     i += 1\n",
    "# print(table)\n"
   ],
   "outputs": [],
   "metadata": {}
  },
  {
   "cell_type": "code",
   "execution_count": null,
   "source": [
    "# NOTE: Use most frequency as maximum\n",
    "import pandas as pd\n",
    "from pprint import pprint\n",
    "\n",
    "materials = {'CGO':[0], 'TEGDME':[0], 'ClLi':[0], 'Ce0.8Sm0.2O2-d':[0], 'La0.9Sr0.1Ga0.8Mg0.2O3-d':[0], 'LSCF':[0], 'ClK':[0], 'LiTFSI':[0], 'La0.8Sr0.2Ga0.8Mg0.2O3-d':[0], 'LiNO3':[0]}\n",
    "\n",
    "\n",
    "all_tokens_punct = []\n",
    "\n",
    "for year in range(2001, 2022):\n",
    "    # maximum = 0\n",
    "    for i in materials: materials[i].append(0)\n",
    "    year = str(year)\n",
    "    for tup in year_tokens_punct[year]:\n",
    "        doi, title, token_lst = tup\n",
    "        all_tokens_punct += token_lst\n",
    "    for i in all_tokens_punct:\n",
    "        if i in materials: \n",
    "            # print(materials[i])\n",
    "            materials[i][-1] += 1\n",
    "            materials[i][0] += 1\n",
    "            if materials[i][-1] > maximum: maximum = materials[i][-1]\n",
    "    \n",
    "    for t in materials: materials[t][-1] /= maximum\n",
    "    \n",
    "tot_max = 0\n",
    "for i in materials:\n",
    "    if materials[i][0] > maximum: maximum = materials[i][0]\n",
    "\n",
    "for i in materials:\n",
    "    materials[i][0] /= maximum\n",
    "\n",
    "print(materials)\n",
    "\n",
    "table = [x for x in materials.values()]\n",
    "i = 0\n",
    "table = [x for x in materials.values()]\n",
    "# for m in materials: \n",
    "#     table[i].insert(0, m)\n",
    "#     i += 1\n",
    "# print(table)"
   ],
   "outputs": [],
   "metadata": {}
  },
  {
   "cell_type": "code",
   "execution_count": null,
   "source": [
    "c = list(range(2001, 2022))\n",
    "c.insert(0, 'Total')\n",
    "df = pd.DataFrame(table, index=['CGO', 'TEGDME', 'ClLi', 'Ce0.8Sm0.2O2-d', 'La0.9Sr0.1Ga0.8Mg0.2O3-d', 'LSCF', 'ClK', 'LiTFSI', 'La0.8Sr0.2Ga0.8Mg0.2O3-d', 'LiNO3'], columns=c)\n",
    "\n",
    "df.to_csv('table5.csv')"
   ],
   "outputs": [],
   "metadata": {}
  },
  {
   "cell_type": "code",
   "execution_count": null,
   "source": [
    "import pandas as pd\n",
    "from pprint import pprint\n",
    "\n",
    "materials = {'h2electrode', 'ASRelectrode', '3-electrode', '2-electrode', '4-electrode', 'counter-electrode', 'bio-electrode', 'gelectrode-1', 'h2electrodes', 'oxygen-electrode', 'rotating-disk-electrode', 'electrogen', 'as-electrospun', 'exoelectrogen', 'exoelectrogens', 'multi-anode', '(bio)electrochemical', 'diode', 'non-exoelectrogens', '(electro)catalytic', '(photo)electrocatalysts', 'electron-oxygen', 'cosubstrate', 'h-cathodic', '(photo)electrolysis', '1-electron', '8-electron', 'co-substrates', '18-electron', '12-electron', 'parathion', '6-electron', '2-electron', 'non-electron', '4-electron', 'quasi-four-electron'}\n",
    "visited = set()\n",
    "\n",
    "counts = []\n",
    "for year in range(2001, 2022):\n",
    "    all_tokens_punct = []\n",
    "    count = 0\n",
    "    year = str(year)\n",
    "    for tup in year_tokens_punct[year]:\n",
    "        doi, title, token_lst = tup\n",
    "        all_tokens_punct += token_lst\n",
    "    for i in all_tokens_punct:\n",
    "        if i in materials and i not in visited: \n",
    "            # print(materials[i])\n",
    "            visited.add(i)\n",
    "            count += 1\n",
    "    counts.append(count)\n",
    "\n",
    "print(counts[9:])    \n",
    "\n",
    "\n"
   ],
   "outputs": [],
   "metadata": {}
  },
  {
   "cell_type": "code",
   "execution_count": null,
   "source": [
    "# list(materials)\n",
    "i = 0\n",
    "table = [x for x in materials.values()]\n",
    "for m in materials: \n",
    "    print(f'\\'{m}\\',', end = ' ')\n",
    "    # table[i].insert(0, m)\n",
    "    # i += 1\n",
    "# print(table)"
   ],
   "outputs": [],
   "metadata": {}
  },
  {
   "cell_type": "code",
   "execution_count": null,
   "source": [
    "all_tokens_punct = []\n",
    "year = '2007'\n",
    "\n",
    "\n",
    "for tup in year_tokens_punct[year]:\n",
    "    doi, title, token_lst = tup\n",
    "    all_tokens_punct += token_lst\n",
    "    \n",
    "all_tokens_punct = set(tuple(all_tokens_punct))\n",
    "print(len(all_tokens_punct))"
   ],
   "outputs": [],
   "metadata": {}
  },
  {
   "cell_type": "code",
   "execution_count": null,
   "source": [
    "import pandas as pd\n",
    "\n",
    "materials = ['CGO', 'TEGDME', 'ClLi', 'Ce0.8Sm0.2O2-d', 'La0.9Sr0.1Ga0.8Mg0.2O3-d', 'LSCF', 'ClK', 'LiTFSI', 'La0.8Sr0.2Ga0.8Mg0.2O3-d', 'LiNO3']\n",
    "\n",
    "for year in range(2001, 2022):\n",
    "    "
   ],
   "outputs": [],
   "metadata": {}
  },
  {
   "cell_type": "code",
   "execution_count": null,
   "source": [
    "year_papers_num = []\n",
    "for y in range(2000, 2022):\n",
    "    year_papers_num.append(len(year_tokens_punct[str(y)]))\n",
    "print(year_papers_num)\n"
   ],
   "outputs": [],
   "metadata": {}
  },
  {
   "cell_type": "markdown",
   "source": [
    "## Electrode"
   ],
   "metadata": {}
  },
  {
   "cell_type": "code",
   "execution_count": null,
   "source": [
    "# NOTE: all year\n",
    "import pandas as pd\n",
    "from pprint import pprint\n",
    "\n",
    "materials = {'GOx':0, 'PEDOT':0, 'RVC':0, 'ScSZ':0, 'ITO':0, 'o-SWCNH':0, 'PPy':0, 'MnO2':0, 'La4Mn5O15Sr':0, 'H2NiO2':0}\n",
    "\n",
    "maximum = 0\n",
    "\n",
    "for t in all_tokens_punct:\n",
    "    if t in materials: \n",
    "        materials[t] += 1\n",
    "        if materials[t] > maximum: maximum = materials[t]\n",
    "\n",
    "for t in materials:\n",
    "    materials[t] /= maximum\n",
    "\n",
    "data = []\n",
    "for t in materials:\n",
    "    data.append(materials[t])\n",
    "data.sort()\n",
    "print([x/max(data) for x in data])  \n",
    "print(maximum) \n",
    "pprint(materials)"
   ],
   "outputs": [],
   "metadata": {}
  },
  {
   "cell_type": "code",
   "execution_count": null,
   "source": [
    "# NOTE: use each year as maximum\n",
    "import pandas as pd\n",
    "from pprint import pprint\n",
    "\n",
    "materials = {'GOx':[0], 'PEDOT':[0], 'RVC':[0], 'ScSZ':[0], 'ITO':[0], 'o-SWCNH':[0], 'PPy':[0], 'MnO2':[0], 'La4Mn5O15Sr':[0], 'H2NiO2':[0]}\n",
    "\n",
    "\n",
    "all_tokens_punct = []\n",
    "for year in range(2001, 2022):\n",
    "    maximum = 0\n",
    "    for i in materials: materials[i].append(0)\n",
    "    year = str(year)\n",
    "    for tup in year_tokens_punct[year]:\n",
    "        doi, title, token_lst = tup\n",
    "        all_tokens_punct += token_lst\n",
    "    for i in all_tokens_punct:\n",
    "        if i in materials: \n",
    "            # print(materials[i])\n",
    "            materials[i][-1] += 1\n",
    "            materials[i][0] += 1\n",
    "            if materials[i][-1] > maximum: maximum = materials[i][-1]\n",
    "    \n",
    "    for t in materials: materials[t][-1] /= maximum\n",
    "    \n",
    "tot_max = 0\n",
    "for i in materials:\n",
    "    if materials[i][0] > maximum: maximum = materials[i][0]\n",
    "\n",
    "for i in materials:\n",
    "    materials[i][0] /= maximum\n",
    "\n",
    "print(materials)\n",
    "\n",
    "table = [x for x in materials.values()]\n",
    "i = 0\n",
    "table = [x for x in materials.values()]\n",
    "# for m in materials: \n",
    "#     table[i].insert(0, m)\n",
    "#     i += 1\n",
    "# print(table)"
   ],
   "outputs": [],
   "metadata": {}
  },
  {
   "cell_type": "code",
   "execution_count": null,
   "source": [
    "# NOTE: Use most frequency as maximum\n",
    "import pandas as pd\n",
    "from pprint import pprint\n",
    "\n",
    "materials = {'GOx':[0], 'PEDOT':[0], 'RVC':[0], 'ScSZ':[0], 'ITO':[0], 'o-SWCNH':[0], 'PPy':[0], 'MnO2':[0], 'La4Mn5O15Sr':[0], 'H2NiO2':[0]}\n",
    "\n",
    "\n",
    "all_tokens_punct = []\n",
    "\n",
    "for year in range(2001, 2022):\n",
    "    # maximum = 0\n",
    "    for i in materials: materials[i].append(0)\n",
    "    year = str(year)\n",
    "    for tup in year_tokens_punct[year]:\n",
    "        doi, title, token_lst = tup\n",
    "        all_tokens_punct += token_lst\n",
    "    for i in all_tokens_punct:\n",
    "        if i in materials: \n",
    "            # print(materials[i])\n",
    "            materials[i][-1] += 1\n",
    "            materials[i][0] += 1\n",
    "            if materials[i][-1] > maximum: maximum = materials[i][-1]\n",
    "    \n",
    "    for t in materials: materials[t][-1] /= maximum\n",
    "    \n",
    "tot_max = 0\n",
    "for i in materials:\n",
    "    if materials[i][0] > maximum: maximum = materials[i][0]\n",
    "\n",
    "for i in materials:\n",
    "    materials[i][0] /= maximum\n",
    "\n",
    "print(materials)\n",
    "\n",
    "table = [x for x in materials.values()]\n",
    "i = 0\n",
    "table = [x for x in materials.values()]\n",
    "# for m in materials: \n",
    "#     table[i].insert(0, m)\n",
    "#     i += 1\n",
    "# print(table)"
   ],
   "outputs": [],
   "metadata": {}
  },
  {
   "cell_type": "code",
   "execution_count": null,
   "source": [
    "c = list(range(2001, 2022))\n",
    "c.insert(0, 'Total')\n",
    "df = pd.DataFrame(table, index=['GOx', 'PEDOT', 'RVC', 'ScSZ', 'ITO', 'o-SWCNH', 'PPy', 'MnO2', 'La4Mn5O15Sr', 'H2NiO2'], columns=c)\n",
    "\n",
    "df.to_csv('table4.csv')"
   ],
   "outputs": [],
   "metadata": {}
  },
  {
   "cell_type": "markdown",
   "source": [
    "# Word2Vec"
   ],
   "metadata": {}
  },
  {
   "cell_type": "markdown",
   "source": [
    "## Training"
   ],
   "metadata": {}
  },
  {
   "cell_type": "code",
   "execution_count": null,
   "source": [
    "# NOTE: To train w2v_model\n",
    "import gensim.models\n",
    "\n",
    "# for i in corpus: print(i)\n",
    "w2v_model = gensim.models.Word2Vec(corpus, vector_size=300) # best: 300"
   ],
   "outputs": [],
   "metadata": {}
  },
  {
   "cell_type": "markdown",
   "source": [
    "## Loading"
   ],
   "metadata": {}
  },
  {
   "cell_type": "code",
   "execution_count": 4,
   "source": [
    "import gensim.models\n",
    "\n",
    "# NOTE: To store models\n",
    "# w2v_model.save('Models/w2v.model')\n",
    "\n",
    "# NOTE: To load models\n",
    "w2v_model = gensim.models.Word2Vec.load('Models/w2v.model')"
   ],
   "outputs": [],
   "metadata": {}
  },
  {
   "cell_type": "markdown",
   "source": [
    "## Analyzing"
   ],
   "metadata": {}
  },
  {
   "cell_type": "code",
   "execution_count": null,
   "source": [
    "w2v_model.wv.index_to_key"
   ],
   "outputs": [],
   "metadata": {}
  },
  {
   "cell_type": "code",
   "execution_count": null,
   "source": [
    "w2v_model.wv.most_similar('electrode', topn=20)"
   ],
   "outputs": [],
   "metadata": {}
  },
  {
   "cell_type": "code",
   "execution_count": null,
   "source": [
    "result = w2v_model.wv.most_similar('fuelcell', topn=100)\n",
    "for i in result:\n",
    "    print(f'\\'{i[0]}\\',', end = ' ')"
   ],
   "outputs": [],
   "metadata": {}
  },
  {
   "cell_type": "code",
   "execution_count": null,
   "source": [
    "from chemdataextractor import Document\n",
    "import re\n",
    "\n",
    "result = w2v_model.wv.most_similar('electrode', topn=2000)\n",
    "chems = []\n",
    "# print(result)\n",
    "rule = re.compile(r'.*FC')\n",
    "for i in result:\n",
    "    doc = Document(i[0]).cems\n",
    "    if len(doc) != 0 and not rule.match(i[0]): \n",
    "        # chems.append(i[0])\n",
    "        print(i, end = ' ')\n",
    "\n",
    "        # print(f'\\'{i}\\'', end=', ')\n",
    "\n",
    "# print(chems)\n"
   ],
   "outputs": [],
   "metadata": {}
  },
  {
   "cell_type": "markdown",
   "source": [
    "## New Prediction"
   ],
   "metadata": {}
  },
  {
   "cell_type": "code",
   "execution_count": null,
   "source": [
    "# NOTE: 初始化 db_tokens\n",
    "import pymongo\n",
    "client = pymongo.MongoClient('mongodb://localhost:27017')\n",
    "db_tokens_punct = client['year_tokens_punct_test']"
   ],
   "outputs": [],
   "metadata": {}
  },
  {
   "cell_type": "code",
   "execution_count": null,
   "source": [
    "year_tokens_punct = {}\n",
    "for year in db_tokens_punct.list_collection_names():\n",
    "    for paper in db_tokens_punct[year].find({}, {'_id': 0}):\n",
    "        if year not in year_tokens_punct: year_tokens_punct[year] = [(paper['doi'], paper['title'], paper['tokens'])]\n",
    "        else: year_tokens_punct[year].append((paper['doi'], paper['title'], paper['tokens']))\n"
   ],
   "outputs": [],
   "metadata": {}
  },
  {
   "cell_type": "code",
   "execution_count": null,
   "source": [
    "all_tokens_punct = []\n",
    "for year in year_tokens_punct:\n",
    "    for tup in year_tokens_punct[year]:\n",
    "        doi, title, token_lst = tup\n",
    "\n",
    "        all_tokens_punct += token_lst\n",
    "\n",
    "all_tokens_punct = list(set(tuple(all_tokens_punct)))\n",
    "print(len(all_tokens_punct))\n"
   ],
   "outputs": [],
   "metadata": {}
  },
  {
   "cell_type": "code",
   "execution_count": null,
   "source": [
    "def add_tokens(tokens, year):\n",
    "    for i in year_tokens_punct[str(year)]:\n",
    "        tokens += i[2]"
   ],
   "outputs": [],
   "metadata": {}
  },
  {
   "cell_type": "code",
   "execution_count": null,
   "source": [
    "class Corpus:\n",
    "    def __init__(self, tokens):\n",
    "        self.tokens = tokens[:]\n",
    "    def __iter__(self):\n",
    "        yield self.tokens"
   ],
   "outputs": [],
   "metadata": {}
  },
  {
   "cell_type": "code",
   "execution_count": null,
   "source": [
    "visited = set()\n",
    "table = [[], []]\n",
    "all_tokens = []\n",
    "for y in range(2000, 2021):\n",
    "    \n",
    "    count = 0\n",
    "    add_tokens(all_tokens, y)\n",
    "    corpus = Corpus(all_tokens)\n",
    "    w2v_model = gensim.models.Word2Vec(corpus, vector_size=300) # training model\n",
    "\n",
    "\n",
    "    APP = 'electrode'\n",
    "    result = w2v_model.wv.most_similar(APP, topn=2000)\n",
    "    candidates = set()\n",
    "    # print(result)\n",
    "    rule = re.compile(r'.*FC')\n",
    "    index = 0\n",
    "    for i in result:\n",
    "        doc = Document(i[0]).cems\n",
    "        if index < 200 and len(doc) != 0 and not rule.match(i[0]): \n",
    "            index += 1\n",
    "            # print(i[0], end = ' ')\n",
    "            candidates.add(i[0])\n",
    "\n",
    "            \n",
    "    materials = []\n",
    "\n",
    "    next_year_tokens = []\n",
    "    add_tokens(next_year_tokens, y+1)\n",
    "\n",
    "\n",
    "    # print(all_tokens)\n",
    "    for index, token in enumerate(next_year_tokens):\n",
    "        if token == APP:\n",
    "        # if token == 'electrolyte':\n",
    "            for i in range(index-3, index+4):\n",
    "                if next_year_tokens[i] in candidates and next_year_tokens[i] not in visited:\n",
    "                    count += 1\n",
    "                    materials.append(next_year_tokens[i])\n",
    "                    visited.add(next_year_tokens[i])\n",
    "    # print(count, materials[y-2000])\n",
    "    table[0].append(count)\n",
    "    table[1].append(materials)\n",
    "    # break\n",
    "print(table)"
   ],
   "outputs": [],
   "metadata": {}
  },
  {
   "cell_type": "code",
   "execution_count": null,
   "source": [
    "c = list(range(2001, 2022))\n",
    "\n",
    "df = pd.DataFrame(table, index=['Count', 'Materials'], columns=c)\n",
    "\n",
    "df.to_csv('prediction_electrode.csv')\n",
    "df"
   ],
   "outputs": [],
   "metadata": {}
  },
  {
   "cell_type": "code",
   "execution_count": null,
   "source": [
    "# NOTE: random candidates\n",
    "table = [[], []]\n",
    "\n",
    "candidates = set()\n",
    "print(all_tokens_punct[:10])\n",
    "\n",
    "for i in all_tokens_punct:\n",
    "    doc = Document(i).cems\n",
    "    # print(i)\n",
    "    if len(candidates) <= 2000:\n",
    "        if len(doc) != 0 and i not in candidates: \n",
    "            # print(f'{len(candidates)}: {i}', end = ' ')\n",
    "            candidates.add(i)\n",
    "    else: break\n",
    "    \n",
    "print()\n",
    "# print(candidates)\n",
    "candidates = list(candidates)\n",
    "\n",
    "print(1)\n",
    "for y in range(2000, 2021):\n",
    "    \n",
    "    count = 0\n",
    "    \n",
    "    APP = 'electrode'\n",
    "    \n",
    "    top_200 = [choice(candidates) for i in range(200)]\n",
    "\n",
    "    materials = []\n",
    "\n",
    "    next_year_tokens = []\n",
    "    add_tokens(next_year_tokens, y+1)\n",
    "\n",
    "    for index, token in enumerate(next_year_tokens):\n",
    "        if token == APP:\n",
    "            for i in range(index-3, index+4):\n",
    "                if next_year_tokens[i] in top_200:\n",
    "                    count += 1\n",
    "                    materials.append(next_year_tokens[i])\n",
    "\n",
    "    # print(count, materials[y-2000])\n",
    "    table[0].append(count)\n",
    "    table[1].append(materials)\n",
    "    # break\n",
    "    print(y)\n",
    "print(table)"
   ],
   "outputs": [],
   "metadata": {}
  },
  {
   "cell_type": "markdown",
   "source": [
    "### Prediction"
   ],
   "metadata": {}
  },
  {
   "cell_type": "code",
   "execution_count": null,
   "source": [
    "def add_tokens(tokens, year):\n",
    "    for tup in year_tokens_punct[str(year)]:\n",
    "        doi, title, token_lst = tup\n",
    "        tokens += token_lst"
   ],
   "outputs": [],
   "metadata": {}
  },
  {
   "cell_type": "code",
   "execution_count": null,
   "source": [
    "class Corpus:\n",
    "    def __init__(self, tokens):\n",
    "        self.tokens = tokens[:]\n",
    "    def __iter__(self):\n",
    "        yield self.tokens"
   ],
   "outputs": [],
   "metadata": {}
  },
  {
   "cell_type": "code",
   "execution_count": null,
   "source": [
    "def co_occur(year):\n",
    "    "
   ],
   "outputs": [],
   "metadata": {}
  },
  {
   "cell_type": "code",
   "execution_count": null,
   "source": [
    "ELEMENTS = {\"H\", \"He\", \"Li\", \"Be\", \"B\", \"C\", \"N\", \"O\", \"F\", \"Ne\", \"Na\", \"Mg\", \"Al\", \"Si\", \"P\", \"S\", \"Cl\", \"Ar\", \"K\",\n",
    "                \"Ca\", \"Sc\", \"Ti\", \"V\", \"Cr\", \"Mn\", \"Fe\", \"Co\", \"Ni\", \"Cu\", \"Zn\", \"Ga\", \"Ge\", \"As\", \"Se\", \"Br\", \"Kr\",\n",
    "                \"Rb\", \"Sr\", \"Y\", \"Zr\", \"Nb\", \"Mo\", \"Tc\", \"Ru\", \"Rh\", \"Pd\", \"Ag\", \"Cd\", \"In\", \"Sn\", \"Sb\", \"Te\", \"I\",\n",
    "                \"Xe\", \"Cs\", \"Ba\", \"La\", \"Ce\", \"Pr\", \"Nd\", \"Pm\", \"Sm\", \"Eu\", \"Gd\", \"Tb\", \"Dy\", \"Ho\", \"Er\", \"Tm\", \"Yb\",\n",
    "                \"Lu\", \"Hf\", \"Ta\", \"W\", \"Re\", \"Os\", \"Ir\", \"Pt\", \"Au\", \"Hg\", \"Tl\", \"Pb\", \"Bi\", \"Po\", \"At\", \"Rn\", \"Fr\",\n",
    "                \"Ra\", \"Ac\", \"Th\", \"Pa\", \"U\", \"Np\", \"Pu\", \"Am\", \"Cm\", \"Bk\", \"Cf\", \"Es\", \"Fm\", \"Md\", \"No\", \"Lr\", \"Rf\",\n",
    "                \"Db\", \"Sg\", \"Bh\", \"Hs\", \"Mt\", \"Ds\", \"Rg\", \"Cn\", \"Nh\", \"Fl\", \"Mc\", \"Lv\", \"Ts\", \"Og\", \"Uue\"}\n",
    "\n",
    "ELEMENT_NAMES = {\"hydrogen\", \"helium\", \"lithium\", \"beryllium\", \"boron\", \"carbon\", \"nitrogen\", \"oxygen\", \"fluorine\",\n",
    "                    \"neon\", \"sodium\", \"magnesium\", \"aluminium\", \"silicon\", \"phosphorus\", \"sulfur\", \"chlorine\", \"argon\",\n",
    "                    \"potassium\", \"calcium\", \"scandium\", \"titanium\", \"vanadium\", \"chromium\", \"manganese\", \"iron\",\n",
    "                    \"cobalt\", \"nickel\", \"copper\", \"zinc\", \"gallium\", \"germanium\", \"arsenic\", \"selenium\", \"bromine\",\n",
    "                    \"krypton\", \"rubidium\", \"strontium\", \"yttrium\", \"zirconium\", \"niobium\", \"molybdenum\", \"technetium\",\n",
    "                    \"ruthenium\", \"rhodium\", \"palladium\", \"silver\", \"cadmium\", \"indium\", \"tin\", \"antimony\", \"tellurium\",\n",
    "                    \"iodine\", \"xenon\", \"cesium\", \"barium\", \"lanthanum\", \"cerium\", \"praseodymium\", \"neodymium\",\n",
    "                    \"promethium\", \"samarium\", \"europium\", \"gadolinium\", \"terbium\", \"dysprosium\", \"holmium\", \"erbium\",\n",
    "                    \"thulium\", \"ytterbium\", \"lutetium\", \"hafnium\", \"tantalum\", \"tungsten\", \"rhenium\", \"osmium\",\n",
    "                    \"iridium\", \"platinum\", \"gold\", \"mercury\", \"thallium\", \"lead\", \"bismuth\", \"polonium\", \"astatine\",\n",
    "                    \"radon\", \"francium\", \"radium\", \"actinium\", \"thorium\", \"protactinium\", \"uranium\", \"neptunium\",\n",
    "                    \"plutonium\", \"americium\", \"curium\", \"berkelium\", \"californium\", \"einsteinium\", \"fermium\",\n",
    "                    \"mendelevium\", \"nobelium\", \"lawrencium\", \"rutherfordium\", \"dubnium\", \"seaborgium\", \"bohrium\",\n",
    "                    \"hassium\", \"meitnerium\", \"darmstadtium\", \"roentgenium\", \"copernicium\", \"nihonium\", \"flerovium\",\n",
    "                    \"moscovium\", \"livermorium\", \"tennessine\", \"oganesson\", \"ununennium\"}"
   ],
   "outputs": [],
   "metadata": {}
  },
  {
   "cell_type": "code",
   "execution_count": null,
   "source": [
    "# NOTE: tokens\n",
    "tokens = []\n",
    "visited = set()\n",
    "count = 0\n",
    "table = [[0] * 22, [[] for i in range(22)]]\n",
    "\n",
    "for end_year in range(2000, 2022):\n",
    "    # print(f'year: {end_year}', end=', ')\n",
    "\n",
    "    add_tokens(tokens, end_year)  \n",
    "    # print(len(tokens))\n",
    "\n",
    "    corpus = Corpus(tokens)\n",
    "\n",
    "    # training models\n",
    "    w2v_model = gensim.models.Word2Vec(corpus, vector_size=300)\n",
    "\n",
    "    # similarity\n",
    "    result = w2v_model.wv.most_similar('electrolyte', topn=300)\n",
    "    chems = []\n",
    "    # print(result)\n",
    "    rule = re.compile(r'.*FC')\n",
    "    \n",
    "    i = 0\n",
    "    materials = []\n",
    "    for word in result:\n",
    "        doc = Document(word[0]).cems\n",
    "        if len(doc) != 0 and not rule.match(word[0]): \n",
    "            # if word[1] >= (2**0.5 / 2):\n",
    "            # if word[1] >= 0.5:\n",
    "            if i <= 300:\n",
    "                if word[0] not in visited and word[0] not in ELEMENTS and word[0] not in ELEMENT_NAMES: \n",
    "                    # print(word[0], end = ', ')\n",
    "                    visited.add(word[0])\n",
    "                    materials.append(word[0])\n",
    "                    count += 1\n",
    "                    i += 1\n",
    "\n",
    "            # print(f'\\'{i}\\'', end=', ')\n",
    "    \n",
    "    # print(i)\n",
    "\n",
    "    table[0][end_year-2000] = i\n",
    "    table[1][end_year-2000] = materials\n",
    "print(table)\n",
    "df = pd.DataFrame(table, index=['Number', 'Materials'], columns=[y for y in range(2000, 2022)])\n",
    "df.to_csv('table_electrolyte_w2v.csv')"
   ],
   "outputs": [],
   "metadata": {}
  },
  {
   "cell_type": "code",
   "execution_count": null,
   "source": [
    "w2v_model.wv.doesnt_match(['manganese', 'zinc', 'iron', 'carbon'])"
   ],
   "outputs": [],
   "metadata": {}
  },
  {
   "cell_type": "code",
   "execution_count": null,
   "source": [
    "w2v_model.wv.most_similar(positive=['electrode', ['GDC']])"
   ],
   "outputs": [],
   "metadata": {}
  },
  {
   "cell_type": "code",
   "execution_count": null,
   "source": [
    "print(w2v_analogy('Ag', 'silver', 'Fe'))\n",
    "print(w2v_analogy('Mg', 'MgO', 'La'))\n",
    "\n",
    "print(w2v_analogy('above', 'below', 'fast'))\n",
    "print(w2v_analogy('good', 'better', 'bad'))\n",
    "print(w2v_analogy('bad', 'worst', 'deep'))\n",
    "print(w2v_analogy('positive', 'anode', 'negative'))"
   ],
   "outputs": [],
   "metadata": {}
  },
  {
   "cell_type": "markdown",
   "source": [
    "## Accuracy"
   ],
   "metadata": {}
  },
  {
   "cell_type": "code",
   "execution_count": null,
   "source": [
    "def w2v_analogy(x1, x2, y1):\n",
    "    try:\n",
    "        result = w2v_model.wv.most_similar(positive=[y1, x2], negative=[x1])\n",
    "        return result[0][0]\n",
    "    except KeyError:\n",
    "        return\n",
    "\n",
    "print(w2v_analogy('increase', 'decrease', 'long'))\n",
    "print(w2v_analogy('helium', 'He', 'iron'))\n",
    "print(w2v_analogy('Al', 'Al2O3', 'Si'))\n",
    "print(w2v_analogy('Pa', 'pressure', 'Hz'))"
   ],
   "outputs": [],
   "metadata": {}
  },
  {
   "cell_type": "code",
   "execution_count": null,
   "source": [
    "with open('modified_analogies.txt') as f:\n",
    "    lines = f.read().strip().split('\\n')\n",
    "\n",
    "pos_m, neg_m = 0, 0\n",
    "index = 0\n",
    "with open('w2v_record.txt', 'w') as f:\n",
    "    f.write('')\n",
    "for i, line in enumerate(lines[index:]):\n",
    "    if line[0] == ':':\n",
    "        with open('w2v_record.txt', 'a') as f:\n",
    "            f.write(line + '\\n')\n",
    "        if line == ': gram2-opposite':\n",
    "            index = i + 1 \n",
    "            break\n",
    "        continue\n",
    "    words = line.strip().split(';')\n",
    "    # print(words)\n",
    "    result = w2v_analogy(words[0], words[1], words[2])\n",
    "    if result is None: continue\n",
    "    \n",
    "    if words[0] not in all_tokens_punct or words[1] not in all_tokens_punct or words[2] not in all_tokens_punct: continue\n",
    "\n",
    "    with open('w2v_record.txt', 'a') as f:\n",
    "            f.write(words[3] + ' ' + result + '\\n')\n",
    "    # record.append((words[3], result))\n",
    "    if result is not None and result.lower() == words[3].lower(): pos_m += 1\n",
    "    else: neg_m += 1\n",
    "\n",
    "# with open('w2v_record', 'w') as f:\n",
    "#     for i in record: \n",
    "#         f.write(i[0] + ' ' + i[1] + '\\n')\n",
    "\n",
    "\n",
    "print(f'Material: {round(100 * pos_m / (pos_m+neg_m), 2)}%', pos_m, neg_m)\n",
    "\n",
    "\n",
    "record = []\n",
    "pos_g, neg_g = 0, 0\n",
    "for i, line in enumerate(lines[index:]):\n",
    "    if line[0] == ':': \n",
    "        with open('w2v_record.txt', 'a') as f:\n",
    "            f.write(line + '\\n')\n",
    "        continue\n",
    "    words = line.strip().split(';')\n",
    "    result = w2v_analogy(words[0], words[1], words[2])\n",
    "    if result is None: continue\n",
    "    if words[0] not in all_tokens_punct or words[1] not in all_tokens_punct or words[2] not in all_tokens_punct: continue\n",
    "\n",
    "    with open('w2v_record.txt', 'a') as f:\n",
    "        f.write(words[3] + ' ' + result + '\\n')\n",
    "    # record.append((words[3], result))\n",
    "    if result is not None and result.lower() == words[3].lower(): pos_g += 1\n",
    "    else: neg_g += 1\n",
    "\n",
    "# with open('w2v_record', 'a') as f:\n",
    "#     f.write('Grammar:\\n')\n",
    "#     for i in record: \n",
    "#         f.write(i[0] + ' ' + i[1] + '\\n')\n",
    "\n",
    "print(f'Grammar: {round(100 * pos_g / (pos_g+neg_g), 2)}%', pos_g, neg_g)\n",
    "print(f'All: {round(100 * (pos_m+pos_g) / (pos_m+neg_m + pos_g+neg_g), 2)}%', pos_m + pos_g, neg_m + neg_g)"
   ],
   "outputs": [],
   "metadata": {}
  },
  {
   "cell_type": "markdown",
   "source": [
    "# FastText"
   ],
   "metadata": {}
  },
  {
   "cell_type": "markdown",
   "source": [
    "## Training"
   ],
   "metadata": {}
  },
  {
   "cell_type": "code",
   "execution_count": null,
   "source": [
    "from gensim.models.fasttext import FastText\n",
    "\n",
    "f_model = FastText(vector_size=300, alpha=0.01, min_alpha=0.0001) # best: 300\n",
    "f_model.build_vocab(corpus)\n",
    "\n",
    "f_model.train(corpus_iterable=corpus, epochs=f_model.epochs, total_examples=f_model.corpus_count, total_words=f_model.corpus_total_words)\n",
    "\n",
    "print(f_model)"
   ],
   "outputs": [],
   "metadata": {}
  },
  {
   "cell_type": "markdown",
   "source": [
    "## Loading"
   ],
   "metadata": {}
  },
  {
   "cell_type": "code",
   "execution_count": null,
   "source": [
    "from gensim.models.fasttext import FastText\n",
    "\n",
    "# NOTE: To store models\n",
    "# f_model.save('Models/fast.model')\n",
    "\n",
    "# NOTE: To load models\n",
    "f_model = FastText.load('Models/fast.model')\n",
    "print(f_model)"
   ],
   "outputs": [],
   "metadata": {}
  },
  {
   "cell_type": "markdown",
   "source": [
    "## Analyzing"
   ],
   "metadata": {}
  },
  {
   "cell_type": "code",
   "execution_count": null,
   "source": [
    "f_model.wv.most_similar('electrolyte', topn=50)"
   ],
   "outputs": [],
   "metadata": {}
  },
  {
   "cell_type": "code",
   "execution_count": null,
   "source": [
    "from chemdataextractor import Document\n",
    "\n",
    "result = f_model.wv.most_similar('electrolyte', topn=300)\n",
    "chems = []\n",
    "# print(result)\n",
    "for i in result:\n",
    "    doc = Document(i[0]).cems\n",
    "    if len(doc) != 0: \n",
    "        # chems.append(i[0])\n",
    "        print(i[0], end = ', ')\n",
    "\n",
    "print(chems)"
   ],
   "outputs": [],
   "metadata": {}
  },
  {
   "cell_type": "code",
   "execution_count": null,
   "source": [
    "from chemdataextractor import Document\n",
    "\n",
    "result = f_model.wv.most_similar('electrode', topn=600)\n",
    "chems = []\n",
    "# print(result)\n",
    "for i in result:\n",
    "    doc = Document(i[0]).cems\n",
    "    if len(doc) != 0: \n",
    "        # chems.append(i[0])\n",
    "        # print(i)\n",
    "\n",
    "        print(f'\\'{i[0]}\\'', end = ', ')\n",
    "\n",
    "print(chems)"
   ],
   "outputs": [],
   "metadata": {}
  },
  {
   "cell_type": "code",
   "execution_count": null,
   "source": [
    "f_model.wv.doesnt_match(['iron', 'Zn', 'Al', 'zinc'])"
   ],
   "outputs": [],
   "metadata": {}
  },
  {
   "cell_type": "code",
   "execution_count": null,
   "source": [
    "def f_analogy(x1, x2, y1):\n",
    "    try:\n",
    "        result = f_model.wv.most_similar(positive=[y1, x2], negative=[x1])\n",
    "        return result[0][0]\n",
    "    except KeyError:\n",
    "        return\n",
    "\n",
    "f_analogy('Al', 'Al2O3', 'Si')\n",
    "f_analogy('good', 'excellent', 'bad')"
   ],
   "outputs": [],
   "metadata": {}
  },
  {
   "cell_type": "markdown",
   "source": [
    "## Accuracy"
   ],
   "metadata": {}
  },
  {
   "cell_type": "code",
   "execution_count": null,
   "source": [
    "with open('analogies.txt') as f:\n",
    "    lines = f.read().strip().split('\\n')\n",
    "\n",
    "record = []\n",
    "\n",
    "pos_m, neg_m = 0, 0\n",
    "index = 1\n",
    "for i, line in enumerate(lines[index:]):\n",
    "    if line[0] == ':':\n",
    "        if line == ': gram2-opposite':\n",
    "            index = i + 1 \n",
    "            break\n",
    "        continue\n",
    "    words = line.strip().split(' ')\n",
    "    result = f_analogy(words[0], words[1], words[2])\n",
    "    if result is None: continue\n",
    "    if words[0] not in all_tokens_punct or words[1] not in all_tokens_punct or words[2] not in all_tokens_punct: continue\n",
    "    record.append((words[3], result))\n",
    "    if result is not None and result.lower() == words[3].lower(): pos_m += 1\n",
    "    else: neg_m += 1\n",
    "\n",
    "with open('f_record.txt', 'w') as f:\n",
    "    f.write('Materials:\\n')\n",
    "    for i in record: \n",
    "        f.write(i[0] + ' ' + i[1] + '\\n')\n",
    "\n",
    "\n",
    "print(f'Material: {round(100 * pos_m / (pos_m+neg_m), 2)}%', pos_m, neg_m)\n",
    "\n",
    "\n",
    "record = []\n",
    "pos_g, neg_g = 0, 0\n",
    "for i, line in enumerate(lines[index:]):\n",
    "    if line[0] == ':': continue\n",
    "    words = line.strip().split(' ')\n",
    "    result = f_analogy(words[0], words[1], words[2])\n",
    "    if result is None: continue\n",
    "    if words[0] not in all_tokens_punct or words[1] not in all_tokens_punct or words[2] not in all_tokens_punct: continue\n",
    "    \n",
    "    record.append((words[3], result))\n",
    "    if result is not None and result.lower() == words[3].lower(): pos_g += 1\n",
    "    else: neg_g += 1\n",
    "\n",
    "with open('f_record.txt', 'a') as f:\n",
    "    f.write('Grammar:\\n')\n",
    "    for i in record: \n",
    "        f.write(i[0] + ' ' + i[1] + '\\n')\n",
    "\n",
    "print(f'Grammar: {round(100 * pos_g / (pos_g+neg_g), 2)}%', pos_g, neg_g)\n",
    "print(f'All: {round(100 * (pos_m+pos_g) / (pos_m+neg_m + pos_g+neg_g), 2)}%', pos_m + pos_g, neg_m + neg_g)"
   ],
   "outputs": [],
   "metadata": {}
  },
  {
   "cell_type": "code",
   "execution_count": null,
   "source": [
    "with open('modified_analogies.txt') as f:\n",
    "    lines = f.read().strip().split('\\n')\n",
    "\n",
    "pos_m, neg_m = 0, 0\n",
    "t_pos_m, t_neg_m = 0, 0\n",
    "index = 1\n",
    "with open('f_record.txt', 'w') as f:\n",
    "    f.write(': chemical element names')\n",
    "    print('chemical element names: ', end = '')\n",
    "\n",
    "for i, line in enumerate(lines[index:]):\n",
    "    if line[0] == ':':\n",
    "        print(f'{round(100 * pos_m / (pos_m+neg_m), 2)}%', pos_m, pos_m + neg_m)\n",
    "        print(line[2:].strip() + ': ', end = '')\n",
    "        if line == ': gram2-opposite':\n",
    "            index = i + 1 \n",
    "            break\n",
    "        pos_m, neg_m = 0, 0\n",
    "        with open('f_record.txt', 'a') as f:\n",
    "            f.write(line + '\\n')\n",
    "        continue\n",
    "    words = line.strip().split(';')\n",
    "    result = w2v_analogy(words[0], words[1], words[2])\n",
    "    if result is None: continue\n",
    "    \n",
    "    if words[0] not in all_tokens_punct or words[1] not in all_tokens_punct or words[2] not in all_tokens_punct: continue\n",
    "\n",
    "    with open('f_record.txt', 'a') as f:\n",
    "            f.write(words[3] + ' ' + result + '\\n')\n",
    "    # record.append((words[3], result))\n",
    "    if result is not None and result.lower() == words[3].lower(): \n",
    "        pos_m += 1\n",
    "        t_pos_m += 1\n",
    "    else: \n",
    "        neg_m += 1\n",
    "        t_neg_m += 1\n",
    "\n",
    "\n",
    "pos_g, neg_g = 0, 0\n",
    "t_pos_g, t_neg_g = 0, 0\n",
    "\n",
    "for i, line in enumerate(lines[index + 1:]):\n",
    "    if line[0] == ':': \n",
    "        print(f'{round(100 * pos_g / (pos_g+neg_g), 2)}%', pos_g, pos_g + neg_g)\n",
    "        print(line[2:].strip() + ': ', end = '')\n",
    "        pos_g, neg_g = 0, 0\n",
    "        with open('f_record.txt', 'a') as f:\n",
    "            f.write(line + '\\n')\n",
    "        continue\n",
    "    words = line.strip().split(';')\n",
    "    result = f_analogy(words[0], words[1], words[2])\n",
    "    if result is None: continue\n",
    "    if words[0] not in all_tokens_punct or words[1] not in all_tokens_punct or words[2] not in all_tokens_punct: continue\n",
    "\n",
    "    with open('f_record.txt', 'a') as f:\n",
    "        f.write(words[3] + ' ' + result + '\\n')\n",
    "    # record.append((words[3], result))\n",
    "    if result is not None and result.lower() == words[3].lower(): \n",
    "        pos_g += 1\n",
    "        t_pos_g += 1\n",
    "    else: \n",
    "        neg_g += 1\n",
    "        t_neg_g += 1\n",
    "    \n",
    "\n",
    "print(f'{round(100 * pos_g / (pos_g+neg_g), 2)}%', pos_g, pos_g + neg_g)\n",
    "print()\n",
    "print(f'Material: {round(100 * t_pos_m / (t_pos_m+t_neg_m), 2)}%', t_pos_m, t_pos_m + t_neg_m)\n",
    "print(f'Grammar: {round(100 * t_pos_g / (t_pos_g+t_neg_g), 2)}%', t_pos_g, t_pos_g + t_neg_g)\n",
    "print(f'All: {round(100 * (t_pos_m+t_pos_g) / (t_pos_m+t_neg_m + t_pos_g+t_neg_g), 2)}%', t_pos_m + t_pos_g, t_pos_m + t_pos_g + t_neg_m + t_neg_g)"
   ],
   "outputs": [],
   "metadata": {}
  },
  {
   "cell_type": "markdown",
   "source": [
    "# Painting"
   ],
   "metadata": {}
  },
  {
   "cell_type": "code",
   "execution_count": null,
   "source": [
    "# TODO: \n",
    "# 1. 保存预测结果和答案的表格 ✓\n",
    "# 2. 用 Nature 和高分子文章里的模型试一下, 加上自己的文本, 争取 >50% ✓\n",
    "# 3. 继续下论文\n",
    "# 4. 两个版本的 tokenize, 一个有 lemma, 一个没有 ✓\n",
    "# 5. 建一个 analogy2, 去掉所有语料库中没有的词 ✓\n",
    "# 6. 做 extended data table1 ✓"
   ],
   "outputs": [],
   "metadata": {}
  },
  {
   "cell_type": "code",
   "execution_count": 24,
   "source": [
    "import numpy as np\n",
    "import matplotlib.pyplot as plt\n",
    "plt.style.use('ggplot')\n",
    "from sklearn.decomposition import PCA\n",
    "from matplotlib.patches import Patch\n",
    "from matplotlib.lines import Line2D\n",
    "\n",
    "def colors(points, words, c):\n",
    "    indice = []\n",
    "    c0 = c[0]\n",
    "    result = [c0 for i in range(len(points))]\n",
    "    for index, w in enumerate(words):\n",
    "        indice.append(set())\n",
    "        for i, p in enumerate(points):\n",
    "            if p in w:\n",
    "                indice[index].add(i)\n",
    "    for index in range(len(indice)):\n",
    "        for i in range(len(points)):\n",
    "            if i in indice[index]:\n",
    "                result[i] = c[index+1]\n",
    "    return result\n",
    "\n",
    "# def colors_without_points(words, c):\n",
    "\n",
    "\n",
    "\n",
    "\n",
    "\n",
    "plt.figure(figsize=(8,7))\n",
    "plt.style.use('default')\n",
    "\n",
    "plt.xlabel('First PCA component')\n",
    "plt.ylabel('Second PCA component')\n",
    "\n",
    "legend_elements = [\n",
    "    Line2D([0], [0], marker='o', color='w', label='PEMFC', markerfacecolor='r', markersize=8), \n",
    "    Line2D([0], [0], marker='o', color='w', label='PAFC', markerfacecolor='g', markersize=8),\n",
    "    Line2D([0], [0], marker='o', color='w', label='SOFC', markerfacecolor='b', markersize=8),\n",
    "    ]\n",
    "\n",
    "plt.legend(handles=legend_elements, loc='best')\n",
    "def display_pca_scatterplot(model, words=None, color='r', sample=0, label=False, a=1, edge=False):\n",
    "    # try:\n",
    "    if not edge: edge = color\n",
    "    if words == None:\n",
    "        if sample > 0:\n",
    "            words = np.random.choice(list(model.vocab.keys()), sample)\n",
    "        else:\n",
    "            words = [word for word in model.vocab ]\n",
    "        \n",
    "    word_vectors = np.array([model[w] for w in words])\n",
    "\n",
    "    twodim = PCA().fit_transform(word_vectors)[:,:2]\n",
    "    \n",
    "    # plt.figure(figsize=(6,6))\n",
    "    plt.scatter(twodim[:,0], twodim[:,1], c=color, edgecolor=edge, alpha=a)\n",
    "    # except: pass\n",
    "    if label:\n",
    "        \n",
    "        new_texts = [plt.text(x, y, word) for word, (x, y) in zip(words, twodim)]\n",
    "        adjust_text(new_texts)\n",
    "        # print(twodim)\n",
    "        # for word, (x,y) in zip(words, twodim):\n",
    "        #     # plt.text(x+0.05, y+0.05, word)\n",
    "        #     plt.text(x-0.5, y+0.2, word)\n",
    "\n",
    "countries = ['europe', 'china', 'india', 'africa', 'iran', 'australia', 'U.S.', 'EU', 'UK']\n",
    "\n",
    "popular = ['LiNO3', 'ClK', 'CGO', 'TEGDME', 'ClLi', 'Ce0.8Sm0.2O2-d', 'La0.9Sr0.1Ga0.8Mg0.2O3-d', 'LSCF', 'LiTFSI', 'La0.8Sr0.2Ga0.8Mg0.2O3-d']\n",
    "\n",
    "electrode = ['o-SWCNH', 'PPy', 'MnO2', 'NCN', 'La4Mn5O15Sr', 'MEAs', 'H2NiO2', 'LCN', 'ERGO', 'BFC', 'EFC', 'URFC', 'NPG', 'Ce9GdO20', 'LSCF', '8YSZ', 'HNiO2', 'WC', 'Ce8O19Sm2']\n",
    "\n",
    "electrolyte = ['GDE', 'LiTFSI', 'ClK', 'Bi3O6Y', 'LSCF', 'La0.8Sr0.2Ga0.8Mg0.2O3-d', 'tetrafluoroborate', 'LiNO3', 'iodide', 'CGO', 'ClLiO4', 'Na2O4S']\n",
    "\n",
    "DMFC = ['VRB', 'GDEs', 'GDE', 'PEMs', 'LIB', 'CsF', 'MDC', 'BPM', 'MPD', 'PEMEC', 'AAEM', 'HEV', 'PEC', 'CCM', 'PEMWE', 'TEG', 'UTCL', 'ICE', 'methanol', 'MEC']\n",
    "\n",
    "PEMFC = ['CsF', 'GDE', 'VRB', 'MDC', 'LIB', 'HEV', 'GDEs', 'TEG', 'PEMs', 'BPM', 'PEMWE', 'ICE', 'CCM', 'PEMEC', 'AAEM', 'PFSA', 'PEC', 'MEC', 'MPD', 'ADT', 'AST']\n",
    "\n",
    "AFC = ['PEM', 'MDC', 'AAEM', 'micro-CHP', 'CsF', 'LIB', 'HEV', 'TEG', 'ICE', 'IEM', 'ivium', 'VRB', 'MES', 'MEC', 'PEC', 'PVT', 'ISRU', 'PEMWE', 'CPV', 'TPV', 'MEA', 'CsOS', 'NASA', 'A320', 'GDE', 'PV', 'PHEV', 'bacon', 'standalone', 'rSOC', 'CNBN']\n",
    "\n",
    "PAFC = ['ICE', 'TEG', 'micro-CHP', 'HEV', 'PHEV', 'PVT', 'CPV', 'TPV', 'turbine', 'rSOC', 'standalone', 'BOP', 'CAPEX', 'CDCL', 'BoP', 'micro-turbine', 'm-CHP', 'PEM', 'ICEV', 'IEM', 'BIPV', 'BEV', 'PV', 'MDC', 'CHHP', 'microturbine', 'PV-E', 'DFB', 'hydrogen-fueled']\n",
    "\n",
    "SOFC = ['YSZ', 'LSCF', 'CGO', 'Ce8O19Sm2', 'PCEC', 'ScSZ', 'BaZr0.1Ce0.7Y0.1Yb0.1O3-d', 'BZCYYb', 'BSCF', 'AFL', 'LNO', 'Ba0.5Sr0.5Co0.8Fe0.2O3-d', 'BaZr0.1Ce0.7Y0.2O3-d', 'MEA', 'La4Mn5O15Sr', 'perovskite', 'La0.6Sr0.4Co0.2Fe0.8O3-d']\n",
    "\n",
    "\n",
    "color_lst2 = colors(PEMFC+PAFC+SOFC, [PEMFC, PAFC, SOFC], ['lightsteelblue', 'r', 'g', 'b'])\n",
    "\n",
    "# display_pca_scatterplot(w2v_model.wv, PEMFC + PAFC + SOFC, color=color_lst2, a=0.9, label=True)\n",
    "# plt.savefig('P5.pdf', bbox_inches='tight')\n"
   ],
   "outputs": [
    {
     "output_type": "display_data",
     "data": {
      "text/plain": [
       "<Figure size 800x700 with 1 Axes>"
      ],
      "image/svg+xml": "<?xml version=\"1.0\" encoding=\"utf-8\" standalone=\"no\"?>\n<!DOCTYPE svg PUBLIC \"-//W3C//DTD SVG 1.1//EN\"\n  \"http://www.w3.org/Graphics/SVG/1.1/DTD/svg11.dtd\">\n<!-- Created with matplotlib (https://matplotlib.org/) -->\n<svg height=\"436.635469pt\" version=\"1.1\" viewBox=\"0 0 505.332812 436.635469\" width=\"505.332812pt\" xmlns=\"http://www.w3.org/2000/svg\" xmlns:xlink=\"http://www.w3.org/1999/xlink\">\n <metadata>\n  <rdf:RDF xmlns:cc=\"http://creativecommons.org/ns#\" xmlns:dc=\"http://purl.org/dc/elements/1.1/\" xmlns:rdf=\"http://www.w3.org/1999/02/22-rdf-syntax-ns#\">\n   <cc:Work>\n    <dc:type rdf:resource=\"http://purl.org/dc/dcmitype/StillImage\"/>\n    <dc:date>2021-08-16T10:19:58.458438</dc:date>\n    <dc:format>image/svg+xml</dc:format>\n    <dc:creator>\n     <cc:Agent>\n      <dc:title>Matplotlib v3.3.2, https://matplotlib.org/</dc:title>\n     </cc:Agent>\n    </dc:creator>\n   </cc:Work>\n  </rdf:RDF>\n </metadata>\n <defs>\n  <style type=\"text/css\">*{stroke-linecap:butt;stroke-linejoin:round;}</style>\n </defs>\n <g id=\"figure_1\">\n  <g id=\"patch_1\">\n   <path d=\"M 0 436.635469 \nL 505.332812 436.635469 \nL 505.332812 0 \nL 0 0 \nz\n\" style=\"fill:#ffffff;\"/>\n  </g>\n  <g id=\"axes_1\">\n   <g id=\"patch_2\">\n    <path d=\"M 43.78125 399.079219 \nL 490.18125 399.079219 \nL 490.18125 10.999219 \nL 43.78125 10.999219 \nz\n\" style=\"fill:#ffffff;\"/>\n   </g>\n   <g id=\"matplotlib.axis_1\">\n    <g id=\"xtick_1\">\n     <g id=\"line2d_1\">\n      <defs>\n       <path d=\"M 0 0 \nL 0 3.5 \n\" id=\"m846e27fe11\" style=\"stroke:#000000;stroke-width:0.8;\"/>\n      </defs>\n      <g>\n       <use style=\"stroke:#000000;stroke-width:0.8;\" x=\"43.78125\" xlink:href=\"#m846e27fe11\" y=\"399.079219\"/>\n      </g>\n     </g>\n     <g id=\"text_1\">\n      <!-- 0.0 -->\n      <g transform=\"translate(35.829688 413.677656)scale(0.1 -0.1)\">\n       <defs>\n        <path d=\"M 31.78125 66.40625 \nQ 24.171875 66.40625 20.328125 58.90625 \nQ 16.5 51.421875 16.5 36.375 \nQ 16.5 21.390625 20.328125 13.890625 \nQ 24.171875 6.390625 31.78125 6.390625 \nQ 39.453125 6.390625 43.28125 13.890625 \nQ 47.125 21.390625 47.125 36.375 \nQ 47.125 51.421875 43.28125 58.90625 \nQ 39.453125 66.40625 31.78125 66.40625 \nz\nM 31.78125 74.21875 \nQ 44.046875 74.21875 50.515625 64.515625 \nQ 56.984375 54.828125 56.984375 36.375 \nQ 56.984375 17.96875 50.515625 8.265625 \nQ 44.046875 -1.421875 31.78125 -1.421875 \nQ 19.53125 -1.421875 13.0625 8.265625 \nQ 6.59375 17.96875 6.59375 36.375 \nQ 6.59375 54.828125 13.0625 64.515625 \nQ 19.53125 74.21875 31.78125 74.21875 \nz\n\" id=\"DejaVuSans-48\"/>\n        <path d=\"M 10.6875 12.40625 \nL 21 12.40625 \nL 21 0 \nL 10.6875 0 \nz\n\" id=\"DejaVuSans-46\"/>\n       </defs>\n       <use xlink:href=\"#DejaVuSans-48\"/>\n       <use x=\"63.623047\" xlink:href=\"#DejaVuSans-46\"/>\n       <use x=\"95.410156\" xlink:href=\"#DejaVuSans-48\"/>\n      </g>\n     </g>\n    </g>\n    <g id=\"xtick_2\">\n     <g id=\"line2d_2\">\n      <g>\n       <use style=\"stroke:#000000;stroke-width:0.8;\" x=\"133.06125\" xlink:href=\"#m846e27fe11\" y=\"399.079219\"/>\n      </g>\n     </g>\n     <g id=\"text_2\">\n      <!-- 0.2 -->\n      <g transform=\"translate(125.109688 413.677656)scale(0.1 -0.1)\">\n       <defs>\n        <path d=\"M 19.1875 8.296875 \nL 53.609375 8.296875 \nL 53.609375 0 \nL 7.328125 0 \nL 7.328125 8.296875 \nQ 12.9375 14.109375 22.625 23.890625 \nQ 32.328125 33.6875 34.8125 36.53125 \nQ 39.546875 41.84375 41.421875 45.53125 \nQ 43.3125 49.21875 43.3125 52.78125 \nQ 43.3125 58.59375 39.234375 62.25 \nQ 35.15625 65.921875 28.609375 65.921875 \nQ 23.96875 65.921875 18.8125 64.3125 \nQ 13.671875 62.703125 7.8125 59.421875 \nL 7.8125 69.390625 \nQ 13.765625 71.78125 18.9375 73 \nQ 24.125 74.21875 28.421875 74.21875 \nQ 39.75 74.21875 46.484375 68.546875 \nQ 53.21875 62.890625 53.21875 53.421875 \nQ 53.21875 48.921875 51.53125 44.890625 \nQ 49.859375 40.875 45.40625 35.40625 \nQ 44.1875 33.984375 37.640625 27.21875 \nQ 31.109375 20.453125 19.1875 8.296875 \nz\n\" id=\"DejaVuSans-50\"/>\n       </defs>\n       <use xlink:href=\"#DejaVuSans-48\"/>\n       <use x=\"63.623047\" xlink:href=\"#DejaVuSans-46\"/>\n       <use x=\"95.410156\" xlink:href=\"#DejaVuSans-50\"/>\n      </g>\n     </g>\n    </g>\n    <g id=\"xtick_3\">\n     <g id=\"line2d_3\">\n      <g>\n       <use style=\"stroke:#000000;stroke-width:0.8;\" x=\"222.34125\" xlink:href=\"#m846e27fe11\" y=\"399.079219\"/>\n      </g>\n     </g>\n     <g id=\"text_3\">\n      <!-- 0.4 -->\n      <g transform=\"translate(214.389688 413.677656)scale(0.1 -0.1)\">\n       <defs>\n        <path d=\"M 37.796875 64.3125 \nL 12.890625 25.390625 \nL 37.796875 25.390625 \nz\nM 35.203125 72.90625 \nL 47.609375 72.90625 \nL 47.609375 25.390625 \nL 58.015625 25.390625 \nL 58.015625 17.1875 \nL 47.609375 17.1875 \nL 47.609375 0 \nL 37.796875 0 \nL 37.796875 17.1875 \nL 4.890625 17.1875 \nL 4.890625 26.703125 \nz\n\" id=\"DejaVuSans-52\"/>\n       </defs>\n       <use xlink:href=\"#DejaVuSans-48\"/>\n       <use x=\"63.623047\" xlink:href=\"#DejaVuSans-46\"/>\n       <use x=\"95.410156\" xlink:href=\"#DejaVuSans-52\"/>\n      </g>\n     </g>\n    </g>\n    <g id=\"xtick_4\">\n     <g id=\"line2d_4\">\n      <g>\n       <use style=\"stroke:#000000;stroke-width:0.8;\" x=\"311.62125\" xlink:href=\"#m846e27fe11\" y=\"399.079219\"/>\n      </g>\n     </g>\n     <g id=\"text_4\">\n      <!-- 0.6 -->\n      <g transform=\"translate(303.669688 413.677656)scale(0.1 -0.1)\">\n       <defs>\n        <path d=\"M 33.015625 40.375 \nQ 26.375 40.375 22.484375 35.828125 \nQ 18.609375 31.296875 18.609375 23.390625 \nQ 18.609375 15.53125 22.484375 10.953125 \nQ 26.375 6.390625 33.015625 6.390625 \nQ 39.65625 6.390625 43.53125 10.953125 \nQ 47.40625 15.53125 47.40625 23.390625 \nQ 47.40625 31.296875 43.53125 35.828125 \nQ 39.65625 40.375 33.015625 40.375 \nz\nM 52.59375 71.296875 \nL 52.59375 62.3125 \nQ 48.875 64.0625 45.09375 64.984375 \nQ 41.3125 65.921875 37.59375 65.921875 \nQ 27.828125 65.921875 22.671875 59.328125 \nQ 17.53125 52.734375 16.796875 39.40625 \nQ 19.671875 43.65625 24.015625 45.921875 \nQ 28.375 48.1875 33.59375 48.1875 \nQ 44.578125 48.1875 50.953125 41.515625 \nQ 57.328125 34.859375 57.328125 23.390625 \nQ 57.328125 12.15625 50.6875 5.359375 \nQ 44.046875 -1.421875 33.015625 -1.421875 \nQ 20.359375 -1.421875 13.671875 8.265625 \nQ 6.984375 17.96875 6.984375 36.375 \nQ 6.984375 53.65625 15.1875 63.9375 \nQ 23.390625 74.21875 37.203125 74.21875 \nQ 40.921875 74.21875 44.703125 73.484375 \nQ 48.484375 72.75 52.59375 71.296875 \nz\n\" id=\"DejaVuSans-54\"/>\n       </defs>\n       <use xlink:href=\"#DejaVuSans-48\"/>\n       <use x=\"63.623047\" xlink:href=\"#DejaVuSans-46\"/>\n       <use x=\"95.410156\" xlink:href=\"#DejaVuSans-54\"/>\n      </g>\n     </g>\n    </g>\n    <g id=\"xtick_5\">\n     <g id=\"line2d_5\">\n      <g>\n       <use style=\"stroke:#000000;stroke-width:0.8;\" x=\"400.90125\" xlink:href=\"#m846e27fe11\" y=\"399.079219\"/>\n      </g>\n     </g>\n     <g id=\"text_5\">\n      <!-- 0.8 -->\n      <g transform=\"translate(392.949687 413.677656)scale(0.1 -0.1)\">\n       <defs>\n        <path d=\"M 31.78125 34.625 \nQ 24.75 34.625 20.71875 30.859375 \nQ 16.703125 27.09375 16.703125 20.515625 \nQ 16.703125 13.921875 20.71875 10.15625 \nQ 24.75 6.390625 31.78125 6.390625 \nQ 38.8125 6.390625 42.859375 10.171875 \nQ 46.921875 13.96875 46.921875 20.515625 \nQ 46.921875 27.09375 42.890625 30.859375 \nQ 38.875 34.625 31.78125 34.625 \nz\nM 21.921875 38.8125 \nQ 15.578125 40.375 12.03125 44.71875 \nQ 8.5 49.078125 8.5 55.328125 \nQ 8.5 64.0625 14.71875 69.140625 \nQ 20.953125 74.21875 31.78125 74.21875 \nQ 42.671875 74.21875 48.875 69.140625 \nQ 55.078125 64.0625 55.078125 55.328125 \nQ 55.078125 49.078125 51.53125 44.71875 \nQ 48 40.375 41.703125 38.8125 \nQ 48.828125 37.15625 52.796875 32.3125 \nQ 56.78125 27.484375 56.78125 20.515625 \nQ 56.78125 9.90625 50.3125 4.234375 \nQ 43.84375 -1.421875 31.78125 -1.421875 \nQ 19.734375 -1.421875 13.25 4.234375 \nQ 6.78125 9.90625 6.78125 20.515625 \nQ 6.78125 27.484375 10.78125 32.3125 \nQ 14.796875 37.15625 21.921875 38.8125 \nz\nM 18.3125 54.390625 \nQ 18.3125 48.734375 21.84375 45.5625 \nQ 25.390625 42.390625 31.78125 42.390625 \nQ 38.140625 42.390625 41.71875 45.5625 \nQ 45.3125 48.734375 45.3125 54.390625 \nQ 45.3125 60.0625 41.71875 63.234375 \nQ 38.140625 66.40625 31.78125 66.40625 \nQ 25.390625 66.40625 21.84375 63.234375 \nQ 18.3125 60.0625 18.3125 54.390625 \nz\n\" id=\"DejaVuSans-56\"/>\n       </defs>\n       <use xlink:href=\"#DejaVuSans-48\"/>\n       <use x=\"63.623047\" xlink:href=\"#DejaVuSans-46\"/>\n       <use x=\"95.410156\" xlink:href=\"#DejaVuSans-56\"/>\n      </g>\n     </g>\n    </g>\n    <g id=\"xtick_6\">\n     <g id=\"line2d_6\">\n      <g>\n       <use style=\"stroke:#000000;stroke-width:0.8;\" x=\"490.18125\" xlink:href=\"#m846e27fe11\" y=\"399.079219\"/>\n      </g>\n     </g>\n     <g id=\"text_6\">\n      <!-- 1.0 -->\n      <g transform=\"translate(482.229687 413.677656)scale(0.1 -0.1)\">\n       <defs>\n        <path d=\"M 12.40625 8.296875 \nL 28.515625 8.296875 \nL 28.515625 63.921875 \nL 10.984375 60.40625 \nL 10.984375 69.390625 \nL 28.421875 72.90625 \nL 38.28125 72.90625 \nL 38.28125 8.296875 \nL 54.390625 8.296875 \nL 54.390625 0 \nL 12.40625 0 \nz\n\" id=\"DejaVuSans-49\"/>\n       </defs>\n       <use xlink:href=\"#DejaVuSans-49\"/>\n       <use x=\"63.623047\" xlink:href=\"#DejaVuSans-46\"/>\n       <use x=\"95.410156\" xlink:href=\"#DejaVuSans-48\"/>\n      </g>\n     </g>\n    </g>\n    <g id=\"text_7\">\n     <!-- First PCA component -->\n     <g transform=\"translate(215.067187 427.355781)scale(0.1 -0.1)\">\n      <defs>\n       <path d=\"M 9.8125 72.90625 \nL 51.703125 72.90625 \nL 51.703125 64.59375 \nL 19.671875 64.59375 \nL 19.671875 43.109375 \nL 48.578125 43.109375 \nL 48.578125 34.8125 \nL 19.671875 34.8125 \nL 19.671875 0 \nL 9.8125 0 \nz\n\" id=\"DejaVuSans-70\"/>\n       <path d=\"M 9.421875 54.6875 \nL 18.40625 54.6875 \nL 18.40625 0 \nL 9.421875 0 \nz\nM 9.421875 75.984375 \nL 18.40625 75.984375 \nL 18.40625 64.59375 \nL 9.421875 64.59375 \nz\n\" id=\"DejaVuSans-105\"/>\n       <path d=\"M 41.109375 46.296875 \nQ 39.59375 47.171875 37.8125 47.578125 \nQ 36.03125 48 33.890625 48 \nQ 26.265625 48 22.1875 43.046875 \nQ 18.109375 38.09375 18.109375 28.8125 \nL 18.109375 0 \nL 9.078125 0 \nL 9.078125 54.6875 \nL 18.109375 54.6875 \nL 18.109375 46.1875 \nQ 20.953125 51.171875 25.484375 53.578125 \nQ 30.03125 56 36.53125 56 \nQ 37.453125 56 38.578125 55.875 \nQ 39.703125 55.765625 41.0625 55.515625 \nz\n\" id=\"DejaVuSans-114\"/>\n       <path d=\"M 44.28125 53.078125 \nL 44.28125 44.578125 \nQ 40.484375 46.53125 36.375 47.5 \nQ 32.28125 48.484375 27.875 48.484375 \nQ 21.1875 48.484375 17.84375 46.4375 \nQ 14.5 44.390625 14.5 40.28125 \nQ 14.5 37.15625 16.890625 35.375 \nQ 19.28125 33.59375 26.515625 31.984375 \nL 29.59375 31.296875 \nQ 39.15625 29.25 43.1875 25.515625 \nQ 47.21875 21.78125 47.21875 15.09375 \nQ 47.21875 7.46875 41.1875 3.015625 \nQ 35.15625 -1.421875 24.609375 -1.421875 \nQ 20.21875 -1.421875 15.453125 -0.5625 \nQ 10.6875 0.296875 5.421875 2 \nL 5.421875 11.28125 \nQ 10.40625 8.6875 15.234375 7.390625 \nQ 20.0625 6.109375 24.8125 6.109375 \nQ 31.15625 6.109375 34.5625 8.28125 \nQ 37.984375 10.453125 37.984375 14.40625 \nQ 37.984375 18.0625 35.515625 20.015625 \nQ 33.0625 21.96875 24.703125 23.78125 \nL 21.578125 24.515625 \nQ 13.234375 26.265625 9.515625 29.90625 \nQ 5.8125 33.546875 5.8125 39.890625 \nQ 5.8125 47.609375 11.28125 51.796875 \nQ 16.75 56 26.8125 56 \nQ 31.78125 56 36.171875 55.265625 \nQ 40.578125 54.546875 44.28125 53.078125 \nz\n\" id=\"DejaVuSans-115\"/>\n       <path d=\"M 18.3125 70.21875 \nL 18.3125 54.6875 \nL 36.8125 54.6875 \nL 36.8125 47.703125 \nL 18.3125 47.703125 \nL 18.3125 18.015625 \nQ 18.3125 11.328125 20.140625 9.421875 \nQ 21.96875 7.515625 27.59375 7.515625 \nL 36.8125 7.515625 \nL 36.8125 0 \nL 27.59375 0 \nQ 17.1875 0 13.234375 3.875 \nQ 9.28125 7.765625 9.28125 18.015625 \nL 9.28125 47.703125 \nL 2.6875 47.703125 \nL 2.6875 54.6875 \nL 9.28125 54.6875 \nL 9.28125 70.21875 \nz\n\" id=\"DejaVuSans-116\"/>\n       <path id=\"DejaVuSans-32\"/>\n       <path d=\"M 19.671875 64.796875 \nL 19.671875 37.40625 \nL 32.078125 37.40625 \nQ 38.96875 37.40625 42.71875 40.96875 \nQ 46.484375 44.53125 46.484375 51.125 \nQ 46.484375 57.671875 42.71875 61.234375 \nQ 38.96875 64.796875 32.078125 64.796875 \nz\nM 9.8125 72.90625 \nL 32.078125 72.90625 \nQ 44.34375 72.90625 50.609375 67.359375 \nQ 56.890625 61.8125 56.890625 51.125 \nQ 56.890625 40.328125 50.609375 34.8125 \nQ 44.34375 29.296875 32.078125 29.296875 \nL 19.671875 29.296875 \nL 19.671875 0 \nL 9.8125 0 \nz\n\" id=\"DejaVuSans-80\"/>\n       <path d=\"M 64.40625 67.28125 \nL 64.40625 56.890625 \nQ 59.421875 61.53125 53.78125 63.8125 \nQ 48.140625 66.109375 41.796875 66.109375 \nQ 29.296875 66.109375 22.65625 58.46875 \nQ 16.015625 50.828125 16.015625 36.375 \nQ 16.015625 21.96875 22.65625 14.328125 \nQ 29.296875 6.6875 41.796875 6.6875 \nQ 48.140625 6.6875 53.78125 8.984375 \nQ 59.421875 11.28125 64.40625 15.921875 \nL 64.40625 5.609375 \nQ 59.234375 2.09375 53.4375 0.328125 \nQ 47.65625 -1.421875 41.21875 -1.421875 \nQ 24.65625 -1.421875 15.125 8.703125 \nQ 5.609375 18.84375 5.609375 36.375 \nQ 5.609375 53.953125 15.125 64.078125 \nQ 24.65625 74.21875 41.21875 74.21875 \nQ 47.75 74.21875 53.53125 72.484375 \nQ 59.328125 70.75 64.40625 67.28125 \nz\n\" id=\"DejaVuSans-67\"/>\n       <path d=\"M 34.1875 63.1875 \nL 20.796875 26.90625 \nL 47.609375 26.90625 \nz\nM 28.609375 72.90625 \nL 39.796875 72.90625 \nL 67.578125 0 \nL 57.328125 0 \nL 50.6875 18.703125 \nL 17.828125 18.703125 \nL 11.1875 0 \nL 0.78125 0 \nz\n\" id=\"DejaVuSans-65\"/>\n       <path d=\"M 48.78125 52.59375 \nL 48.78125 44.1875 \nQ 44.96875 46.296875 41.140625 47.34375 \nQ 37.3125 48.390625 33.40625 48.390625 \nQ 24.65625 48.390625 19.8125 42.84375 \nQ 14.984375 37.3125 14.984375 27.296875 \nQ 14.984375 17.28125 19.8125 11.734375 \nQ 24.65625 6.203125 33.40625 6.203125 \nQ 37.3125 6.203125 41.140625 7.25 \nQ 44.96875 8.296875 48.78125 10.40625 \nL 48.78125 2.09375 \nQ 45.015625 0.34375 40.984375 -0.53125 \nQ 36.96875 -1.421875 32.421875 -1.421875 \nQ 20.0625 -1.421875 12.78125 6.34375 \nQ 5.515625 14.109375 5.515625 27.296875 \nQ 5.515625 40.671875 12.859375 48.328125 \nQ 20.21875 56 33.015625 56 \nQ 37.15625 56 41.109375 55.140625 \nQ 45.0625 54.296875 48.78125 52.59375 \nz\n\" id=\"DejaVuSans-99\"/>\n       <path d=\"M 30.609375 48.390625 \nQ 23.390625 48.390625 19.1875 42.75 \nQ 14.984375 37.109375 14.984375 27.296875 \nQ 14.984375 17.484375 19.15625 11.84375 \nQ 23.34375 6.203125 30.609375 6.203125 \nQ 37.796875 6.203125 41.984375 11.859375 \nQ 46.1875 17.53125 46.1875 27.296875 \nQ 46.1875 37.015625 41.984375 42.703125 \nQ 37.796875 48.390625 30.609375 48.390625 \nz\nM 30.609375 56 \nQ 42.328125 56 49.015625 48.375 \nQ 55.71875 40.765625 55.71875 27.296875 \nQ 55.71875 13.875 49.015625 6.21875 \nQ 42.328125 -1.421875 30.609375 -1.421875 \nQ 18.84375 -1.421875 12.171875 6.21875 \nQ 5.515625 13.875 5.515625 27.296875 \nQ 5.515625 40.765625 12.171875 48.375 \nQ 18.84375 56 30.609375 56 \nz\n\" id=\"DejaVuSans-111\"/>\n       <path d=\"M 52 44.1875 \nQ 55.375 50.25 60.0625 53.125 \nQ 64.75 56 71.09375 56 \nQ 79.640625 56 84.28125 50.015625 \nQ 88.921875 44.046875 88.921875 33.015625 \nL 88.921875 0 \nL 79.890625 0 \nL 79.890625 32.71875 \nQ 79.890625 40.578125 77.09375 44.375 \nQ 74.3125 48.1875 68.609375 48.1875 \nQ 61.625 48.1875 57.5625 43.546875 \nQ 53.515625 38.921875 53.515625 30.90625 \nL 53.515625 0 \nL 44.484375 0 \nL 44.484375 32.71875 \nQ 44.484375 40.625 41.703125 44.40625 \nQ 38.921875 48.1875 33.109375 48.1875 \nQ 26.21875 48.1875 22.15625 43.53125 \nQ 18.109375 38.875 18.109375 30.90625 \nL 18.109375 0 \nL 9.078125 0 \nL 9.078125 54.6875 \nL 18.109375 54.6875 \nL 18.109375 46.1875 \nQ 21.1875 51.21875 25.484375 53.609375 \nQ 29.78125 56 35.6875 56 \nQ 41.65625 56 45.828125 52.96875 \nQ 50 49.953125 52 44.1875 \nz\n\" id=\"DejaVuSans-109\"/>\n       <path d=\"M 18.109375 8.203125 \nL 18.109375 -20.796875 \nL 9.078125 -20.796875 \nL 9.078125 54.6875 \nL 18.109375 54.6875 \nL 18.109375 46.390625 \nQ 20.953125 51.265625 25.265625 53.625 \nQ 29.59375 56 35.59375 56 \nQ 45.5625 56 51.78125 48.09375 \nQ 58.015625 40.1875 58.015625 27.296875 \nQ 58.015625 14.40625 51.78125 6.484375 \nQ 45.5625 -1.421875 35.59375 -1.421875 \nQ 29.59375 -1.421875 25.265625 0.953125 \nQ 20.953125 3.328125 18.109375 8.203125 \nz\nM 48.6875 27.296875 \nQ 48.6875 37.203125 44.609375 42.84375 \nQ 40.53125 48.484375 33.40625 48.484375 \nQ 26.265625 48.484375 22.1875 42.84375 \nQ 18.109375 37.203125 18.109375 27.296875 \nQ 18.109375 17.390625 22.1875 11.75 \nQ 26.265625 6.109375 33.40625 6.109375 \nQ 40.53125 6.109375 44.609375 11.75 \nQ 48.6875 17.390625 48.6875 27.296875 \nz\n\" id=\"DejaVuSans-112\"/>\n       <path d=\"M 54.890625 33.015625 \nL 54.890625 0 \nL 45.90625 0 \nL 45.90625 32.71875 \nQ 45.90625 40.484375 42.875 44.328125 \nQ 39.84375 48.1875 33.796875 48.1875 \nQ 26.515625 48.1875 22.3125 43.546875 \nQ 18.109375 38.921875 18.109375 30.90625 \nL 18.109375 0 \nL 9.078125 0 \nL 9.078125 54.6875 \nL 18.109375 54.6875 \nL 18.109375 46.1875 \nQ 21.34375 51.125 25.703125 53.5625 \nQ 30.078125 56 35.796875 56 \nQ 45.21875 56 50.046875 50.171875 \nQ 54.890625 44.34375 54.890625 33.015625 \nz\n\" id=\"DejaVuSans-110\"/>\n       <path d=\"M 56.203125 29.59375 \nL 56.203125 25.203125 \nL 14.890625 25.203125 \nQ 15.484375 15.921875 20.484375 11.0625 \nQ 25.484375 6.203125 34.421875 6.203125 \nQ 39.59375 6.203125 44.453125 7.46875 \nQ 49.3125 8.734375 54.109375 11.28125 \nL 54.109375 2.78125 \nQ 49.265625 0.734375 44.1875 -0.34375 \nQ 39.109375 -1.421875 33.890625 -1.421875 \nQ 20.796875 -1.421875 13.15625 6.1875 \nQ 5.515625 13.8125 5.515625 26.8125 \nQ 5.515625 40.234375 12.765625 48.109375 \nQ 20.015625 56 32.328125 56 \nQ 43.359375 56 49.78125 48.890625 \nQ 56.203125 41.796875 56.203125 29.59375 \nz\nM 47.21875 32.234375 \nQ 47.125 39.59375 43.09375 43.984375 \nQ 39.0625 48.390625 32.421875 48.390625 \nQ 24.90625 48.390625 20.390625 44.140625 \nQ 15.875 39.890625 15.1875 32.171875 \nz\n\" id=\"DejaVuSans-101\"/>\n      </defs>\n      <use xlink:href=\"#DejaVuSans-70\"/>\n      <use x=\"50.269531\" xlink:href=\"#DejaVuSans-105\"/>\n      <use x=\"78.052734\" xlink:href=\"#DejaVuSans-114\"/>\n      <use x=\"119.166016\" xlink:href=\"#DejaVuSans-115\"/>\n      <use x=\"171.265625\" xlink:href=\"#DejaVuSans-116\"/>\n      <use x=\"210.474609\" xlink:href=\"#DejaVuSans-32\"/>\n      <use x=\"242.261719\" xlink:href=\"#DejaVuSans-80\"/>\n      <use x=\"302.564453\" xlink:href=\"#DejaVuSans-67\"/>\n      <use x=\"372.388672\" xlink:href=\"#DejaVuSans-65\"/>\n      <use x=\"440.796875\" xlink:href=\"#DejaVuSans-32\"/>\n      <use x=\"472.583984\" xlink:href=\"#DejaVuSans-99\"/>\n      <use x=\"527.564453\" xlink:href=\"#DejaVuSans-111\"/>\n      <use x=\"588.746094\" xlink:href=\"#DejaVuSans-109\"/>\n      <use x=\"686.158203\" xlink:href=\"#DejaVuSans-112\"/>\n      <use x=\"749.634766\" xlink:href=\"#DejaVuSans-111\"/>\n      <use x=\"810.816406\" xlink:href=\"#DejaVuSans-110\"/>\n      <use x=\"874.195312\" xlink:href=\"#DejaVuSans-101\"/>\n      <use x=\"935.71875\" xlink:href=\"#DejaVuSans-110\"/>\n      <use x=\"999.097656\" xlink:href=\"#DejaVuSans-116\"/>\n     </g>\n    </g>\n   </g>\n   <g id=\"matplotlib.axis_2\">\n    <g id=\"ytick_1\">\n     <g id=\"line2d_7\">\n      <defs>\n       <path d=\"M 0 0 \nL -3.5 0 \n\" id=\"m5407655a15\" style=\"stroke:#000000;stroke-width:0.8;\"/>\n      </defs>\n      <g>\n       <use style=\"stroke:#000000;stroke-width:0.8;\" x=\"43.78125\" xlink:href=\"#m5407655a15\" y=\"399.079219\"/>\n      </g>\n     </g>\n     <g id=\"text_8\">\n      <!-- 0.0 -->\n      <g transform=\"translate(20.878125 402.878437)scale(0.1 -0.1)\">\n       <use xlink:href=\"#DejaVuSans-48\"/>\n       <use x=\"63.623047\" xlink:href=\"#DejaVuSans-46\"/>\n       <use x=\"95.410156\" xlink:href=\"#DejaVuSans-48\"/>\n      </g>\n     </g>\n    </g>\n    <g id=\"ytick_2\">\n     <g id=\"line2d_8\">\n      <g>\n       <use style=\"stroke:#000000;stroke-width:0.8;\" x=\"43.78125\" xlink:href=\"#m5407655a15\" y=\"321.463219\"/>\n      </g>\n     </g>\n     <g id=\"text_9\">\n      <!-- 0.2 -->\n      <g transform=\"translate(20.878125 325.262437)scale(0.1 -0.1)\">\n       <use xlink:href=\"#DejaVuSans-48\"/>\n       <use x=\"63.623047\" xlink:href=\"#DejaVuSans-46\"/>\n       <use x=\"95.410156\" xlink:href=\"#DejaVuSans-50\"/>\n      </g>\n     </g>\n    </g>\n    <g id=\"ytick_3\">\n     <g id=\"line2d_9\">\n      <g>\n       <use style=\"stroke:#000000;stroke-width:0.8;\" x=\"43.78125\" xlink:href=\"#m5407655a15\" y=\"243.847219\"/>\n      </g>\n     </g>\n     <g id=\"text_10\">\n      <!-- 0.4 -->\n      <g transform=\"translate(20.878125 247.646437)scale(0.1 -0.1)\">\n       <use xlink:href=\"#DejaVuSans-48\"/>\n       <use x=\"63.623047\" xlink:href=\"#DejaVuSans-46\"/>\n       <use x=\"95.410156\" xlink:href=\"#DejaVuSans-52\"/>\n      </g>\n     </g>\n    </g>\n    <g id=\"ytick_4\">\n     <g id=\"line2d_10\">\n      <g>\n       <use style=\"stroke:#000000;stroke-width:0.8;\" x=\"43.78125\" xlink:href=\"#m5407655a15\" y=\"166.231219\"/>\n      </g>\n     </g>\n     <g id=\"text_11\">\n      <!-- 0.6 -->\n      <g transform=\"translate(20.878125 170.030437)scale(0.1 -0.1)\">\n       <use xlink:href=\"#DejaVuSans-48\"/>\n       <use x=\"63.623047\" xlink:href=\"#DejaVuSans-46\"/>\n       <use x=\"95.410156\" xlink:href=\"#DejaVuSans-54\"/>\n      </g>\n     </g>\n    </g>\n    <g id=\"ytick_5\">\n     <g id=\"line2d_11\">\n      <g>\n       <use style=\"stroke:#000000;stroke-width:0.8;\" x=\"43.78125\" xlink:href=\"#m5407655a15\" y=\"88.615219\"/>\n      </g>\n     </g>\n     <g id=\"text_12\">\n      <!-- 0.8 -->\n      <g transform=\"translate(20.878125 92.414437)scale(0.1 -0.1)\">\n       <use xlink:href=\"#DejaVuSans-48\"/>\n       <use x=\"63.623047\" xlink:href=\"#DejaVuSans-46\"/>\n       <use x=\"95.410156\" xlink:href=\"#DejaVuSans-56\"/>\n      </g>\n     </g>\n    </g>\n    <g id=\"ytick_6\">\n     <g id=\"line2d_12\">\n      <g>\n       <use style=\"stroke:#000000;stroke-width:0.8;\" x=\"43.78125\" xlink:href=\"#m5407655a15\" y=\"10.999219\"/>\n      </g>\n     </g>\n     <g id=\"text_13\">\n      <!-- 1.0 -->\n      <g transform=\"translate(20.878125 14.798437)scale(0.1 -0.1)\">\n       <use xlink:href=\"#DejaVuSans-49\"/>\n       <use x=\"63.623047\" xlink:href=\"#DejaVuSans-46\"/>\n       <use x=\"95.410156\" xlink:href=\"#DejaVuSans-48\"/>\n      </g>\n     </g>\n    </g>\n    <g id=\"text_14\">\n     <!-- Second PCA component -->\n     <g transform=\"translate(14.798438 264.832969)rotate(-90)scale(0.1 -0.1)\">\n      <defs>\n       <path d=\"M 53.515625 70.515625 \nL 53.515625 60.890625 \nQ 47.90625 63.578125 42.921875 64.890625 \nQ 37.9375 66.21875 33.296875 66.21875 \nQ 25.25 66.21875 20.875 63.09375 \nQ 16.5 59.96875 16.5 54.203125 \nQ 16.5 49.359375 19.40625 46.890625 \nQ 22.3125 44.4375 30.421875 42.921875 \nL 36.375 41.703125 \nQ 47.40625 39.59375 52.65625 34.296875 \nQ 57.90625 29 57.90625 20.125 \nQ 57.90625 9.515625 50.796875 4.046875 \nQ 43.703125 -1.421875 29.984375 -1.421875 \nQ 24.8125 -1.421875 18.96875 -0.25 \nQ 13.140625 0.921875 6.890625 3.21875 \nL 6.890625 13.375 \nQ 12.890625 10.015625 18.65625 8.296875 \nQ 24.421875 6.59375 29.984375 6.59375 \nQ 38.421875 6.59375 43.015625 9.90625 \nQ 47.609375 13.234375 47.609375 19.390625 \nQ 47.609375 24.75 44.3125 27.78125 \nQ 41.015625 30.8125 33.5 32.328125 \nL 27.484375 33.5 \nQ 16.453125 35.6875 11.515625 40.375 \nQ 6.59375 45.0625 6.59375 53.421875 \nQ 6.59375 63.09375 13.40625 68.65625 \nQ 20.21875 74.21875 32.171875 74.21875 \nQ 37.3125 74.21875 42.625 73.28125 \nQ 47.953125 72.359375 53.515625 70.515625 \nz\n\" id=\"DejaVuSans-83\"/>\n       <path d=\"M 45.40625 46.390625 \nL 45.40625 75.984375 \nL 54.390625 75.984375 \nL 54.390625 0 \nL 45.40625 0 \nL 45.40625 8.203125 \nQ 42.578125 3.328125 38.25 0.953125 \nQ 33.9375 -1.421875 27.875 -1.421875 \nQ 17.96875 -1.421875 11.734375 6.484375 \nQ 5.515625 14.40625 5.515625 27.296875 \nQ 5.515625 40.1875 11.734375 48.09375 \nQ 17.96875 56 27.875 56 \nQ 33.9375 56 38.25 53.625 \nQ 42.578125 51.265625 45.40625 46.390625 \nz\nM 14.796875 27.296875 \nQ 14.796875 17.390625 18.875 11.75 \nQ 22.953125 6.109375 30.078125 6.109375 \nQ 37.203125 6.109375 41.296875 11.75 \nQ 45.40625 17.390625 45.40625 27.296875 \nQ 45.40625 37.203125 41.296875 42.84375 \nQ 37.203125 48.484375 30.078125 48.484375 \nQ 22.953125 48.484375 18.875 42.84375 \nQ 14.796875 37.203125 14.796875 27.296875 \nz\n\" id=\"DejaVuSans-100\"/>\n      </defs>\n      <use xlink:href=\"#DejaVuSans-83\"/>\n      <use x=\"63.476562\" xlink:href=\"#DejaVuSans-101\"/>\n      <use x=\"125\" xlink:href=\"#DejaVuSans-99\"/>\n      <use x=\"179.980469\" xlink:href=\"#DejaVuSans-111\"/>\n      <use x=\"241.162109\" xlink:href=\"#DejaVuSans-110\"/>\n      <use x=\"304.541016\" xlink:href=\"#DejaVuSans-100\"/>\n      <use x=\"368.017578\" xlink:href=\"#DejaVuSans-32\"/>\n      <use x=\"399.804688\" xlink:href=\"#DejaVuSans-80\"/>\n      <use x=\"460.107422\" xlink:href=\"#DejaVuSans-67\"/>\n      <use x=\"529.931641\" xlink:href=\"#DejaVuSans-65\"/>\n      <use x=\"598.339844\" xlink:href=\"#DejaVuSans-32\"/>\n      <use x=\"630.126953\" xlink:href=\"#DejaVuSans-99\"/>\n      <use x=\"685.107422\" xlink:href=\"#DejaVuSans-111\"/>\n      <use x=\"746.289062\" xlink:href=\"#DejaVuSans-109\"/>\n      <use x=\"843.701172\" xlink:href=\"#DejaVuSans-112\"/>\n      <use x=\"907.177734\" xlink:href=\"#DejaVuSans-111\"/>\n      <use x=\"968.359375\" xlink:href=\"#DejaVuSans-110\"/>\n      <use x=\"1031.738281\" xlink:href=\"#DejaVuSans-101\"/>\n      <use x=\"1093.261719\" xlink:href=\"#DejaVuSans-110\"/>\n      <use x=\"1156.640625\" xlink:href=\"#DejaVuSans-116\"/>\n     </g>\n    </g>\n   </g>\n   <g id=\"patch_3\">\n    <path d=\"M 43.78125 399.079219 \nL 43.78125 10.999219 \n\" style=\"fill:none;stroke:#000000;stroke-linecap:square;stroke-linejoin:miter;stroke-width:0.8;\"/>\n   </g>\n   <g id=\"patch_4\">\n    <path d=\"M 490.18125 399.079219 \nL 490.18125 10.999219 \n\" style=\"fill:none;stroke:#000000;stroke-linecap:square;stroke-linejoin:miter;stroke-width:0.8;\"/>\n   </g>\n   <g id=\"patch_5\">\n    <path d=\"M 43.78125 399.079219 \nL 490.18125 399.079219 \n\" style=\"fill:none;stroke:#000000;stroke-linecap:square;stroke-linejoin:miter;stroke-width:0.8;\"/>\n   </g>\n   <g id=\"patch_6\">\n    <path d=\"M 43.78125 10.999219 \nL 490.18125 10.999219 \n\" style=\"fill:none;stroke:#000000;stroke-linecap:square;stroke-linejoin:miter;stroke-width:0.8;\"/>\n   </g>\n   <g id=\"legend_1\">\n    <g id=\"patch_7\">\n     <path d=\"M 417.470312 63.033594 \nL 483.18125 63.033594 \nQ 485.18125 63.033594 485.18125 61.033594 \nL 485.18125 17.999219 \nQ 485.18125 15.999219 483.18125 15.999219 \nL 417.470312 15.999219 \nQ 415.470312 15.999219 415.470312 17.999219 \nL 415.470312 61.033594 \nQ 415.470312 63.033594 417.470312 63.033594 \nz\n\" style=\"fill:#ffffff;opacity:0.8;stroke:#cccccc;stroke-linejoin:miter;\"/>\n    </g>\n    <g id=\"line2d_13\">\n     <path d=\"M 419.470312 24.097656 \nL 439.470312 24.097656 \n\" style=\"fill:none;stroke:#ffffff;stroke-linecap:square;stroke-width:1.5;\"/>\n    </g>\n    <g id=\"line2d_14\">\n     <defs>\n      <path d=\"M 0 4 \nC 1.060812 4 2.078319 3.578535 2.828427 2.828427 \nC 3.578535 2.078319 4 1.060812 4 0 \nC 4 -1.060812 3.578535 -2.078319 2.828427 -2.828427 \nC 2.078319 -3.578535 1.060812 -4 0 -4 \nC -1.060812 -4 -2.078319 -3.578535 -2.828427 -2.828427 \nC -3.578535 -2.078319 -4 -1.060812 -4 0 \nC -4 1.060812 -3.578535 2.078319 -2.828427 2.828427 \nC -2.078319 3.578535 -1.060812 4 0 4 \nz\n\" id=\"md6e61d84b3\" style=\"stroke:#ffffff;\"/>\n     </defs>\n     <g>\n      <use style=\"fill:#ff0000;stroke:#ffffff;\" x=\"429.470312\" xlink:href=\"#md6e61d84b3\" y=\"24.097656\"/>\n     </g>\n    </g>\n    <g id=\"text_15\">\n     <!-- PEMFC -->\n     <g transform=\"translate(447.470312 27.597656)scale(0.1 -0.1)\">\n      <defs>\n       <path d=\"M 9.8125 72.90625 \nL 55.90625 72.90625 \nL 55.90625 64.59375 \nL 19.671875 64.59375 \nL 19.671875 43.015625 \nL 54.390625 43.015625 \nL 54.390625 34.71875 \nL 19.671875 34.71875 \nL 19.671875 8.296875 \nL 56.78125 8.296875 \nL 56.78125 0 \nL 9.8125 0 \nz\n\" id=\"DejaVuSans-69\"/>\n       <path d=\"M 9.8125 72.90625 \nL 24.515625 72.90625 \nL 43.109375 23.296875 \nL 61.8125 72.90625 \nL 76.515625 72.90625 \nL 76.515625 0 \nL 66.890625 0 \nL 66.890625 64.015625 \nL 48.09375 14.015625 \nL 38.1875 14.015625 \nL 19.390625 64.015625 \nL 19.390625 0 \nL 9.8125 0 \nz\n\" id=\"DejaVuSans-77\"/>\n      </defs>\n      <use xlink:href=\"#DejaVuSans-80\"/>\n      <use x=\"60.302734\" xlink:href=\"#DejaVuSans-69\"/>\n      <use x=\"123.486328\" xlink:href=\"#DejaVuSans-77\"/>\n      <use x=\"209.765625\" xlink:href=\"#DejaVuSans-70\"/>\n      <use x=\"267.285156\" xlink:href=\"#DejaVuSans-67\"/>\n     </g>\n    </g>\n    <g id=\"line2d_15\">\n     <path d=\"M 419.470312 38.775781 \nL 439.470312 38.775781 \n\" style=\"fill:none;stroke:#ffffff;stroke-linecap:square;stroke-width:1.5;\"/>\n    </g>\n    <g id=\"line2d_16\">\n     <defs>\n      <path d=\"M 0 4 \nC 1.060812 4 2.078319 3.578535 2.828427 2.828427 \nC 3.578535 2.078319 4 1.060812 4 0 \nC 4 -1.060812 3.578535 -2.078319 2.828427 -2.828427 \nC 2.078319 -3.578535 1.060812 -4 0 -4 \nC -1.060812 -4 -2.078319 -3.578535 -2.828427 -2.828427 \nC -3.578535 -2.078319 -4 -1.060812 -4 0 \nC -4 1.060812 -3.578535 2.078319 -2.828427 2.828427 \nC -2.078319 3.578535 -1.060812 4 0 4 \nz\n\" id=\"m4becd48206\" style=\"stroke:#ffffff;\"/>\n     </defs>\n     <g>\n      <use style=\"fill:#008000;stroke:#ffffff;\" x=\"429.470312\" xlink:href=\"#m4becd48206\" y=\"38.775781\"/>\n     </g>\n    </g>\n    <g id=\"text_16\">\n     <!-- PAFC -->\n     <g transform=\"translate(447.470312 42.275781)scale(0.1 -0.1)\">\n      <use xlink:href=\"#DejaVuSans-80\"/>\n      <use x=\"53.927734\" xlink:href=\"#DejaVuSans-65\"/>\n      <use x=\"122.335938\" xlink:href=\"#DejaVuSans-70\"/>\n      <use x=\"179.855469\" xlink:href=\"#DejaVuSans-67\"/>\n     </g>\n    </g>\n    <g id=\"line2d_17\">\n     <path d=\"M 419.470312 53.453906 \nL 439.470312 53.453906 \n\" style=\"fill:none;stroke:#ffffff;stroke-linecap:square;stroke-width:1.5;\"/>\n    </g>\n    <g id=\"line2d_18\">\n     <defs>\n      <path d=\"M 0 4 \nC 1.060812 4 2.078319 3.578535 2.828427 2.828427 \nC 3.578535 2.078319 4 1.060812 4 0 \nC 4 -1.060812 3.578535 -2.078319 2.828427 -2.828427 \nC 2.078319 -3.578535 1.060812 -4 0 -4 \nC -1.060812 -4 -2.078319 -3.578535 -2.828427 -2.828427 \nC -3.578535 -2.078319 -4 -1.060812 -4 0 \nC -4 1.060812 -3.578535 2.078319 -2.828427 2.828427 \nC -2.078319 3.578535 -1.060812 4 0 4 \nz\n\" id=\"m617638a39c\" style=\"stroke:#ffffff;\"/>\n     </defs>\n     <g>\n      <use style=\"fill:#0000ff;stroke:#ffffff;\" x=\"429.470312\" xlink:href=\"#m617638a39c\" y=\"53.453906\"/>\n     </g>\n    </g>\n    <g id=\"text_17\">\n     <!-- SOFC -->\n     <g transform=\"translate(447.470312 56.953906)scale(0.1 -0.1)\">\n      <defs>\n       <path d=\"M 39.40625 66.21875 \nQ 28.65625 66.21875 22.328125 58.203125 \nQ 16.015625 50.203125 16.015625 36.375 \nQ 16.015625 22.609375 22.328125 14.59375 \nQ 28.65625 6.59375 39.40625 6.59375 \nQ 50.140625 6.59375 56.421875 14.59375 \nQ 62.703125 22.609375 62.703125 36.375 \nQ 62.703125 50.203125 56.421875 58.203125 \nQ 50.140625 66.21875 39.40625 66.21875 \nz\nM 39.40625 74.21875 \nQ 54.734375 74.21875 63.90625 63.9375 \nQ 73.09375 53.65625 73.09375 36.375 \nQ 73.09375 19.140625 63.90625 8.859375 \nQ 54.734375 -1.421875 39.40625 -1.421875 \nQ 24.03125 -1.421875 14.8125 8.828125 \nQ 5.609375 19.09375 5.609375 36.375 \nQ 5.609375 53.65625 14.8125 63.9375 \nQ 24.03125 74.21875 39.40625 74.21875 \nz\n\" id=\"DejaVuSans-79\"/>\n      </defs>\n      <use xlink:href=\"#DejaVuSans-83\"/>\n      <use x=\"63.476562\" xlink:href=\"#DejaVuSans-79\"/>\n      <use x=\"142.1875\" xlink:href=\"#DejaVuSans-70\"/>\n      <use x=\"199.707031\" xlink:href=\"#DejaVuSans-67\"/>\n     </g>\n    </g>\n   </g>\n  </g>\n </g>\n</svg>\n",
      "image/png": "[encoded data removed]"
     },
     "metadata": {}
    }
   ],
   "metadata": {}
  },
  {
   "cell_type": "code",
   "execution_count": 21,
   "source": [
    "plt.figure(figsize=(7, 7))\n",
    "plt.xlim(-3.7, -1.5)\n",
    "plt.ylim(-3, 1)\n",
    "\n",
    "\n",
    "color_lst2 = colors(PEMFC+PAFC+SOFC, [PEMFC, PAFC, SOFC], ['lightsteelblue', 'r', 'g', 'b'])\n",
    "\n",
    "display_pca_scatterplot(w2v_model.wv, PEMFC + PAFC + SOFC, color=color_lst2, a=0.9, label=True)"
   ],
   "outputs": [
    {
     "output_type": "display_data",
     "data": {
      "text/plain": [
       "<Figure size 700x700 with 1 Axes>"
      ],
      "image/svg+xml": "<?xml version=\"1.0\" encoding=\"utf-8\" standalone=\"no\"?>\n<!DOCTYPE svg PUBLIC \"-//W3C//DTD SVG 1.1//EN\"\n  \"http://www.w3.org/Graphics/SVG/1.1/DTD/svg11.dtd\">\n<!-- Created with matplotlib (https://matplotlib.org/) -->\n<svg height=\"422.957344pt\" version=\"1.1\" viewBox=\"0 0 451.605469 422.957344\" width=\"451.605469pt\" xmlns=\"http://www.w3.org/2000/svg\" xmlns:xlink=\"http://www.w3.org/1999/xlink\">\n <metadata>\n  <rdf:RDF xmlns:cc=\"http://creativecommons.org/ns#\" xmlns:dc=\"http://purl.org/dc/elements/1.1/\" xmlns:rdf=\"http://www.w3.org/1999/02/22-rdf-syntax-ns#\">\n   <cc:Work>\n    <dc:type rdf:resource=\"http://purl.org/dc/dcmitype/StillImage\"/>\n    <dc:date>2021-08-16T10:18:02.498639</dc:date>\n    <dc:format>image/svg+xml</dc:format>\n    <dc:creator>\n     <cc:Agent>\n      <dc:title>Matplotlib v3.3.2, https://matplotlib.org/</dc:title>\n     </cc:Agent>\n    </dc:creator>\n   </cc:Work>\n  </rdf:RDF>\n </metadata>\n <defs>\n  <style type=\"text/css\">*{stroke-linecap:butt;stroke-linejoin:round;}</style>\n </defs>\n <g id=\"figure_1\">\n  <g id=\"patch_1\">\n   <path d=\"M 0 422.957344 \nL 451.605469 422.957344 \nL 451.605469 0 \nL 0 0 \nz\n\" style=\"fill:#ffffff;\"/>\n  </g>\n  <g id=\"axes_1\">\n   <g id=\"patch_2\">\n    <path d=\"M 38.482813 399.079219 \nL 429.082813 399.079219 \nL 429.082813 10.999219 \nL 38.482813 10.999219 \nz\n\" style=\"fill:#ffffff;\"/>\n   </g>\n   <g id=\"PathCollection_1\">\n    <defs>\n     <path d=\"M 0 3 \nC 0.795609 3 1.55874 2.683901 2.12132 2.12132 \nC 2.683901 1.55874 3 0.795609 3 -0 \nC 3 -0.795609 2.683901 -1.55874 2.12132 -2.12132 \nC 1.55874 -2.683901 0.795609 -3 0 -3 \nC -0.795609 -3 -1.55874 -2.683901 -2.12132 -2.12132 \nC -2.683901 -1.55874 -3 -0.795609 -3 0 \nC -3 0.795609 -2.683901 1.55874 -2.12132 2.12132 \nC -1.55874 2.683901 -0.795609 3 0 3 \nz\n\" id=\"C0_0_dc35cff37c\"/>\n    </defs>\n    <g clip-path=\"url(#p8f19144b9c)\">\n     <use style=\"fill:#ff0000;fill-opacity:0.9;stroke:#ff0000;stroke-opacity:0.9;\" x=\"402.316029\" xlink:href=\"#C0_0_dc35cff37c\" y=\"-60.924193\"/>\n    </g>\n    <g clip-path=\"url(#p8f19144b9c)\">\n     <use style=\"fill:#ff0000;fill-opacity:0.9;stroke:#ff0000;stroke-opacity:0.9;\" x=\"1073.510142\" xlink:href=\"#C0_0_dc35cff37c\" y=\"-348.05378\"/>\n    </g>\n    <g clip-path=\"url(#p8f19144b9c)\">\n     <use style=\"fill:#ff0000;fill-opacity:0.9;stroke:#ff0000;stroke-opacity:0.9;\" x=\"269.210994\" xlink:href=\"#C0_0_dc35cff37c\" y=\"225.682799\"/>\n    </g>\n    <g clip-path=\"url(#p8f19144b9c)\">\n     <use style=\"fill:#008000;fill-opacity:0.9;stroke:#008000;stroke-opacity:0.9;\" x=\"295.75601\" xlink:href=\"#C0_0_dc35cff37c\" y=\"146.61156\"/>\n    </g>\n    <g clip-path=\"url(#p8f19144b9c)\">\n     <use style=\"fill:#ff0000;fill-opacity:0.9;stroke:#ff0000;stroke-opacity:0.9;\" x=\"772.338465\" xlink:href=\"#C0_0_dc35cff37c\" y=\"-38.587974\"/>\n    </g>\n    <g clip-path=\"url(#p8f19144b9c)\">\n     <use style=\"fill:#008000;fill-opacity:0.9;stroke:#008000;stroke-opacity:0.9;\" x=\"235.964398\" xlink:href=\"#C0_0_dc35cff37c\" y=\"154.584197\"/>\n    </g>\n    <g clip-path=\"url(#p8f19144b9c)\">\n     <use style=\"fill:#ff0000;fill-opacity:0.9;stroke:#ff0000;stroke-opacity:0.9;\" x=\"924.961168\" xlink:href=\"#C0_0_dc35cff37c\" y=\"-204.982436\"/>\n    </g>\n    <g clip-path=\"url(#p8f19144b9c)\">\n     <use style=\"fill:#008000;fill-opacity:0.9;stroke:#008000;stroke-opacity:0.9;\" x=\"258.259807\" xlink:href=\"#C0_0_dc35cff37c\" y=\"71.987798\"/>\n    </g>\n    <g clip-path=\"url(#p8f19144b9c)\">\n     <use style=\"fill:#ff0000;fill-opacity:0.9;stroke:#ff0000;stroke-opacity:0.9;\" x=\"1049.63984\" xlink:href=\"#C0_0_dc35cff37c\" y=\"-748.103524\"/>\n    </g>\n    <g clip-path=\"url(#p8f19144b9c)\">\n     <use style=\"fill:#ff0000;fill-opacity:0.9;stroke:#ff0000;stroke-opacity:0.9;\" x=\"712.179435\" xlink:href=\"#C0_0_dc35cff37c\" y=\"-299.838288\"/>\n    </g>\n    <g clip-path=\"url(#p8f19144b9c)\">\n     <use style=\"fill:#ff0000;fill-opacity:0.9;stroke:#ff0000;stroke-opacity:0.9;\" x=\"330.666688\" xlink:href=\"#C0_0_dc35cff37c\" y=\"331.292414\"/>\n    </g>\n    <g clip-path=\"url(#p8f19144b9c)\">\n     <use style=\"fill:#008000;fill-opacity:0.9;stroke:#008000;stroke-opacity:0.9;\" x=\"110.566368\" xlink:href=\"#C0_0_dc35cff37c\" y=\"78.364414\"/>\n    </g>\n    <g clip-path=\"url(#p8f19144b9c)\">\n     <use style=\"fill:#ff0000;fill-opacity:0.9;stroke:#ff0000;stroke-opacity:0.9;\" x=\"1050.422334\" xlink:href=\"#C0_0_dc35cff37c\" y=\"-250.061059\"/>\n    </g>\n    <g clip-path=\"url(#p8f19144b9c)\">\n     <use style=\"fill:#ff0000;fill-opacity:0.9;stroke:#ff0000;stroke-opacity:0.9;\" x=\"301.31057\" xlink:href=\"#C0_0_dc35cff37c\" y=\"303.636154\"/>\n    </g>\n    <g clip-path=\"url(#p8f19144b9c)\">\n     <use style=\"fill:#ff0000;fill-opacity:0.9;stroke:#ff0000;stroke-opacity:0.9;\" x=\"674.422878\" xlink:href=\"#C0_0_dc35cff37c\" y=\"30.844038\"/>\n    </g>\n    <g clip-path=\"url(#p8f19144b9c)\">\n     <use style=\"fill:#ff0000;fill-opacity:0.9;stroke:#ff0000;stroke-opacity:0.9;\" x=\"1184.421614\" xlink:href=\"#C0_0_dc35cff37c\" y=\"-276.149984\"/>\n    </g>\n    <g clip-path=\"url(#p8f19144b9c)\">\n     <use style=\"fill:#ff0000;fill-opacity:0.9;stroke:#ff0000;stroke-opacity:0.9;\" x=\"481.710303\" xlink:href=\"#C0_0_dc35cff37c\" y=\"-791.700606\"/>\n    </g>\n    <g clip-path=\"url(#p8f19144b9c)\">\n     <use style=\"fill:#ff0000;fill-opacity:0.9;stroke:#ff0000;stroke-opacity:0.9;\" x=\"285.683427\" xlink:href=\"#C0_0_dc35cff37c\" y=\"-96.154565\"/>\n    </g>\n    <g clip-path=\"url(#p8f19144b9c)\">\n     <use style=\"fill:#ff0000;fill-opacity:0.9;stroke:#ff0000;stroke-opacity:0.9;\" x=\"568.861141\" xlink:href=\"#C0_0_dc35cff37c\" y=\"162.972445\"/>\n    </g>\n    <g clip-path=\"url(#p8f19144b9c)\">\n     <use style=\"fill:#ff0000;fill-opacity:0.9;stroke:#ff0000;stroke-opacity:0.9;\" x=\"554.664852\" xlink:href=\"#C0_0_dc35cff37c\" y=\"-75.377182\"/>\n    </g>\n    <g clip-path=\"url(#p8f19144b9c)\">\n     <use style=\"fill:#ff0000;fill-opacity:0.9;stroke:#ff0000;stroke-opacity:0.9;\" x=\"490.940262\" xlink:href=\"#C0_0_dc35cff37c\" y=\"-24.820715\"/>\n    </g>\n    <g clip-path=\"url(#p8f19144b9c)\">\n     <use style=\"fill:#008000;fill-opacity:0.9;stroke:#008000;stroke-opacity:0.9;\" x=\"110.56641\" xlink:href=\"#C0_0_dc35cff37c\" y=\"78.36442\"/>\n    </g>\n    <g clip-path=\"url(#p8f19144b9c)\">\n     <use style=\"fill:#008000;fill-opacity:0.9;stroke:#008000;stroke-opacity:0.9;\" x=\"258.259722\" xlink:href=\"#C0_0_dc35cff37c\" y=\"71.987789\"/>\n    </g>\n    <g clip-path=\"url(#p8f19144b9c)\">\n     <use style=\"fill:#008000;fill-opacity:0.9;stroke:#008000;stroke-opacity:0.9;\" x=\"86.069453\" xlink:href=\"#C0_0_dc35cff37c\" y=\"168.729935\"/>\n    </g>\n    <g clip-path=\"url(#p8f19144b9c)\">\n     <use style=\"fill:#008000;fill-opacity:0.9;stroke:#008000;stroke-opacity:0.9;\" x=\"235.964355\" xlink:href=\"#C0_0_dc35cff37c\" y=\"154.584165\"/>\n    </g>\n    <g clip-path=\"url(#p8f19144b9c)\">\n     <use style=\"fill:#008000;fill-opacity:0.9;stroke:#008000;stroke-opacity:0.9;\" x=\"207.928176\" xlink:href=\"#C0_0_dc35cff37c\" y=\"295.113932\"/>\n    </g>\n    <g clip-path=\"url(#p8f19144b9c)\">\n     <use style=\"fill:#008000;fill-opacity:0.9;stroke:#008000;stroke-opacity:0.9;\" x=\"227.702402\" xlink:href=\"#C0_0_dc35cff37c\" y=\"95.538704\"/>\n    </g>\n    <g clip-path=\"url(#p8f19144b9c)\">\n     <use style=\"fill:#008000;fill-opacity:0.9;stroke:#008000;stroke-opacity:0.9;\" x=\"250.421536\" xlink:href=\"#C0_0_dc35cff37c\" y=\"304.077986\"/>\n    </g>\n    <g clip-path=\"url(#p8f19144b9c)\">\n     <use style=\"fill:#008000;fill-opacity:0.9;stroke:#008000;stroke-opacity:0.9;\" x=\"199.705166\" xlink:href=\"#C0_0_dc35cff37c\" y=\"46.752089\"/>\n    </g>\n    <g clip-path=\"url(#p8f19144b9c)\">\n     <use style=\"fill:#008000;fill-opacity:0.9;stroke:#008000;stroke-opacity:0.9;\" x=\"-204.994926\" xlink:href=\"#C0_0_dc35cff37c\" y=\"-174.3036\"/>\n    </g>\n    <g clip-path=\"url(#p8f19144b9c)\">\n     <use style=\"fill:#008000;fill-opacity:0.9;stroke:#008000;stroke-opacity:0.9;\" x=\"255.398925\" xlink:href=\"#C0_0_dc35cff37c\" y=\"344.689988\"/>\n    </g>\n    <g clip-path=\"url(#p8f19144b9c)\">\n     <use style=\"fill:#008000;fill-opacity:0.9;stroke:#008000;stroke-opacity:0.9;\" x=\"141.48942\" xlink:href=\"#C0_0_dc35cff37c\" y=\"197.021602\"/>\n    </g>\n    <g clip-path=\"url(#p8f19144b9c)\">\n     <use style=\"fill:#008000;fill-opacity:0.9;stroke:#008000;stroke-opacity:0.9;\" x=\"231.558085\" xlink:href=\"#C0_0_dc35cff37c\" y=\"321.210883\"/>\n    </g>\n    <g clip-path=\"url(#p8f19144b9c)\">\n     <use style=\"fill:#008000;fill-opacity:0.9;stroke:#008000;stroke-opacity:0.9;\" x=\"147.92068\" xlink:href=\"#C0_0_dc35cff37c\" y=\"297.161857\"/>\n    </g>\n    <g clip-path=\"url(#p8f19144b9c)\">\n     <use style=\"fill:#008000;fill-opacity:0.9;stroke:#008000;stroke-opacity:0.9;\" x=\"216.000913\" xlink:href=\"#C0_0_dc35cff37c\" y=\"378.400699\"/>\n    </g>\n    <g clip-path=\"url(#p8f19144b9c)\">\n     <use style=\"fill:#008000;fill-opacity:0.9;stroke:#008000;stroke-opacity:0.9;\" x=\"280.596784\" xlink:href=\"#C0_0_dc35cff37c\" y=\"355.143239\"/>\n    </g>\n    <g clip-path=\"url(#p8f19144b9c)\">\n     <use style=\"fill:#008000;fill-opacity:0.9;stroke:#008000;stroke-opacity:0.9;\" x=\"241.60874\" xlink:href=\"#C0_0_dc35cff37c\" y=\"376.738039\"/>\n    </g>\n    <g clip-path=\"url(#p8f19144b9c)\">\n     <use style=\"fill:#008000;fill-opacity:0.9;stroke:#008000;stroke-opacity:0.9;\" x=\"166.970892\" xlink:href=\"#C0_0_dc35cff37c\" y=\"358.037667\"/>\n    </g>\n    <g clip-path=\"url(#p8f19144b9c)\">\n     <use style=\"fill:#008000;fill-opacity:0.9;stroke:#008000;stroke-opacity:0.9;\" x=\"816.310538\" xlink:href=\"#C0_0_dc35cff37c\" y=\"-880.199841\"/>\n    </g>\n    <g clip-path=\"url(#p8f19144b9c)\">\n     <use style=\"fill:#008000;fill-opacity:0.9;stroke:#008000;stroke-opacity:0.9;\" x=\"230.192176\" xlink:href=\"#C0_0_dc35cff37c\" y=\"327.519895\"/>\n    </g>\n    <g clip-path=\"url(#p8f19144b9c)\">\n     <use style=\"fill:#008000;fill-opacity:0.9;stroke:#008000;stroke-opacity:0.9;\" x=\"364.5999\" xlink:href=\"#C0_0_dc35cff37c\" y=\"63.197097\"/>\n    </g>\n    <g clip-path=\"url(#p8f19144b9c)\">\n     <use style=\"fill:#008000;fill-opacity:0.9;stroke:#008000;stroke-opacity:0.9;\" x=\"219.757501\" xlink:href=\"#C0_0_dc35cff37c\" y=\"231.046316\"/>\n    </g>\n    <g clip-path=\"url(#p8f19144b9c)\">\n     <use style=\"fill:#008000;fill-opacity:0.9;stroke:#008000;stroke-opacity:0.9;\" x=\"123.712626\" xlink:href=\"#C0_0_dc35cff37c\" y=\"135.664821\"/>\n    </g>\n    <g clip-path=\"url(#p8f19144b9c)\">\n     <use style=\"fill:#008000;fill-opacity:0.9;stroke:#008000;stroke-opacity:0.9;\" x=\"139.141156\" xlink:href=\"#C0_0_dc35cff37c\" y=\"-919.862647\"/>\n    </g>\n    <g clip-path=\"url(#p8f19144b9c)\">\n     <use style=\"fill:#008000;fill-opacity:0.9;stroke:#008000;stroke-opacity:0.9;\" x=\"295.756094\" xlink:href=\"#C0_0_dc35cff37c\" y=\"146.611566\"/>\n    </g>\n    <g clip-path=\"url(#p8f19144b9c)\">\n     <use style=\"fill:#008000;fill-opacity:0.9;stroke:#008000;stroke-opacity:0.9;\" x=\"218.316033\" xlink:href=\"#C0_0_dc35cff37c\" y=\"392.650595\"/>\n    </g>\n    <g clip-path=\"url(#p8f19144b9c)\">\n     <use style=\"fill:#008000;fill-opacity:0.9;stroke:#008000;stroke-opacity:0.9;\" x=\"227.129083\" xlink:href=\"#C0_0_dc35cff37c\" y=\"350.043697\"/>\n    </g>\n    <g clip-path=\"url(#p8f19144b9c)\">\n     <use style=\"fill:#008000;fill-opacity:0.9;stroke:#008000;stroke-opacity:0.9;\" x=\"216.766962\" xlink:href=\"#C0_0_dc35cff37c\" y=\"314.314681\"/>\n    </g>\n    <g clip-path=\"url(#p8f19144b9c)\">\n     <use style=\"fill:#008000;fill-opacity:0.9;stroke:#008000;stroke-opacity:0.9;\" x=\"258.283385\" xlink:href=\"#C0_0_dc35cff37c\" y=\"373.319685\"/>\n    </g>\n    <g clip-path=\"url(#p8f19144b9c)\">\n     <use style=\"fill:#008000;fill-opacity:0.9;stroke:#008000;stroke-opacity:0.9;\" x=\"223.751265\" xlink:href=\"#C0_0_dc35cff37c\" y=\"381.864737\"/>\n    </g>\n    <g clip-path=\"url(#p8f19144b9c)\">\n     <use style=\"fill:#0000ff;fill-opacity:0.9;stroke:#0000ff;stroke-opacity:0.9;\" x=\"3580.545786\" xlink:href=\"#C0_0_dc35cff37c\" y=\"298.542672\"/>\n    </g>\n    <g clip-path=\"url(#p8f19144b9c)\">\n     <use style=\"fill:#0000ff;fill-opacity:0.9;stroke:#0000ff;stroke-opacity:0.9;\" x=\"3359.442284\" xlink:href=\"#C0_0_dc35cff37c\" y=\"188.026246\"/>\n    </g>\n    <g clip-path=\"url(#p8f19144b9c)\">\n     <use style=\"fill:#0000ff;fill-opacity:0.9;stroke:#0000ff;stroke-opacity:0.9;\" x=\"3092.157451\" xlink:href=\"#C0_0_dc35cff37c\" y=\"342.247963\"/>\n    </g>\n    <g clip-path=\"url(#p8f19144b9c)\">\n     <use style=\"fill:#0000ff;fill-opacity:0.9;stroke:#0000ff;stroke-opacity:0.9;\" x=\"1305.086839\" xlink:href=\"#C0_0_dc35cff37c\" y=\"380.000904\"/>\n    </g>\n    <g clip-path=\"url(#p8f19144b9c)\">\n     <use style=\"fill:#0000ff;fill-opacity:0.9;stroke:#0000ff;stroke-opacity:0.9;\" x=\"285.47021\" xlink:href=\"#C0_0_dc35cff37c\" y=\"310.581949\"/>\n    </g>\n    <g clip-path=\"url(#p8f19144b9c)\">\n     <use style=\"fill:#0000ff;fill-opacity:0.9;stroke:#0000ff;stroke-opacity:0.9;\" x=\"1409.167582\" xlink:href=\"#C0_0_dc35cff37c\" y=\"444.008459\"/>\n    </g>\n    <g clip-path=\"url(#p8f19144b9c)\">\n     <use style=\"fill:#0000ff;fill-opacity:0.9;stroke:#0000ff;stroke-opacity:0.9;\" x=\"557.658142\" xlink:href=\"#C0_0_dc35cff37c\" y=\"413.535493\"/>\n    </g>\n    <g clip-path=\"url(#p8f19144b9c)\">\n     <use style=\"fill:#0000ff;fill-opacity:0.9;stroke:#0000ff;stroke-opacity:0.9;\" x=\"1619.830441\" xlink:href=\"#C0_0_dc35cff37c\" y=\"481.331851\"/>\n    </g>\n    <g clip-path=\"url(#p8f19144b9c)\">\n     <use style=\"fill:#0000ff;fill-opacity:0.9;stroke:#0000ff;stroke-opacity:0.9;\" x=\"2216.185595\" xlink:href=\"#C0_0_dc35cff37c\" y=\"266.816563\"/>\n    </g>\n    <g clip-path=\"url(#p8f19144b9c)\">\n     <use style=\"fill:#0000ff;fill-opacity:0.9;stroke:#0000ff;stroke-opacity:0.9;\" x=\"1020.170172\" xlink:href=\"#C0_0_dc35cff37c\" y=\"312.225225\"/>\n    </g>\n    <g clip-path=\"url(#p8f19144b9c)\">\n     <use style=\"fill:#0000ff;fill-opacity:0.9;stroke:#0000ff;stroke-opacity:0.9;\" x=\"1320.733877\" xlink:href=\"#C0_0_dc35cff37c\" y=\"458.836825\"/>\n    </g>\n    <g clip-path=\"url(#p8f19144b9c)\">\n     <use style=\"fill:#0000ff;fill-opacity:0.9;stroke:#0000ff;stroke-opacity:0.9;\" x=\"1273.222153\" xlink:href=\"#C0_0_dc35cff37c\" y=\"328.239119\"/>\n    </g>\n    <g clip-path=\"url(#p8f19144b9c)\">\n     <use style=\"fill:#0000ff;fill-opacity:0.9;stroke:#0000ff;stroke-opacity:0.9;\" x=\"567.227123\" xlink:href=\"#C0_0_dc35cff37c\" y=\"398.976492\"/>\n    </g>\n    <g clip-path=\"url(#p8f19144b9c)\">\n     <use style=\"fill:#0000ff;fill-opacity:0.9;stroke:#0000ff;stroke-opacity:0.9;\" x=\"1552.599012\" xlink:href=\"#C0_0_dc35cff37c\" y=\"-1247.21623\"/>\n    </g>\n    <g clip-path=\"url(#p8f19144b9c)\">\n     <use style=\"fill:#0000ff;fill-opacity:0.9;stroke:#0000ff;stroke-opacity:0.9;\" x=\"923.884205\" xlink:href=\"#C0_0_dc35cff37c\" y=\"453.971927\"/>\n    </g>\n    <g clip-path=\"url(#p8f19144b9c)\">\n     <use style=\"fill:#0000ff;fill-opacity:0.9;stroke:#0000ff;stroke-opacity:0.9;\" x=\"2716.211161\" xlink:href=\"#C0_0_dc35cff37c\" y=\"178.45238\"/>\n    </g>\n    <g clip-path=\"url(#p8f19144b9c)\">\n     <use style=\"fill:#0000ff;fill-opacity:0.9;stroke:#0000ff;stroke-opacity:0.9;\" x=\"1377.582952\" xlink:href=\"#C0_0_dc35cff37c\" y=\"352.069681\"/>\n    </g>\n   </g>\n   <g id=\"matplotlib.axis_1\">\n    <g id=\"xtick_1\">\n     <g id=\"line2d_1\">\n      <defs>\n       <path d=\"M 0 0 \nL 0 3.5 \n\" id=\"mc03b6dcf23\" style=\"stroke:#000000;stroke-width:0.8;\"/>\n      </defs>\n      <g>\n       <use style=\"stroke:#000000;stroke-width:0.8;\" x=\"73.991903\" xlink:href=\"#mc03b6dcf23\" y=\"399.079219\"/>\n      </g>\n     </g>\n     <g id=\"text_1\">\n      <!-- −3.50 -->\n      <g transform=\"translate(58.669247 413.677656)scale(0.1 -0.1)\">\n       <defs>\n        <path d=\"M 10.59375 35.5 \nL 73.1875 35.5 \nL 73.1875 27.203125 \nL 10.59375 27.203125 \nz\n\" id=\"DejaVuSans-8722\"/>\n        <path d=\"M 40.578125 39.3125 \nQ 47.65625 37.796875 51.625 33 \nQ 55.609375 28.21875 55.609375 21.1875 \nQ 55.609375 10.40625 48.1875 4.484375 \nQ 40.765625 -1.421875 27.09375 -1.421875 \nQ 22.515625 -1.421875 17.65625 -0.515625 \nQ 12.796875 0.390625 7.625 2.203125 \nL 7.625 11.71875 \nQ 11.71875 9.328125 16.59375 8.109375 \nQ 21.484375 6.890625 26.8125 6.890625 \nQ 36.078125 6.890625 40.9375 10.546875 \nQ 45.796875 14.203125 45.796875 21.1875 \nQ 45.796875 27.640625 41.28125 31.265625 \nQ 36.765625 34.90625 28.71875 34.90625 \nL 20.21875 34.90625 \nL 20.21875 43.015625 \nL 29.109375 43.015625 \nQ 36.375 43.015625 40.234375 45.921875 \nQ 44.09375 48.828125 44.09375 54.296875 \nQ 44.09375 59.90625 40.109375 62.90625 \nQ 36.140625 65.921875 28.71875 65.921875 \nQ 24.65625 65.921875 20.015625 65.03125 \nQ 15.375 64.15625 9.8125 62.3125 \nL 9.8125 71.09375 \nQ 15.4375 72.65625 20.34375 73.4375 \nQ 25.25 74.21875 29.59375 74.21875 \nQ 40.828125 74.21875 47.359375 69.109375 \nQ 53.90625 64.015625 53.90625 55.328125 \nQ 53.90625 49.265625 50.4375 45.09375 \nQ 46.96875 40.921875 40.578125 39.3125 \nz\n\" id=\"DejaVuSans-51\"/>\n        <path d=\"M 10.6875 12.40625 \nL 21 12.40625 \nL 21 0 \nL 10.6875 0 \nz\n\" id=\"DejaVuSans-46\"/>\n        <path d=\"M 10.796875 72.90625 \nL 49.515625 72.90625 \nL 49.515625 64.59375 \nL 19.828125 64.59375 \nL 19.828125 46.734375 \nQ 21.96875 47.46875 24.109375 47.828125 \nQ 26.265625 48.1875 28.421875 48.1875 \nQ 40.625 48.1875 47.75 41.5 \nQ 54.890625 34.8125 54.890625 23.390625 \nQ 54.890625 11.625 47.5625 5.09375 \nQ 40.234375 -1.421875 26.90625 -1.421875 \nQ 22.3125 -1.421875 17.546875 -0.640625 \nQ 12.796875 0.140625 7.71875 1.703125 \nL 7.71875 11.625 \nQ 12.109375 9.234375 16.796875 8.0625 \nQ 21.484375 6.890625 26.703125 6.890625 \nQ 35.15625 6.890625 40.078125 11.328125 \nQ 45.015625 15.765625 45.015625 23.390625 \nQ 45.015625 31 40.078125 35.4375 \nQ 35.15625 39.890625 26.703125 39.890625 \nQ 22.75 39.890625 18.8125 39.015625 \nQ 14.890625 38.140625 10.796875 36.28125 \nz\n\" id=\"DejaVuSans-53\"/>\n        <path d=\"M 31.78125 66.40625 \nQ 24.171875 66.40625 20.328125 58.90625 \nQ 16.5 51.421875 16.5 36.375 \nQ 16.5 21.390625 20.328125 13.890625 \nQ 24.171875 6.390625 31.78125 6.390625 \nQ 39.453125 6.390625 43.28125 13.890625 \nQ 47.125 21.390625 47.125 36.375 \nQ 47.125 51.421875 43.28125 58.90625 \nQ 39.453125 66.40625 31.78125 66.40625 \nz\nM 31.78125 74.21875 \nQ 44.046875 74.21875 50.515625 64.515625 \nQ 56.984375 54.828125 56.984375 36.375 \nQ 56.984375 17.96875 50.515625 8.265625 \nQ 44.046875 -1.421875 31.78125 -1.421875 \nQ 19.53125 -1.421875 13.0625 8.265625 \nQ 6.59375 17.96875 6.59375 36.375 \nQ 6.59375 54.828125 13.0625 64.515625 \nQ 19.53125 74.21875 31.78125 74.21875 \nz\n\" id=\"DejaVuSans-48\"/>\n       </defs>\n       <use xlink:href=\"#DejaVuSans-8722\"/>\n       <use x=\"83.789062\" xlink:href=\"#DejaVuSans-51\"/>\n       <use x=\"147.412109\" xlink:href=\"#DejaVuSans-46\"/>\n       <use x=\"179.199219\" xlink:href=\"#DejaVuSans-53\"/>\n       <use x=\"242.822266\" xlink:href=\"#DejaVuSans-48\"/>\n      </g>\n     </g>\n    </g>\n    <g id=\"xtick_2\">\n     <g id=\"line2d_2\">\n      <g>\n       <use style=\"stroke:#000000;stroke-width:0.8;\" x=\"118.378267\" xlink:href=\"#mc03b6dcf23\" y=\"399.079219\"/>\n      </g>\n     </g>\n     <g id=\"text_2\">\n      <!-- −3.25 -->\n      <g transform=\"translate(103.055611 413.677656)scale(0.1 -0.1)\">\n       <defs>\n        <path d=\"M 19.1875 8.296875 \nL 53.609375 8.296875 \nL 53.609375 0 \nL 7.328125 0 \nL 7.328125 8.296875 \nQ 12.9375 14.109375 22.625 23.890625 \nQ 32.328125 33.6875 34.8125 36.53125 \nQ 39.546875 41.84375 41.421875 45.53125 \nQ 43.3125 49.21875 43.3125 52.78125 \nQ 43.3125 58.59375 39.234375 62.25 \nQ 35.15625 65.921875 28.609375 65.921875 \nQ 23.96875 65.921875 18.8125 64.3125 \nQ 13.671875 62.703125 7.8125 59.421875 \nL 7.8125 69.390625 \nQ 13.765625 71.78125 18.9375 73 \nQ 24.125 74.21875 28.421875 74.21875 \nQ 39.75 74.21875 46.484375 68.546875 \nQ 53.21875 62.890625 53.21875 53.421875 \nQ 53.21875 48.921875 51.53125 44.890625 \nQ 49.859375 40.875 45.40625 35.40625 \nQ 44.1875 33.984375 37.640625 27.21875 \nQ 31.109375 20.453125 19.1875 8.296875 \nz\n\" id=\"DejaVuSans-50\"/>\n       </defs>\n       <use xlink:href=\"#DejaVuSans-8722\"/>\n       <use x=\"83.789062\" xlink:href=\"#DejaVuSans-51\"/>\n       <use x=\"147.412109\" xlink:href=\"#DejaVuSans-46\"/>\n       <use x=\"179.199219\" xlink:href=\"#DejaVuSans-50\"/>\n       <use x=\"242.822266\" xlink:href=\"#DejaVuSans-53\"/>\n      </g>\n     </g>\n    </g>\n    <g id=\"xtick_3\">\n     <g id=\"line2d_3\">\n      <g>\n       <use style=\"stroke:#000000;stroke-width:0.8;\" x=\"162.764631\" xlink:href=\"#mc03b6dcf23\" y=\"399.079219\"/>\n      </g>\n     </g>\n     <g id=\"text_3\">\n      <!-- −3.00 -->\n      <g transform=\"translate(147.441974 413.677656)scale(0.1 -0.1)\">\n       <use xlink:href=\"#DejaVuSans-8722\"/>\n       <use x=\"83.789062\" xlink:href=\"#DejaVuSans-51\"/>\n       <use x=\"147.412109\" xlink:href=\"#DejaVuSans-46\"/>\n       <use x=\"179.199219\" xlink:href=\"#DejaVuSans-48\"/>\n       <use x=\"242.822266\" xlink:href=\"#DejaVuSans-48\"/>\n      </g>\n     </g>\n    </g>\n    <g id=\"xtick_4\">\n     <g id=\"line2d_4\">\n      <g>\n       <use style=\"stroke:#000000;stroke-width:0.8;\" x=\"207.150994\" xlink:href=\"#mc03b6dcf23\" y=\"399.079219\"/>\n      </g>\n     </g>\n     <g id=\"text_4\">\n      <!-- −2.75 -->\n      <g transform=\"translate(191.828338 413.677656)scale(0.1 -0.1)\">\n       <defs>\n        <path d=\"M 8.203125 72.90625 \nL 55.078125 72.90625 \nL 55.078125 68.703125 \nL 28.609375 0 \nL 18.3125 0 \nL 43.21875 64.59375 \nL 8.203125 64.59375 \nz\n\" id=\"DejaVuSans-55\"/>\n       </defs>\n       <use xlink:href=\"#DejaVuSans-8722\"/>\n       <use x=\"83.789062\" xlink:href=\"#DejaVuSans-50\"/>\n       <use x=\"147.412109\" xlink:href=\"#DejaVuSans-46\"/>\n       <use x=\"179.199219\" xlink:href=\"#DejaVuSans-55\"/>\n       <use x=\"242.822266\" xlink:href=\"#DejaVuSans-53\"/>\n      </g>\n     </g>\n    </g>\n    <g id=\"xtick_5\">\n     <g id=\"line2d_5\">\n      <g>\n       <use style=\"stroke:#000000;stroke-width:0.8;\" x=\"251.537358\" xlink:href=\"#mc03b6dcf23\" y=\"399.079219\"/>\n      </g>\n     </g>\n     <g id=\"text_5\">\n      <!-- −2.50 -->\n      <g transform=\"translate(236.214702 413.677656)scale(0.1 -0.1)\">\n       <use xlink:href=\"#DejaVuSans-8722\"/>\n       <use x=\"83.789062\" xlink:href=\"#DejaVuSans-50\"/>\n       <use x=\"147.412109\" xlink:href=\"#DejaVuSans-46\"/>\n       <use x=\"179.199219\" xlink:href=\"#DejaVuSans-53\"/>\n       <use x=\"242.822266\" xlink:href=\"#DejaVuSans-48\"/>\n      </g>\n     </g>\n    </g>\n    <g id=\"xtick_6\">\n     <g id=\"line2d_6\">\n      <g>\n       <use style=\"stroke:#000000;stroke-width:0.8;\" x=\"295.923722\" xlink:href=\"#mc03b6dcf23\" y=\"399.079219\"/>\n      </g>\n     </g>\n     <g id=\"text_6\">\n      <!-- −2.25 -->\n      <g transform=\"translate(280.601065 413.677656)scale(0.1 -0.1)\">\n       <use xlink:href=\"#DejaVuSans-8722\"/>\n       <use x=\"83.789062\" xlink:href=\"#DejaVuSans-50\"/>\n       <use x=\"147.412109\" xlink:href=\"#DejaVuSans-46\"/>\n       <use x=\"179.199219\" xlink:href=\"#DejaVuSans-50\"/>\n       <use x=\"242.822266\" xlink:href=\"#DejaVuSans-53\"/>\n      </g>\n     </g>\n    </g>\n    <g id=\"xtick_7\">\n     <g id=\"line2d_7\">\n      <g>\n       <use style=\"stroke:#000000;stroke-width:0.8;\" x=\"340.310085\" xlink:href=\"#mc03b6dcf23\" y=\"399.079219\"/>\n      </g>\n     </g>\n     <g id=\"text_7\">\n      <!-- −2.00 -->\n      <g transform=\"translate(324.987429 413.677656)scale(0.1 -0.1)\">\n       <use xlink:href=\"#DejaVuSans-8722\"/>\n       <use x=\"83.789062\" xlink:href=\"#DejaVuSans-50\"/>\n       <use x=\"147.412109\" xlink:href=\"#DejaVuSans-46\"/>\n       <use x=\"179.199219\" xlink:href=\"#DejaVuSans-48\"/>\n       <use x=\"242.822266\" xlink:href=\"#DejaVuSans-48\"/>\n      </g>\n     </g>\n    </g>\n    <g id=\"xtick_8\">\n     <g id=\"line2d_8\">\n      <g>\n       <use style=\"stroke:#000000;stroke-width:0.8;\" x=\"384.696449\" xlink:href=\"#mc03b6dcf23\" y=\"399.079219\"/>\n      </g>\n     </g>\n     <g id=\"text_8\">\n      <!-- −1.75 -->\n      <g transform=\"translate(369.373793 413.677656)scale(0.1 -0.1)\">\n       <defs>\n        <path d=\"M 12.40625 8.296875 \nL 28.515625 8.296875 \nL 28.515625 63.921875 \nL 10.984375 60.40625 \nL 10.984375 69.390625 \nL 28.421875 72.90625 \nL 38.28125 72.90625 \nL 38.28125 8.296875 \nL 54.390625 8.296875 \nL 54.390625 0 \nL 12.40625 0 \nz\n\" id=\"DejaVuSans-49\"/>\n       </defs>\n       <use xlink:href=\"#DejaVuSans-8722\"/>\n       <use x=\"83.789062\" xlink:href=\"#DejaVuSans-49\"/>\n       <use x=\"147.412109\" xlink:href=\"#DejaVuSans-46\"/>\n       <use x=\"179.199219\" xlink:href=\"#DejaVuSans-55\"/>\n       <use x=\"242.822266\" xlink:href=\"#DejaVuSans-53\"/>\n      </g>\n     </g>\n    </g>\n    <g id=\"xtick_9\">\n     <g id=\"line2d_9\">\n      <g>\n       <use style=\"stroke:#000000;stroke-width:0.8;\" x=\"429.082813\" xlink:href=\"#mc03b6dcf23\" y=\"399.079219\"/>\n      </g>\n     </g>\n     <g id=\"text_9\">\n      <!-- −1.50 -->\n      <g transform=\"translate(413.760156 413.677656)scale(0.1 -0.1)\">\n       <use xlink:href=\"#DejaVuSans-8722\"/>\n       <use x=\"83.789062\" xlink:href=\"#DejaVuSans-49\"/>\n       <use x=\"147.412109\" xlink:href=\"#DejaVuSans-46\"/>\n       <use x=\"179.199219\" xlink:href=\"#DejaVuSans-53\"/>\n       <use x=\"242.822266\" xlink:href=\"#DejaVuSans-48\"/>\n      </g>\n     </g>\n    </g>\n   </g>\n   <g id=\"matplotlib.axis_2\">\n    <g id=\"ytick_1\">\n     <g id=\"line2d_10\">\n      <defs>\n       <path d=\"M 0 0 \nL -3.5 0 \n\" id=\"ma54ac79e5c\" style=\"stroke:#000000;stroke-width:0.8;\"/>\n      </defs>\n      <g>\n       <use style=\"stroke:#000000;stroke-width:0.8;\" x=\"38.482813\" xlink:href=\"#ma54ac79e5c\" y=\"399.079219\"/>\n      </g>\n     </g>\n     <g id=\"text_10\">\n      <!-- −3.0 -->\n      <g transform=\"translate(7.2 402.878437)scale(0.1 -0.1)\">\n       <use xlink:href=\"#DejaVuSans-8722\"/>\n       <use x=\"83.789062\" xlink:href=\"#DejaVuSans-51\"/>\n       <use x=\"147.412109\" xlink:href=\"#DejaVuSans-46\"/>\n       <use x=\"179.199219\" xlink:href=\"#DejaVuSans-48\"/>\n      </g>\n     </g>\n    </g>\n    <g id=\"ytick_2\">\n     <g id=\"line2d_11\">\n      <g>\n       <use style=\"stroke:#000000;stroke-width:0.8;\" x=\"38.482813\" xlink:href=\"#ma54ac79e5c\" y=\"350.569219\"/>\n      </g>\n     </g>\n     <g id=\"text_11\">\n      <!-- −2.5 -->\n      <g transform=\"translate(7.2 354.368437)scale(0.1 -0.1)\">\n       <use xlink:href=\"#DejaVuSans-8722\"/>\n       <use x=\"83.789062\" xlink:href=\"#DejaVuSans-50\"/>\n       <use x=\"147.412109\" xlink:href=\"#DejaVuSans-46\"/>\n       <use x=\"179.199219\" xlink:href=\"#DejaVuSans-53\"/>\n      </g>\n     </g>\n    </g>\n    <g id=\"ytick_3\">\n     <g id=\"line2d_12\">\n      <g>\n       <use style=\"stroke:#000000;stroke-width:0.8;\" x=\"38.482813\" xlink:href=\"#ma54ac79e5c\" y=\"302.059219\"/>\n      </g>\n     </g>\n     <g id=\"text_12\">\n      <!-- −2.0 -->\n      <g transform=\"translate(7.2 305.858437)scale(0.1 -0.1)\">\n       <use xlink:href=\"#DejaVuSans-8722\"/>\n       <use x=\"83.789062\" xlink:href=\"#DejaVuSans-50\"/>\n       <use x=\"147.412109\" xlink:href=\"#DejaVuSans-46\"/>\n       <use x=\"179.199219\" xlink:href=\"#DejaVuSans-48\"/>\n      </g>\n     </g>\n    </g>\n    <g id=\"ytick_4\">\n     <g id=\"line2d_13\">\n      <g>\n       <use style=\"stroke:#000000;stroke-width:0.8;\" x=\"38.482813\" xlink:href=\"#ma54ac79e5c\" y=\"253.549219\"/>\n      </g>\n     </g>\n     <g id=\"text_13\">\n      <!-- −1.5 -->\n      <g transform=\"translate(7.2 257.348437)scale(0.1 -0.1)\">\n       <use xlink:href=\"#DejaVuSans-8722\"/>\n       <use x=\"83.789062\" xlink:href=\"#DejaVuSans-49\"/>\n       <use x=\"147.412109\" xlink:href=\"#DejaVuSans-46\"/>\n       <use x=\"179.199219\" xlink:href=\"#DejaVuSans-53\"/>\n      </g>\n     </g>\n    </g>\n    <g id=\"ytick_5\">\n     <g id=\"line2d_14\">\n      <g>\n       <use style=\"stroke:#000000;stroke-width:0.8;\" x=\"38.482813\" xlink:href=\"#ma54ac79e5c\" y=\"205.039219\"/>\n      </g>\n     </g>\n     <g id=\"text_14\">\n      <!-- −1.0 -->\n      <g transform=\"translate(7.2 208.838437)scale(0.1 -0.1)\">\n       <use xlink:href=\"#DejaVuSans-8722\"/>\n       <use x=\"83.789062\" xlink:href=\"#DejaVuSans-49\"/>\n       <use x=\"147.412109\" xlink:href=\"#DejaVuSans-46\"/>\n       <use x=\"179.199219\" xlink:href=\"#DejaVuSans-48\"/>\n      </g>\n     </g>\n    </g>\n    <g id=\"ytick_6\">\n     <g id=\"line2d_15\">\n      <g>\n       <use style=\"stroke:#000000;stroke-width:0.8;\" x=\"38.482813\" xlink:href=\"#ma54ac79e5c\" y=\"156.529219\"/>\n      </g>\n     </g>\n     <g id=\"text_15\">\n      <!-- −0.5 -->\n      <g transform=\"translate(7.2 160.328437)scale(0.1 -0.1)\">\n       <use xlink:href=\"#DejaVuSans-8722\"/>\n       <use x=\"83.789062\" xlink:href=\"#DejaVuSans-48\"/>\n       <use x=\"147.412109\" xlink:href=\"#DejaVuSans-46\"/>\n       <use x=\"179.199219\" xlink:href=\"#DejaVuSans-53\"/>\n      </g>\n     </g>\n    </g>\n    <g id=\"ytick_7\">\n     <g id=\"line2d_16\">\n      <g>\n       <use style=\"stroke:#000000;stroke-width:0.8;\" x=\"38.482813\" xlink:href=\"#ma54ac79e5c\" y=\"108.019219\"/>\n      </g>\n     </g>\n     <g id=\"text_16\">\n      <!-- 0.0 -->\n      <g transform=\"translate(15.579688 111.818437)scale(0.1 -0.1)\">\n       <use xlink:href=\"#DejaVuSans-48\"/>\n       <use x=\"63.623047\" xlink:href=\"#DejaVuSans-46\"/>\n       <use x=\"95.410156\" xlink:href=\"#DejaVuSans-48\"/>\n      </g>\n     </g>\n    </g>\n    <g id=\"ytick_8\">\n     <g id=\"line2d_17\">\n      <g>\n       <use style=\"stroke:#000000;stroke-width:0.8;\" x=\"38.482813\" xlink:href=\"#ma54ac79e5c\" y=\"59.509219\"/>\n      </g>\n     </g>\n     <g id=\"text_17\">\n      <!-- 0.5 -->\n      <g transform=\"translate(15.579688 63.308437)scale(0.1 -0.1)\">\n       <use xlink:href=\"#DejaVuSans-48\"/>\n       <use x=\"63.623047\" xlink:href=\"#DejaVuSans-46\"/>\n       <use x=\"95.410156\" xlink:href=\"#DejaVuSans-53\"/>\n      </g>\n     </g>\n    </g>\n    <g id=\"ytick_9\">\n     <g id=\"line2d_18\">\n      <g>\n       <use style=\"stroke:#000000;stroke-width:0.8;\" x=\"38.482813\" xlink:href=\"#ma54ac79e5c\" y=\"10.999219\"/>\n      </g>\n     </g>\n     <g id=\"text_18\">\n      <!-- 1.0 -->\n      <g transform=\"translate(15.579688 14.798437)scale(0.1 -0.1)\">\n       <use xlink:href=\"#DejaVuSans-49\"/>\n       <use x=\"63.623047\" xlink:href=\"#DejaVuSans-46\"/>\n       <use x=\"95.410156\" xlink:href=\"#DejaVuSans-48\"/>\n      </g>\n     </g>\n    </g>\n   </g>\n   <g id=\"patch_3\">\n    <path d=\"M 38.482813 399.079219 \nL 38.482813 10.999219 \n\" style=\"fill:none;stroke:#000000;stroke-linecap:square;stroke-linejoin:miter;stroke-width:0.8;\"/>\n   </g>\n   <g id=\"patch_4\">\n    <path d=\"M 429.082813 399.079219 \nL 429.082813 10.999219 \n\" style=\"fill:none;stroke:#000000;stroke-linecap:square;stroke-linejoin:miter;stroke-width:0.8;\"/>\n   </g>\n   <g id=\"patch_5\">\n    <path d=\"M 38.482813 399.079219 \nL 429.082813 399.079219 \n\" style=\"fill:none;stroke:#000000;stroke-linecap:square;stroke-linejoin:miter;stroke-width:0.8;\"/>\n   </g>\n   <g id=\"patch_6\">\n    <path d=\"M 38.482813 10.999219 \nL 429.082813 10.999219 \n\" style=\"fill:none;stroke:#000000;stroke-linecap:square;stroke-linejoin:miter;stroke-width:0.8;\"/>\n   </g>\n   <g id=\"text_19\">\n    <!-- CsF -->\n    <g transform=\"translate(345.566588 33.345322)scale(0.12 -0.12)\">\n     <defs>\n      <path d=\"M 64.40625 67.28125 \nL 64.40625 56.890625 \nQ 59.421875 61.53125 53.78125 63.8125 \nQ 48.140625 66.109375 41.796875 66.109375 \nQ 29.296875 66.109375 22.65625 58.46875 \nQ 16.015625 50.828125 16.015625 36.375 \nQ 16.015625 21.96875 22.65625 14.328125 \nQ 29.296875 6.6875 41.796875 6.6875 \nQ 48.140625 6.6875 53.78125 8.984375 \nQ 59.421875 11.28125 64.40625 15.921875 \nL 64.40625 5.609375 \nQ 59.234375 2.09375 53.4375 0.328125 \nQ 47.65625 -1.421875 41.21875 -1.421875 \nQ 24.65625 -1.421875 15.125 8.703125 \nQ 5.609375 18.84375 5.609375 36.375 \nQ 5.609375 53.953125 15.125 64.078125 \nQ 24.65625 74.21875 41.21875 74.21875 \nQ 47.75 74.21875 53.53125 72.484375 \nQ 59.328125 70.75 64.40625 67.28125 \nz\n\" id=\"DejaVuSans-67\"/>\n      <path d=\"M 44.28125 53.078125 \nL 44.28125 44.578125 \nQ 40.484375 46.53125 36.375 47.5 \nQ 32.28125 48.484375 27.875 48.484375 \nQ 21.1875 48.484375 17.84375 46.4375 \nQ 14.5 44.390625 14.5 40.28125 \nQ 14.5 37.15625 16.890625 35.375 \nQ 19.28125 33.59375 26.515625 31.984375 \nL 29.59375 31.296875 \nQ 39.15625 29.25 43.1875 25.515625 \nQ 47.21875 21.78125 47.21875 15.09375 \nQ 47.21875 7.46875 41.1875 3.015625 \nQ 35.15625 -1.421875 24.609375 -1.421875 \nQ 20.21875 -1.421875 15.453125 -0.5625 \nQ 10.6875 0.296875 5.421875 2 \nL 5.421875 11.28125 \nQ 10.40625 8.6875 15.234375 7.390625 \nQ 20.0625 6.109375 24.8125 6.109375 \nQ 31.15625 6.109375 34.5625 8.28125 \nQ 37.984375 10.453125 37.984375 14.40625 \nQ 37.984375 18.0625 35.515625 20.015625 \nQ 33.0625 21.96875 24.703125 23.78125 \nL 21.578125 24.515625 \nQ 13.234375 26.265625 9.515625 29.90625 \nQ 5.8125 33.546875 5.8125 39.890625 \nQ 5.8125 47.609375 11.28125 51.796875 \nQ 16.75 56 26.8125 56 \nQ 31.78125 56 36.171875 55.265625 \nQ 40.578125 54.546875 44.28125 53.078125 \nz\n\" id=\"DejaVuSans-115\"/>\n      <path d=\"M 9.8125 72.90625 \nL 51.703125 72.90625 \nL 51.703125 64.59375 \nL 19.671875 64.59375 \nL 19.671875 43.109375 \nL 48.578125 43.109375 \nL 48.578125 34.8125 \nL 19.671875 34.8125 \nL 19.671875 0 \nL 9.8125 0 \nz\n\" id=\"DejaVuSans-70\"/>\n     </defs>\n     <use xlink:href=\"#DejaVuSans-67\"/>\n     <use x=\"69.824219\" xlink:href=\"#DejaVuSans-115\"/>\n     <use x=\"121.923828\" xlink:href=\"#DejaVuSans-70\"/>\n    </g>\n   </g>\n   <g id=\"text_20\">\n    <!-- GDE -->\n    <g transform=\"translate(368.24481 19.806065)scale(0.12 -0.12)\">\n     <defs>\n      <path d=\"M 59.515625 10.40625 \nL 59.515625 29.984375 \nL 43.40625 29.984375 \nL 43.40625 38.09375 \nL 69.28125 38.09375 \nL 69.28125 6.78125 \nQ 63.578125 2.734375 56.6875 0.65625 \nQ 49.8125 -1.421875 42 -1.421875 \nQ 24.90625 -1.421875 15.25 8.5625 \nQ 5.609375 18.5625 5.609375 36.375 \nQ 5.609375 54.25 15.25 64.234375 \nQ 24.90625 74.21875 42 74.21875 \nQ 49.125 74.21875 55.546875 72.453125 \nQ 61.96875 70.703125 67.390625 67.28125 \nL 67.390625 56.78125 \nQ 61.921875 61.421875 55.765625 63.765625 \nQ 49.609375 66.109375 42.828125 66.109375 \nQ 29.4375 66.109375 22.71875 58.640625 \nQ 16.015625 51.171875 16.015625 36.375 \nQ 16.015625 21.625 22.71875 14.15625 \nQ 29.4375 6.6875 42.828125 6.6875 \nQ 48.046875 6.6875 52.140625 7.59375 \nQ 56.25 8.5 59.515625 10.40625 \nz\n\" id=\"DejaVuSans-71\"/>\n      <path d=\"M 19.671875 64.796875 \nL 19.671875 8.109375 \nL 31.59375 8.109375 \nQ 46.6875 8.109375 53.6875 14.9375 \nQ 60.6875 21.78125 60.6875 36.53125 \nQ 60.6875 51.171875 53.6875 57.984375 \nQ 46.6875 64.796875 31.59375 64.796875 \nz\nM 9.8125 72.90625 \nL 30.078125 72.90625 \nQ 51.265625 72.90625 61.171875 64.09375 \nQ 71.09375 55.28125 71.09375 36.53125 \nQ 71.09375 17.671875 61.125 8.828125 \nQ 51.171875 0 30.078125 0 \nL 9.8125 0 \nz\n\" id=\"DejaVuSans-68\"/>\n      <path d=\"M 9.8125 72.90625 \nL 55.90625 72.90625 \nL 55.90625 64.59375 \nL 19.671875 64.59375 \nL 19.671875 43.015625 \nL 54.390625 43.015625 \nL 54.390625 34.71875 \nL 19.671875 34.71875 \nL 19.671875 8.296875 \nL 56.78125 8.296875 \nL 56.78125 0 \nL 9.8125 0 \nz\n\" id=\"DejaVuSans-69\"/>\n     </defs>\n     <use xlink:href=\"#DejaVuSans-71\"/>\n     <use x=\"77.490234\" xlink:href=\"#DejaVuSans-68\"/>\n     <use x=\"154.492188\" xlink:href=\"#DejaVuSans-69\"/>\n    </g>\n   </g>\n   <g id=\"text_21\">\n    <!-- VRB -->\n    <g transform=\"translate(269.818597 222.107178)scale(0.12 -0.12)\">\n     <defs>\n      <path d=\"M 28.609375 0 \nL 0.78125 72.90625 \nL 11.078125 72.90625 \nL 34.1875 11.53125 \nL 57.328125 72.90625 \nL 67.578125 72.90625 \nL 39.796875 0 \nz\n\" id=\"DejaVuSans-86\"/>\n      <path d=\"M 44.390625 34.1875 \nQ 47.5625 33.109375 50.5625 29.59375 \nQ 53.5625 26.078125 56.59375 19.921875 \nL 66.609375 0 \nL 56 0 \nL 46.6875 18.703125 \nQ 43.0625 26.03125 39.671875 28.421875 \nQ 36.28125 30.8125 30.421875 30.8125 \nL 19.671875 30.8125 \nL 19.671875 0 \nL 9.8125 0 \nL 9.8125 72.90625 \nL 32.078125 72.90625 \nQ 44.578125 72.90625 50.734375 67.671875 \nQ 56.890625 62.453125 56.890625 51.90625 \nQ 56.890625 45.015625 53.6875 40.46875 \nQ 50.484375 35.9375 44.390625 34.1875 \nz\nM 19.671875 64.796875 \nL 19.671875 38.921875 \nL 32.078125 38.921875 \nQ 39.203125 38.921875 42.84375 42.21875 \nQ 46.484375 45.515625 46.484375 51.90625 \nQ 46.484375 58.296875 42.84375 61.546875 \nQ 39.203125 64.796875 32.078125 64.796875 \nz\n\" id=\"DejaVuSans-82\"/>\n      <path d=\"M 19.671875 34.8125 \nL 19.671875 8.109375 \nL 35.5 8.109375 \nQ 43.453125 8.109375 47.28125 11.40625 \nQ 51.125 14.703125 51.125 21.484375 \nQ 51.125 28.328125 47.28125 31.5625 \nQ 43.453125 34.8125 35.5 34.8125 \nz\nM 19.671875 64.796875 \nL 19.671875 42.828125 \nL 34.28125 42.828125 \nQ 41.5 42.828125 45.03125 45.53125 \nQ 48.578125 48.25 48.578125 53.8125 \nQ 48.578125 59.328125 45.03125 62.0625 \nQ 41.5 64.796875 34.28125 64.796875 \nz\nM 9.8125 72.90625 \nL 35.015625 72.90625 \nQ 46.296875 72.90625 52.390625 68.21875 \nQ 58.5 63.53125 58.5 54.890625 \nQ 58.5 48.1875 55.375 44.234375 \nQ 52.25 40.28125 46.1875 39.3125 \nQ 53.46875 37.75 57.5 32.78125 \nQ 61.53125 27.828125 61.53125 20.40625 \nQ 61.53125 10.640625 54.890625 5.3125 \nQ 48.25 0 35.984375 0 \nL 9.8125 0 \nz\n\" id=\"DejaVuSans-66\"/>\n     </defs>\n     <use xlink:href=\"#DejaVuSans-86\"/>\n     <use x=\"68.408203\" xlink:href=\"#DejaVuSans-82\"/>\n     <use x=\"137.890625\" xlink:href=\"#DejaVuSans-66\"/>\n    </g>\n   </g>\n   <g id=\"text_22\">\n    <!-- MDC -->\n    <g transform=\"translate(267.36306 142.495939)scale(0.12 -0.12)\">\n     <defs>\n      <path d=\"M 9.8125 72.90625 \nL 24.515625 72.90625 \nL 43.109375 23.296875 \nL 61.8125 72.90625 \nL 76.515625 72.90625 \nL 76.515625 0 \nL 66.890625 0 \nL 66.890625 64.015625 \nL 48.09375 14.015625 \nL 38.1875 14.015625 \nL 19.390625 64.015625 \nL 19.390625 0 \nL 9.8125 0 \nz\n\" id=\"DejaVuSans-77\"/>\n     </defs>\n     <use xlink:href=\"#DejaVuSans-77\"/>\n     <use x=\"86.279297\" xlink:href=\"#DejaVuSans-68\"/>\n     <use x=\"163.28125\" xlink:href=\"#DejaVuSans-67\"/>\n    </g>\n   </g>\n   <g id=\"text_23\">\n    <!-- LIB -->\n    <g transform=\"translate(410.667833 36.161678)scale(0.12 -0.12)\">\n     <defs>\n      <path d=\"M 9.8125 72.90625 \nL 19.671875 72.90625 \nL 19.671875 8.296875 \nL 55.171875 8.296875 \nL 55.171875 0 \nL 9.8125 0 \nz\n\" id=\"DejaVuSans-76\"/>\n      <path d=\"M 9.8125 72.90625 \nL 19.671875 72.90625 \nL 19.671875 0 \nL 9.8125 0 \nz\n\" id=\"DejaVuSans-73\"/>\n     </defs>\n     <use xlink:href=\"#DejaVuSans-76\"/>\n     <use x=\"55.712891\" xlink:href=\"#DejaVuSans-73\"/>\n     <use x=\"85.205078\" xlink:href=\"#DejaVuSans-66\"/>\n    </g>\n   </g>\n   <g id=\"text_24\">\n    <!-- HEV -->\n    <g transform=\"translate(236.335635 165.322298)scale(0.12 -0.12)\">\n     <defs>\n      <path d=\"M 9.8125 72.90625 \nL 19.671875 72.90625 \nL 19.671875 43.015625 \nL 55.515625 43.015625 \nL 55.515625 72.90625 \nL 65.375 72.90625 \nL 65.375 0 \nL 55.515625 0 \nL 55.515625 34.71875 \nL 19.671875 34.71875 \nL 19.671875 0 \nL 9.8125 0 \nz\n\" id=\"DejaVuSans-72\"/>\n     </defs>\n     <use xlink:href=\"#DejaVuSans-72\"/>\n     <use x=\"75.195312\" xlink:href=\"#DejaVuSans-69\"/>\n     <use x=\"138.378906\" xlink:href=\"#DejaVuSans-86\"/>\n    </g>\n   </g>\n   <g id=\"text_25\">\n    <!-- GDEs -->\n    <g transform=\"translate(325.367961 49.407859)scale(0.12 -0.12)\">\n     <use xlink:href=\"#DejaVuSans-71\"/>\n     <use x=\"77.490234\" xlink:href=\"#DejaVuSans-68\"/>\n     <use x=\"154.492188\" xlink:href=\"#DejaVuSans-69\"/>\n     <use x=\"217.675781\" xlink:href=\"#DejaVuSans-115\"/>\n    </g>\n   </g>\n   <g id=\"text_26\">\n    <!-- TEG -->\n    <g transform=\"translate(258.622931 82.725917)scale(0.12 -0.12)\">\n     <defs>\n      <path d=\"M -0.296875 72.90625 \nL 61.375 72.90625 \nL 61.375 64.59375 \nL 35.5 64.59375 \nL 35.5 0 \nL 25.59375 0 \nL 25.59375 64.59375 \nL -0.296875 64.59375 \nz\n\" id=\"DejaVuSans-84\"/>\n     </defs>\n     <use xlink:href=\"#DejaVuSans-84\"/>\n     <use x=\"61.083984\" xlink:href=\"#DejaVuSans-69\"/>\n     <use x=\"124.267578\" xlink:href=\"#DejaVuSans-71\"/>\n    </g>\n   </g>\n   <g id=\"text_27\">\n    <!-- PEMs -->\n    <g transform=\"translate(356.793062 62.737393)scale(0.12 -0.12)\">\n     <defs>\n      <path d=\"M 19.671875 64.796875 \nL 19.671875 37.40625 \nL 32.078125 37.40625 \nQ 38.96875 37.40625 42.71875 40.96875 \nQ 46.484375 44.53125 46.484375 51.125 \nQ 46.484375 57.671875 42.71875 61.234375 \nQ 38.96875 64.796875 32.078125 64.796875 \nz\nM 9.8125 72.90625 \nL 32.078125 72.90625 \nQ 44.34375 72.90625 50.609375 67.359375 \nQ 56.890625 61.8125 56.890625 51.125 \nQ 56.890625 40.328125 50.609375 34.8125 \nQ 44.34375 29.296875 32.078125 29.296875 \nL 19.671875 29.296875 \nL 19.671875 0 \nL 9.8125 0 \nz\n\" id=\"DejaVuSans-80\"/>\n     </defs>\n     <use xlink:href=\"#DejaVuSans-80\"/>\n     <use x=\"60.302734\" xlink:href=\"#DejaVuSans-69\"/>\n     <use x=\"123.486328\" xlink:href=\"#DejaVuSans-77\"/>\n     <use x=\"209.765625\" xlink:href=\"#DejaVuSans-115\"/>\n    </g>\n   </g>\n   <g id=\"text_28\">\n    <!-- BPM -->\n    <g transform=\"translate(372.779423 56.047405)scale(0.12 -0.12)\">\n     <use xlink:href=\"#DejaVuSans-66\"/>\n     <use x=\"68.603516\" xlink:href=\"#DejaVuSans-80\"/>\n     <use x=\"128.90625\" xlink:href=\"#DejaVuSans-77\"/>\n    </g>\n   </g>\n   <g id=\"text_29\">\n    <!-- PEMWE -->\n    <g transform=\"translate(347.852515 316.754877)scale(0.12 -0.12)\">\n     <defs>\n      <path d=\"M 3.328125 72.90625 \nL 13.28125 72.90625 \nL 28.609375 11.28125 \nL 43.890625 72.90625 \nL 54.984375 72.90625 \nL 70.3125 11.28125 \nL 85.59375 72.90625 \nL 95.609375 72.90625 \nL 77.296875 0 \nL 64.890625 0 \nL 49.515625 63.28125 \nL 33.984375 0 \nL 21.578125 0 \nz\n\" id=\"DejaVuSans-87\"/>\n     </defs>\n     <use xlink:href=\"#DejaVuSans-80\"/>\n     <use x=\"60.302734\" xlink:href=\"#DejaVuSans-69\"/>\n     <use x=\"123.486328\" xlink:href=\"#DejaVuSans-77\"/>\n     <use x=\"209.765625\" xlink:href=\"#DejaVuSans-87\"/>\n     <use x=\"308.642578\" xlink:href=\"#DejaVuSans-69\"/>\n    </g>\n   </g>\n   <g id=\"text_30\">\n    <!-- ICE -->\n    <g transform=\"translate(90.772905 74.248794)scale(0.12 -0.12)\">\n     <use xlink:href=\"#DejaVuSans-73\"/>\n     <use x=\"29.492188\" xlink:href=\"#DejaVuSans-67\"/>\n     <use x=\"99.316406\" xlink:href=\"#DejaVuSans-69\"/>\n    </g>\n   </g>\n   <g id=\"text_31\">\n    <!-- CCM -->\n    <g transform=\"translate(389.6372 75.672013)scale(0.12 -0.12)\">\n     <use xlink:href=\"#DejaVuSans-67\"/>\n     <use x=\"69.824219\" xlink:href=\"#DejaVuSans-67\"/>\n     <use x=\"139.648438\" xlink:href=\"#DejaVuSans-77\"/>\n    </g>\n   </g>\n   <g id=\"text_32\">\n    <!-- PEMEC -->\n    <g transform=\"translate(302.315666 300.060537)scale(0.12 -0.12)\">\n     <use xlink:href=\"#DejaVuSans-80\"/>\n     <use x=\"60.302734\" xlink:href=\"#DejaVuSans-69\"/>\n     <use x=\"123.486328\" xlink:href=\"#DejaVuSans-77\"/>\n     <use x=\"209.765625\" xlink:href=\"#DejaVuSans-69\"/>\n     <use x=\"272.949219\" xlink:href=\"#DejaVuSans-67\"/>\n    </g>\n   </g>\n   <g id=\"text_33\">\n    <!-- AAEM -->\n    <g transform=\"translate(315.235204 72.274179)scale(0.12 -0.12)\">\n     <defs>\n      <path d=\"M 34.1875 63.1875 \nL 20.796875 26.90625 \nL 47.609375 26.90625 \nz\nM 28.609375 72.90625 \nL 39.796875 72.90625 \nL 67.578125 0 \nL 57.328125 0 \nL 50.6875 18.703125 \nL 17.828125 18.703125 \nL 11.1875 0 \nL 0.78125 0 \nz\n\" id=\"DejaVuSans-65\"/>\n     </defs>\n     <use xlink:href=\"#DejaVuSans-65\"/>\n     <use x=\"71.158203\" xlink:href=\"#DejaVuSans-65\"/>\n     <use x=\"139.566406\" xlink:href=\"#DejaVuSans-69\"/>\n     <use x=\"202.75\" xlink:href=\"#DejaVuSans-77\"/>\n    </g>\n   </g>\n   <g id=\"text_34\">\n    <!-- PFSA -->\n    <g transform=\"translate(363.600383 25.3634)scale(0.12 -0.12)\">\n     <defs>\n      <path d=\"M 53.515625 70.515625 \nL 53.515625 60.890625 \nQ 47.90625 63.578125 42.921875 64.890625 \nQ 37.9375 66.21875 33.296875 66.21875 \nQ 25.25 66.21875 20.875 63.09375 \nQ 16.5 59.96875 16.5 54.203125 \nQ 16.5 49.359375 19.40625 46.890625 \nQ 22.3125 44.4375 30.421875 42.921875 \nL 36.375 41.703125 \nQ 47.40625 39.59375 52.65625 34.296875 \nQ 57.90625 29 57.90625 20.125 \nQ 57.90625 9.515625 50.796875 4.046875 \nQ 43.703125 -1.421875 29.984375 -1.421875 \nQ 24.8125 -1.421875 18.96875 -0.25 \nQ 13.140625 0.921875 6.890625 3.21875 \nL 6.890625 13.375 \nQ 12.890625 10.015625 18.65625 8.296875 \nQ 24.421875 6.59375 29.984375 6.59375 \nQ 38.421875 6.59375 43.015625 9.90625 \nQ 47.609375 13.234375 47.609375 19.390625 \nQ 47.609375 24.75 44.3125 27.78125 \nQ 41.015625 30.8125 33.5 32.328125 \nL 27.484375 33.5 \nQ 16.453125 35.6875 11.515625 40.375 \nQ 6.59375 45.0625 6.59375 53.421875 \nQ 6.59375 63.09375 13.40625 68.65625 \nQ 20.21875 74.21875 32.171875 74.21875 \nQ 37.3125 74.21875 42.625 73.28125 \nQ 47.953125 72.359375 53.515625 70.515625 \nz\n\" id=\"DejaVuSans-83\"/>\n     </defs>\n     <use xlink:href=\"#DejaVuSans-80\"/>\n     <use x=\"60.302734\" xlink:href=\"#DejaVuSans-70\"/>\n     <use x=\"116.072266\" xlink:href=\"#DejaVuSans-83\"/>\n     <use x=\"181.423828\" xlink:href=\"#DejaVuSans-65\"/>\n    </g>\n   </g>\n   <g id=\"text_35\">\n    <!-- PEC -->\n    <g transform=\"translate(405.86269 62.310966)scale(0.12 -0.12)\">\n     <use xlink:href=\"#DejaVuSans-80\"/>\n     <use x=\"60.302734\" xlink:href=\"#DejaVuSans-69\"/>\n     <use x=\"123.486328\" xlink:href=\"#DejaVuSans-67\"/>\n    </g>\n   </g>\n   <g id=\"text_36\">\n    <!-- MEC -->\n    <g transform=\"translate(285.683427 20.383594)scale(0.12 -0.12)\">\n     <use xlink:href=\"#DejaVuSans-77\"/>\n     <use x=\"86.279297\" xlink:href=\"#DejaVuSans-69\"/>\n     <use x=\"149.462891\" xlink:href=\"#DejaVuSans-67\"/>\n    </g>\n   </g>\n   <g id=\"text_37\">\n    <!-- MPD -->\n    <g transform=\"translate(401.500063 160.47682)scale(0.12 -0.12)\">\n     <use xlink:href=\"#DejaVuSans-77\"/>\n     <use x=\"86.279297\" xlink:href=\"#DejaVuSans-80\"/>\n     <use x=\"146.582031\" xlink:href=\"#DejaVuSans-68\"/>\n    </g>\n   </g>\n   <g id=\"text_38\">\n    <!-- ADT -->\n    <g transform=\"translate(397.094503 42.76002)scale(0.12 -0.12)\">\n     <use xlink:href=\"#DejaVuSans-65\"/>\n     <use x=\"68.408203\" xlink:href=\"#DejaVuSans-68\"/>\n     <use x=\"145.410156\" xlink:href=\"#DejaVuSans-84\"/>\n    </g>\n   </g>\n   <g id=\"text_39\">\n    <!-- AST -->\n    <g transform=\"translate(393.647838 30.15567)scale(0.12 -0.12)\">\n     <use xlink:href=\"#DejaVuSans-65\"/>\n     <use x=\"68.408203\" xlink:href=\"#DejaVuSans-83\"/>\n     <use x=\"131.884766\" xlink:href=\"#DejaVuSans-84\"/>\n    </g>\n   </g>\n   <g id=\"text_40\">\n    <!-- ICE -->\n    <g transform=\"translate(110.857997 89.102541)scale(0.12 -0.12)\">\n     <use xlink:href=\"#DejaVuSans-73\"/>\n     <use x=\"29.492188\" xlink:href=\"#DejaVuSans-67\"/>\n     <use x=\"99.316406\" xlink:href=\"#DejaVuSans-69\"/>\n    </g>\n   </g>\n   <g id=\"text_41\">\n    <!-- TEG -->\n    <g transform=\"translate(233.686597 67.872171)scale(0.12 -0.12)\">\n     <use xlink:href=\"#DejaVuSans-84\"/>\n     <use x=\"61.083984\" xlink:href=\"#DejaVuSans-69\"/>\n     <use x=\"124.267578\" xlink:href=\"#DejaVuSans-71\"/>\n    </g>\n   </g>\n   <g id=\"text_42\">\n    <!-- micro-CHP -->\n    <g transform=\"translate(87.619537 165.154312)scale(0.12 -0.12)\">\n     <defs>\n      <path d=\"M 52 44.1875 \nQ 55.375 50.25 60.0625 53.125 \nQ 64.75 56 71.09375 56 \nQ 79.640625 56 84.28125 50.015625 \nQ 88.921875 44.046875 88.921875 33.015625 \nL 88.921875 0 \nL 79.890625 0 \nL 79.890625 32.71875 \nQ 79.890625 40.578125 77.09375 44.375 \nQ 74.3125 48.1875 68.609375 48.1875 \nQ 61.625 48.1875 57.5625 43.546875 \nQ 53.515625 38.921875 53.515625 30.90625 \nL 53.515625 0 \nL 44.484375 0 \nL 44.484375 32.71875 \nQ 44.484375 40.625 41.703125 44.40625 \nQ 38.921875 48.1875 33.109375 48.1875 \nQ 26.21875 48.1875 22.15625 43.53125 \nQ 18.109375 38.875 18.109375 30.90625 \nL 18.109375 0 \nL 9.078125 0 \nL 9.078125 54.6875 \nL 18.109375 54.6875 \nL 18.109375 46.1875 \nQ 21.1875 51.21875 25.484375 53.609375 \nQ 29.78125 56 35.6875 56 \nQ 41.65625 56 45.828125 52.96875 \nQ 50 49.953125 52 44.1875 \nz\n\" id=\"DejaVuSans-109\"/>\n      <path d=\"M 9.421875 54.6875 \nL 18.40625 54.6875 \nL 18.40625 0 \nL 9.421875 0 \nz\nM 9.421875 75.984375 \nL 18.40625 75.984375 \nL 18.40625 64.59375 \nL 9.421875 64.59375 \nz\n\" id=\"DejaVuSans-105\"/>\n      <path d=\"M 48.78125 52.59375 \nL 48.78125 44.1875 \nQ 44.96875 46.296875 41.140625 47.34375 \nQ 37.3125 48.390625 33.40625 48.390625 \nQ 24.65625 48.390625 19.8125 42.84375 \nQ 14.984375 37.3125 14.984375 27.296875 \nQ 14.984375 17.28125 19.8125 11.734375 \nQ 24.65625 6.203125 33.40625 6.203125 \nQ 37.3125 6.203125 41.140625 7.25 \nQ 44.96875 8.296875 48.78125 10.40625 \nL 48.78125 2.09375 \nQ 45.015625 0.34375 40.984375 -0.53125 \nQ 36.96875 -1.421875 32.421875 -1.421875 \nQ 20.0625 -1.421875 12.78125 6.34375 \nQ 5.515625 14.109375 5.515625 27.296875 \nQ 5.515625 40.671875 12.859375 48.328125 \nQ 20.21875 56 33.015625 56 \nQ 37.15625 56 41.109375 55.140625 \nQ 45.0625 54.296875 48.78125 52.59375 \nz\n\" id=\"DejaVuSans-99\"/>\n      <path d=\"M 41.109375 46.296875 \nQ 39.59375 47.171875 37.8125 47.578125 \nQ 36.03125 48 33.890625 48 \nQ 26.265625 48 22.1875 43.046875 \nQ 18.109375 38.09375 18.109375 28.8125 \nL 18.109375 0 \nL 9.078125 0 \nL 9.078125 54.6875 \nL 18.109375 54.6875 \nL 18.109375 46.1875 \nQ 20.953125 51.171875 25.484375 53.578125 \nQ 30.03125 56 36.53125 56 \nQ 37.453125 56 38.578125 55.875 \nQ 39.703125 55.765625 41.0625 55.515625 \nz\n\" id=\"DejaVuSans-114\"/>\n      <path d=\"M 30.609375 48.390625 \nQ 23.390625 48.390625 19.1875 42.75 \nQ 14.984375 37.109375 14.984375 27.296875 \nQ 14.984375 17.484375 19.15625 11.84375 \nQ 23.34375 6.203125 30.609375 6.203125 \nQ 37.796875 6.203125 41.984375 11.859375 \nQ 46.1875 17.53125 46.1875 27.296875 \nQ 46.1875 37.015625 41.984375 42.703125 \nQ 37.796875 48.390625 30.609375 48.390625 \nz\nM 30.609375 56 \nQ 42.328125 56 49.015625 48.375 \nQ 55.71875 40.765625 55.71875 27.296875 \nQ 55.71875 13.875 49.015625 6.21875 \nQ 42.328125 -1.421875 30.609375 -1.421875 \nQ 18.84375 -1.421875 12.171875 6.21875 \nQ 5.515625 13.875 5.515625 27.296875 \nQ 5.515625 40.765625 12.171875 48.375 \nQ 18.84375 56 30.609375 56 \nz\n\" id=\"DejaVuSans-111\"/>\n      <path d=\"M 4.890625 31.390625 \nL 31.203125 31.390625 \nL 31.203125 23.390625 \nL 4.890625 23.390625 \nz\n\" id=\"DejaVuSans-45\"/>\n     </defs>\n     <use xlink:href=\"#DejaVuSans-109\"/>\n     <use x=\"97.412109\" xlink:href=\"#DejaVuSans-105\"/>\n     <use x=\"125.195312\" xlink:href=\"#DejaVuSans-99\"/>\n     <use x=\"180.175781\" xlink:href=\"#DejaVuSans-114\"/>\n     <use x=\"219.039062\" xlink:href=\"#DejaVuSans-111\"/>\n     <use x=\"282.095703\" xlink:href=\"#DejaVuSans-45\"/>\n     <use x=\"318.179688\" xlink:href=\"#DejaVuSans-67\"/>\n     <use x=\"388.003906\" xlink:href=\"#DejaVuSans-72\"/>\n     <use x=\"463.199219\" xlink:href=\"#DejaVuSans-80\"/>\n    </g>\n   </g>\n   <g id=\"text_43\">\n    <!-- HEV -->\n    <g transform=\"translate(210.777493 150.468564)scale(0.12 -0.12)\">\n     <use xlink:href=\"#DejaVuSans-72\"/>\n     <use x=\"75.195312\" xlink:href=\"#DejaVuSans-69\"/>\n     <use x=\"138.378906\" xlink:href=\"#DejaVuSans-86\"/>\n    </g>\n   </g>\n   <g id=\"text_44\">\n    <!-- PHEV -->\n    <g transform=\"translate(208.714746 291.538311)scale(0.12 -0.12)\">\n     <use xlink:href=\"#DejaVuSans-80\"/>\n     <use x=\"60.302734\" xlink:href=\"#DejaVuSans-72\"/>\n     <use x=\"135.498047\" xlink:href=\"#DejaVuSans-69\"/>\n     <use x=\"198.681641\" xlink:href=\"#DejaVuSans-86\"/>\n    </g>\n   </g>\n   <g id=\"text_45\">\n    <!-- PVT -->\n    <g transform=\"translate(228.268631 91.963079)scale(0.12 -0.12)\">\n     <use xlink:href=\"#DejaVuSans-80\"/>\n     <use x=\"60.302734\" xlink:href=\"#DejaVuSans-86\"/>\n     <use x=\"128.710938\" xlink:href=\"#DejaVuSans-84\"/>\n    </g>\n   </g>\n   <g id=\"text_46\">\n    <!-- CPV -->\n    <g transform=\"translate(251.224765 299.983529)scale(0.12 -0.12)\">\n     <use xlink:href=\"#DejaVuSans-67\"/>\n     <use x=\"69.824219\" xlink:href=\"#DejaVuSans-80\"/>\n     <use x=\"130.126953\" xlink:href=\"#DejaVuSans-86\"/>\n    </g>\n   </g>\n   <g id=\"text_47\">\n    <!-- TPV -->\n    <g transform=\"translate(200.26843 43.176466)scale(0.12 -0.12)\">\n     <use xlink:href=\"#DejaVuSans-84\"/>\n     <use x=\"61.083984\" xlink:href=\"#DejaVuSans-80\"/>\n     <use x=\"121.386719\" xlink:href=\"#DejaVuSans-86\"/>\n    </g>\n   </g>\n   <g id=\"text_48\">\n    <!-- turbine -->\n    <g transform=\"translate(39.565063 20.383594)scale(0.12 -0.12)\">\n     <defs>\n      <path d=\"M 18.3125 70.21875 \nL 18.3125 54.6875 \nL 36.8125 54.6875 \nL 36.8125 47.703125 \nL 18.3125 47.703125 \nL 18.3125 18.015625 \nQ 18.3125 11.328125 20.140625 9.421875 \nQ 21.96875 7.515625 27.59375 7.515625 \nL 36.8125 7.515625 \nL 36.8125 0 \nL 27.59375 0 \nQ 17.1875 0 13.234375 3.875 \nQ 9.28125 7.765625 9.28125 18.015625 \nL 9.28125 47.703125 \nL 2.6875 47.703125 \nL 2.6875 54.6875 \nL 9.28125 54.6875 \nL 9.28125 70.21875 \nz\n\" id=\"DejaVuSans-116\"/>\n      <path d=\"M 8.5 21.578125 \nL 8.5 54.6875 \nL 17.484375 54.6875 \nL 17.484375 21.921875 \nQ 17.484375 14.15625 20.5 10.265625 \nQ 23.53125 6.390625 29.59375 6.390625 \nQ 36.859375 6.390625 41.078125 11.03125 \nQ 45.3125 15.671875 45.3125 23.6875 \nL 45.3125 54.6875 \nL 54.296875 54.6875 \nL 54.296875 0 \nL 45.3125 0 \nL 45.3125 8.40625 \nQ 42.046875 3.421875 37.71875 1 \nQ 33.40625 -1.421875 27.6875 -1.421875 \nQ 18.265625 -1.421875 13.375 4.4375 \nQ 8.5 10.296875 8.5 21.578125 \nz\nM 31.109375 56 \nz\n\" id=\"DejaVuSans-117\"/>\n      <path d=\"M 48.6875 27.296875 \nQ 48.6875 37.203125 44.609375 42.84375 \nQ 40.53125 48.484375 33.40625 48.484375 \nQ 26.265625 48.484375 22.1875 42.84375 \nQ 18.109375 37.203125 18.109375 27.296875 \nQ 18.109375 17.390625 22.1875 11.75 \nQ 26.265625 6.109375 33.40625 6.109375 \nQ 40.53125 6.109375 44.609375 11.75 \nQ 48.6875 17.390625 48.6875 27.296875 \nz\nM 18.109375 46.390625 \nQ 20.953125 51.265625 25.265625 53.625 \nQ 29.59375 56 35.59375 56 \nQ 45.5625 56 51.78125 48.09375 \nQ 58.015625 40.1875 58.015625 27.296875 \nQ 58.015625 14.40625 51.78125 6.484375 \nQ 45.5625 -1.421875 35.59375 -1.421875 \nQ 29.59375 -1.421875 25.265625 0.953125 \nQ 20.953125 3.328125 18.109375 8.203125 \nL 18.109375 0 \nL 9.078125 0 \nL 9.078125 75.984375 \nL 18.109375 75.984375 \nz\n\" id=\"DejaVuSans-98\"/>\n      <path d=\"M 54.890625 33.015625 \nL 54.890625 0 \nL 45.90625 0 \nL 45.90625 32.71875 \nQ 45.90625 40.484375 42.875 44.328125 \nQ 39.84375 48.1875 33.796875 48.1875 \nQ 26.515625 48.1875 22.3125 43.546875 \nQ 18.109375 38.921875 18.109375 30.90625 \nL 18.109375 0 \nL 9.078125 0 \nL 9.078125 54.6875 \nL 18.109375 54.6875 \nL 18.109375 46.1875 \nQ 21.34375 51.125 25.703125 53.5625 \nQ 30.078125 56 35.796875 56 \nQ 45.21875 56 50.046875 50.171875 \nQ 54.890625 44.34375 54.890625 33.015625 \nz\n\" id=\"DejaVuSans-110\"/>\n      <path d=\"M 56.203125 29.59375 \nL 56.203125 25.203125 \nL 14.890625 25.203125 \nQ 15.484375 15.921875 20.484375 11.0625 \nQ 25.484375 6.203125 34.421875 6.203125 \nQ 39.59375 6.203125 44.453125 7.46875 \nQ 49.3125 8.734375 54.109375 11.28125 \nL 54.109375 2.78125 \nQ 49.265625 0.734375 44.1875 -0.34375 \nQ 39.109375 -1.421875 33.890625 -1.421875 \nQ 20.796875 -1.421875 13.15625 6.1875 \nQ 5.515625 13.8125 5.515625 26.8125 \nQ 5.515625 40.234375 12.765625 48.109375 \nQ 20.015625 56 32.328125 56 \nQ 43.359375 56 49.78125 48.890625 \nQ 56.203125 41.796875 56.203125 29.59375 \nz\nM 47.21875 32.234375 \nQ 47.125 39.59375 43.09375 43.984375 \nQ 39.0625 48.390625 32.421875 48.390625 \nQ 24.90625 48.390625 20.390625 44.140625 \nQ 15.875 39.890625 15.1875 32.171875 \nz\n\" id=\"DejaVuSans-101\"/>\n     </defs>\n     <use xlink:href=\"#DejaVuSans-116\"/>\n     <use x=\"39.208984\" xlink:href=\"#DejaVuSans-117\"/>\n     <use x=\"102.587891\" xlink:href=\"#DejaVuSans-114\"/>\n     <use x=\"143.701172\" xlink:href=\"#DejaVuSans-98\"/>\n     <use x=\"207.177734\" xlink:href=\"#DejaVuSans-105\"/>\n     <use x=\"234.960938\" xlink:href=\"#DejaVuSans-110\"/>\n     <use x=\"298.339844\" xlink:href=\"#DejaVuSans-101\"/>\n    </g>\n   </g>\n   <g id=\"text_49\">\n    <!-- rSOC -->\n    <g transform=\"translate(228.188655 334.002112)scale(0.12 -0.12)\">\n     <defs>\n      <path d=\"M 39.40625 66.21875 \nQ 28.65625 66.21875 22.328125 58.203125 \nQ 16.015625 50.203125 16.015625 36.375 \nQ 16.015625 22.609375 22.328125 14.59375 \nQ 28.65625 6.59375 39.40625 6.59375 \nQ 50.140625 6.59375 56.421875 14.59375 \nQ 62.703125 22.609375 62.703125 36.375 \nQ 62.703125 50.203125 56.421875 58.203125 \nQ 50.140625 66.21875 39.40625 66.21875 \nz\nM 39.40625 74.21875 \nQ 54.734375 74.21875 63.90625 63.9375 \nQ 73.09375 53.65625 73.09375 36.375 \nQ 73.09375 19.140625 63.90625 8.859375 \nQ 54.734375 -1.421875 39.40625 -1.421875 \nQ 24.03125 -1.421875 14.8125 8.828125 \nQ 5.609375 19.09375 5.609375 36.375 \nQ 5.609375 53.65625 14.8125 63.9375 \nQ 24.03125 74.21875 39.40625 74.21875 \nz\n\" id=\"DejaVuSans-79\"/>\n     </defs>\n     <use xlink:href=\"#DejaVuSans-114\"/>\n     <use x=\"41.113281\" xlink:href=\"#DejaVuSans-83\"/>\n     <use x=\"104.589844\" xlink:href=\"#DejaVuSans-79\"/>\n     <use x=\"183.300781\" xlink:href=\"#DejaVuSans-67\"/>\n    </g>\n   </g>\n   <g id=\"text_50\">\n    <!-- standalone -->\n    <g transform=\"translate(143.130425 193.445979)scale(0.12 -0.12)\">\n     <defs>\n      <path d=\"M 34.28125 27.484375 \nQ 23.390625 27.484375 19.1875 25 \nQ 14.984375 22.515625 14.984375 16.5 \nQ 14.984375 11.71875 18.140625 8.90625 \nQ 21.296875 6.109375 26.703125 6.109375 \nQ 34.1875 6.109375 38.703125 11.40625 \nQ 43.21875 16.703125 43.21875 25.484375 \nL 43.21875 27.484375 \nz\nM 52.203125 31.203125 \nL 52.203125 0 \nL 43.21875 0 \nL 43.21875 8.296875 \nQ 40.140625 3.328125 35.546875 0.953125 \nQ 30.953125 -1.421875 24.3125 -1.421875 \nQ 15.921875 -1.421875 10.953125 3.296875 \nQ 6 8.015625 6 15.921875 \nQ 6 25.140625 12.171875 29.828125 \nQ 18.359375 34.515625 30.609375 34.515625 \nL 43.21875 34.515625 \nL 43.21875 35.40625 \nQ 43.21875 41.609375 39.140625 45 \nQ 35.0625 48.390625 27.6875 48.390625 \nQ 23 48.390625 18.546875 47.265625 \nQ 14.109375 46.140625 10.015625 43.890625 \nL 10.015625 52.203125 \nQ 14.9375 54.109375 19.578125 55.046875 \nQ 24.21875 56 28.609375 56 \nQ 40.484375 56 46.34375 49.84375 \nQ 52.203125 43.703125 52.203125 31.203125 \nz\n\" id=\"DejaVuSans-97\"/>\n      <path d=\"M 45.40625 46.390625 \nL 45.40625 75.984375 \nL 54.390625 75.984375 \nL 54.390625 0 \nL 45.40625 0 \nL 45.40625 8.203125 \nQ 42.578125 3.328125 38.25 0.953125 \nQ 33.9375 -1.421875 27.875 -1.421875 \nQ 17.96875 -1.421875 11.734375 6.484375 \nQ 5.515625 14.40625 5.515625 27.296875 \nQ 5.515625 40.1875 11.734375 48.09375 \nQ 17.96875 56 27.875 56 \nQ 33.9375 56 38.25 53.625 \nQ 42.578125 51.265625 45.40625 46.390625 \nz\nM 14.796875 27.296875 \nQ 14.796875 17.390625 18.875 11.75 \nQ 22.953125 6.109375 30.078125 6.109375 \nQ 37.203125 6.109375 41.296875 11.75 \nQ 45.40625 17.390625 45.40625 27.296875 \nQ 45.40625 37.203125 41.296875 42.84375 \nQ 37.203125 48.484375 30.078125 48.484375 \nQ 22.953125 48.484375 18.875 42.84375 \nQ 14.796875 37.203125 14.796875 27.296875 \nz\n\" id=\"DejaVuSans-100\"/>\n      <path d=\"M 9.421875 75.984375 \nL 18.40625 75.984375 \nL 18.40625 0 \nL 9.421875 0 \nz\n\" id=\"DejaVuSans-108\"/>\n     </defs>\n     <use xlink:href=\"#DejaVuSans-115\"/>\n     <use x=\"52.099609\" xlink:href=\"#DejaVuSans-116\"/>\n     <use x=\"91.308594\" xlink:href=\"#DejaVuSans-97\"/>\n     <use x=\"152.587891\" xlink:href=\"#DejaVuSans-110\"/>\n     <use x=\"215.966797\" xlink:href=\"#DejaVuSans-100\"/>\n     <use x=\"279.443359\" xlink:href=\"#DejaVuSans-97\"/>\n     <use x=\"340.722656\" xlink:href=\"#DejaVuSans-108\"/>\n     <use x=\"368.505859\" xlink:href=\"#DejaVuSans-111\"/>\n     <use x=\"429.6875\" xlink:href=\"#DejaVuSans-110\"/>\n     <use x=\"493.066406\" xlink:href=\"#DejaVuSans-101\"/>\n    </g>\n   </g>\n   <g id=\"text_51\">\n    <!-- BOP -->\n    <g transform=\"translate(225.161727 313.462352)scale(0.12 -0.12)\">\n     <use xlink:href=\"#DejaVuSans-66\"/>\n     <use x=\"66.853516\" xlink:href=\"#DejaVuSans-79\"/>\n     <use x=\"145.564453\" xlink:href=\"#DejaVuSans-80\"/>\n    </g>\n   </g>\n   <g id=\"text_52\">\n    <!-- CAPEX -->\n    <g transform=\"translate(148.892846 293.586236)scale(0.12 -0.12)\">\n     <defs>\n      <path d=\"M 6.296875 72.90625 \nL 16.890625 72.90625 \nL 35.015625 45.796875 \nL 53.21875 72.90625 \nL 63.8125 72.90625 \nL 40.375 37.890625 \nL 65.375 0 \nL 54.78125 0 \nL 34.28125 31 \nL 13.625 0 \nL 2.984375 0 \nL 29 38.921875 \nz\n\" id=\"DejaVuSans-88\"/>\n     </defs>\n     <use xlink:href=\"#DejaVuSans-67\"/>\n     <use x=\"69.824219\" xlink:href=\"#DejaVuSans-65\"/>\n     <use x=\"138.232422\" xlink:href=\"#DejaVuSans-80\"/>\n     <use x=\"198.535156\" xlink:href=\"#DejaVuSans-69\"/>\n     <use x=\"261.71875\" xlink:href=\"#DejaVuSans-88\"/>\n    </g>\n   </g>\n   <g id=\"text_53\">\n    <!-- CDCL -->\n    <g transform=\"translate(151.843424 379.238352)scale(0.12 -0.12)\">\n     <use xlink:href=\"#DejaVuSans-67\"/>\n     <use x=\"69.824219\" xlink:href=\"#DejaVuSans-68\"/>\n     <use x=\"146.826172\" xlink:href=\"#DejaVuSans-67\"/>\n     <use x=\"216.650391\" xlink:href=\"#DejaVuSans-76\"/>\n    </g>\n   </g>\n   <g id=\"text_54\">\n    <!-- BoP -->\n    <g transform=\"translate(280.387329 368.524964)scale(0.12 -0.12)\">\n     <use xlink:href=\"#DejaVuSans-66\"/>\n     <use x=\"68.603516\" xlink:href=\"#DejaVuSans-111\"/>\n     <use x=\"129.785156\" xlink:href=\"#DejaVuSans-80\"/>\n    </g>\n   </g>\n   <g id=\"text_55\">\n    <!-- micro-turbine -->\n    <g transform=\"translate(68.695318 365.658636)scale(0.12 -0.12)\">\n     <use xlink:href=\"#DejaVuSans-109\"/>\n     <use x=\"97.412109\" xlink:href=\"#DejaVuSans-105\"/>\n     <use x=\"125.195312\" xlink:href=\"#DejaVuSans-99\"/>\n     <use x=\"180.175781\" xlink:href=\"#DejaVuSans-114\"/>\n     <use x=\"219.039062\" xlink:href=\"#DejaVuSans-111\"/>\n     <use x=\"282.095703\" xlink:href=\"#DejaVuSans-45\"/>\n     <use x=\"318.179688\" xlink:href=\"#DejaVuSans-116\"/>\n     <use x=\"357.388672\" xlink:href=\"#DejaVuSans-117\"/>\n     <use x=\"420.767578\" xlink:href=\"#DejaVuSans-114\"/>\n     <use x=\"461.880859\" xlink:href=\"#DejaVuSans-98\"/>\n     <use x=\"525.357422\" xlink:href=\"#DejaVuSans-105\"/>\n     <use x=\"553.140625\" xlink:href=\"#DejaVuSans-110\"/>\n     <use x=\"616.519531\" xlink:href=\"#DejaVuSans-101\"/>\n    </g>\n   </g>\n   <g id=\"text_56\">\n    <!-- m-CHP -->\n    <g transform=\"translate(110.799151 345.004488)scale(0.12 -0.12)\">\n     <use xlink:href=\"#DejaVuSans-109\"/>\n     <use x=\"97.412109\" xlink:href=\"#DejaVuSans-45\"/>\n     <use x=\"133.496094\" xlink:href=\"#DejaVuSans-67\"/>\n     <use x=\"203.320312\" xlink:href=\"#DejaVuSans-72\"/>\n     <use x=\"278.515625\" xlink:href=\"#DejaVuSans-80\"/>\n    </g>\n   </g>\n   <g id=\"text_57\">\n    <!-- PEM -->\n    <g transform=\"translate(383.240587 49.378185)scale(0.12 -0.12)\">\n     <use xlink:href=\"#DejaVuSans-80\"/>\n     <use x=\"60.302734\" xlink:href=\"#DejaVuSans-69\"/>\n     <use x=\"123.486328\" xlink:href=\"#DejaVuSans-77\"/>\n    </g>\n   </g>\n   <g id=\"text_58\">\n    <!-- ICEV -->\n    <g transform=\"translate(188.426359 323.699047)scale(0.12 -0.12)\">\n     <use xlink:href=\"#DejaVuSans-73\"/>\n     <use x=\"29.492188\" xlink:href=\"#DejaVuSans-67\"/>\n     <use x=\"99.316406\" xlink:href=\"#DejaVuSans-69\"/>\n     <use x=\"162.5\" xlink:href=\"#DejaVuSans-86\"/>\n    </g>\n   </g>\n   <g id=\"text_59\">\n    <!-- IEM -->\n    <g transform=\"translate(361.574921 83.31361)scale(0.12 -0.12)\">\n     <use xlink:href=\"#DejaVuSans-73\"/>\n     <use x=\"29.492188\" xlink:href=\"#DejaVuSans-69\"/>\n     <use x=\"92.675781\" xlink:href=\"#DejaVuSans-77\"/>\n    </g>\n   </g>\n   <g id=\"text_60\">\n    <!-- BIPV -->\n    <g transform=\"translate(220.42476 227.470695)scale(0.12 -0.12)\">\n     <use xlink:href=\"#DejaVuSans-66\"/>\n     <use x=\"68.603516\" xlink:href=\"#DejaVuSans-73\"/>\n     <use x=\"98.095703\" xlink:href=\"#DejaVuSans-80\"/>\n     <use x=\"158.398438\" xlink:href=\"#DejaVuSans-86\"/>\n    </g>\n   </g>\n   <g id=\"text_61\">\n    <!-- BEV -->\n    <g transform=\"translate(124.304226 132.089197)scale(0.12 -0.12)\">\n     <use xlink:href=\"#DejaVuSans-66\"/>\n     <use x=\"68.603516\" xlink:href=\"#DejaVuSans-69\"/>\n     <use x=\"131.787109\" xlink:href=\"#DejaVuSans-86\"/>\n    </g>\n   </g>\n   <g id=\"text_62\">\n    <!-- PV -->\n    <g transform=\"translate(139.141156 20.383594)scale(0.12 -0.12)\">\n     <use xlink:href=\"#DejaVuSans-80\"/>\n     <use x=\"60.302734\" xlink:href=\"#DejaVuSans-86\"/>\n    </g>\n   </g>\n   <g id=\"text_63\">\n    <!-- MDC -->\n    <g transform=\"translate(296.175919 157.349686)scale(0.12 -0.12)\">\n     <use xlink:href=\"#DejaVuSans-77\"/>\n     <use x=\"86.279297\" xlink:href=\"#DejaVuSans-68\"/>\n     <use x=\"163.28125\" xlink:href=\"#DejaVuSans-67\"/>\n    </g>\n   </g>\n   <g id=\"text_64\">\n    <!-- CHHP -->\n    <g transform=\"translate(146.184901 396.795335)scale(0.12 -0.12)\">\n     <use xlink:href=\"#DejaVuSans-67\"/>\n     <use x=\"69.824219\" xlink:href=\"#DejaVuSans-72\"/>\n     <use x=\"145.019531\" xlink:href=\"#DejaVuSans-72\"/>\n     <use x=\"220.214844\" xlink:href=\"#DejaVuSans-80\"/>\n    </g>\n   </g>\n   <g id=\"text_65\">\n    <!-- microturbine -->\n    <g transform=\"translate(157.676728 357.246234)scale(0.12 -0.12)\">\n     <use xlink:href=\"#DejaVuSans-109\"/>\n     <use x=\"97.412109\" xlink:href=\"#DejaVuSans-105\"/>\n     <use x=\"125.195312\" xlink:href=\"#DejaVuSans-99\"/>\n     <use x=\"180.175781\" xlink:href=\"#DejaVuSans-114\"/>\n     <use x=\"219.039062\" xlink:href=\"#DejaVuSans-111\"/>\n     <use x=\"280.220703\" xlink:href=\"#DejaVuSans-116\"/>\n     <use x=\"319.429688\" xlink:href=\"#DejaVuSans-117\"/>\n     <use x=\"382.808594\" xlink:href=\"#DejaVuSans-114\"/>\n     <use x=\"423.921875\" xlink:href=\"#DejaVuSans-98\"/>\n     <use x=\"487.398438\" xlink:href=\"#DejaVuSans-105\"/>\n     <use x=\"515.181641\" xlink:href=\"#DejaVuSans-110\"/>\n     <use x=\"578.560547\" xlink:href=\"#DejaVuSans-101\"/>\n    </g>\n   </g>\n   <g id=\"text_66\">\n    <!-- PV-E -->\n    <g transform=\"translate(178.283954 309.543135)scale(0.12 -0.12)\">\n     <use xlink:href=\"#DejaVuSans-80\"/>\n     <use x=\"60.302734\" xlink:href=\"#DejaVuSans-86\"/>\n     <use x=\"122.835938\" xlink:href=\"#DejaVuSans-45\"/>\n     <use x=\"158.919922\" xlink:href=\"#DejaVuSans-69\"/>\n    </g>\n   </g>\n   <g id=\"text_67\">\n    <!-- DFB -->\n    <g transform=\"translate(233.449222 368.422892)scale(0.12 -0.12)\">\n     <use xlink:href=\"#DejaVuSans-68\"/>\n     <use x=\"77.001953\" xlink:href=\"#DejaVuSans-70\"/>\n     <use x=\"134.521484\" xlink:href=\"#DejaVuSans-66\"/>\n    </g>\n   </g>\n   <g id=\"text_68\">\n    <!-- hydrogen-fueled -->\n    <g transform=\"translate(188.542995 392.333861)scale(0.12 -0.12)\">\n     <defs>\n      <path d=\"M 54.890625 33.015625 \nL 54.890625 0 \nL 45.90625 0 \nL 45.90625 32.71875 \nQ 45.90625 40.484375 42.875 44.328125 \nQ 39.84375 48.1875 33.796875 48.1875 \nQ 26.515625 48.1875 22.3125 43.546875 \nQ 18.109375 38.921875 18.109375 30.90625 \nL 18.109375 0 \nL 9.078125 0 \nL 9.078125 75.984375 \nL 18.109375 75.984375 \nL 18.109375 46.1875 \nQ 21.34375 51.125 25.703125 53.5625 \nQ 30.078125 56 35.796875 56 \nQ 45.21875 56 50.046875 50.171875 \nQ 54.890625 44.34375 54.890625 33.015625 \nz\n\" id=\"DejaVuSans-104\"/>\n      <path d=\"M 32.171875 -5.078125 \nQ 28.375 -14.84375 24.75 -17.8125 \nQ 21.140625 -20.796875 15.09375 -20.796875 \nL 7.90625 -20.796875 \nL 7.90625 -13.28125 \nL 13.1875 -13.28125 \nQ 16.890625 -13.28125 18.9375 -11.515625 \nQ 21 -9.765625 23.484375 -3.21875 \nL 25.09375 0.875 \nL 2.984375 54.6875 \nL 12.5 54.6875 \nL 29.59375 11.921875 \nL 46.6875 54.6875 \nL 56.203125 54.6875 \nz\n\" id=\"DejaVuSans-121\"/>\n      <path d=\"M 45.40625 27.984375 \nQ 45.40625 37.75 41.375 43.109375 \nQ 37.359375 48.484375 30.078125 48.484375 \nQ 22.859375 48.484375 18.828125 43.109375 \nQ 14.796875 37.75 14.796875 27.984375 \nQ 14.796875 18.265625 18.828125 12.890625 \nQ 22.859375 7.515625 30.078125 7.515625 \nQ 37.359375 7.515625 41.375 12.890625 \nQ 45.40625 18.265625 45.40625 27.984375 \nz\nM 54.390625 6.78125 \nQ 54.390625 -7.171875 48.1875 -13.984375 \nQ 42 -20.796875 29.203125 -20.796875 \nQ 24.46875 -20.796875 20.265625 -20.09375 \nQ 16.0625 -19.390625 12.109375 -17.921875 \nL 12.109375 -9.1875 \nQ 16.0625 -11.328125 19.921875 -12.34375 \nQ 23.78125 -13.375 27.78125 -13.375 \nQ 36.625 -13.375 41.015625 -8.765625 \nQ 45.40625 -4.15625 45.40625 5.171875 \nL 45.40625 9.625 \nQ 42.625 4.78125 38.28125 2.390625 \nQ 33.9375 0 27.875 0 \nQ 17.828125 0 11.671875 7.65625 \nQ 5.515625 15.328125 5.515625 27.984375 \nQ 5.515625 40.671875 11.671875 48.328125 \nQ 17.828125 56 27.875 56 \nQ 33.9375 56 38.28125 53.609375 \nQ 42.625 51.21875 45.40625 46.390625 \nL 45.40625 54.6875 \nL 54.390625 54.6875 \nz\n\" id=\"DejaVuSans-103\"/>\n      <path d=\"M 37.109375 75.984375 \nL 37.109375 68.5 \nL 28.515625 68.5 \nQ 23.6875 68.5 21.796875 66.546875 \nQ 19.921875 64.59375 19.921875 59.515625 \nL 19.921875 54.6875 \nL 34.71875 54.6875 \nL 34.71875 47.703125 \nL 19.921875 47.703125 \nL 19.921875 0 \nL 10.890625 0 \nL 10.890625 47.703125 \nL 2.296875 47.703125 \nL 2.296875 54.6875 \nL 10.890625 54.6875 \nL 10.890625 58.5 \nQ 10.890625 67.625 15.140625 71.796875 \nQ 19.390625 75.984375 28.609375 75.984375 \nz\n\" id=\"DejaVuSans-102\"/>\n     </defs>\n     <use xlink:href=\"#DejaVuSans-104\"/>\n     <use x=\"63.378906\" xlink:href=\"#DejaVuSans-121\"/>\n     <use x=\"122.558594\" xlink:href=\"#DejaVuSans-100\"/>\n     <use x=\"186.035156\" xlink:href=\"#DejaVuSans-114\"/>\n     <use x=\"224.898438\" xlink:href=\"#DejaVuSans-111\"/>\n     <use x=\"286.080078\" xlink:href=\"#DejaVuSans-103\"/>\n     <use x=\"349.556641\" xlink:href=\"#DejaVuSans-101\"/>\n     <use x=\"411.080078\" xlink:href=\"#DejaVuSans-110\"/>\n     <use x=\"474.458984\" xlink:href=\"#DejaVuSans-45\"/>\n     <use x=\"510.542969\" xlink:href=\"#DejaVuSans-102\"/>\n     <use x=\"545.748047\" xlink:href=\"#DejaVuSans-117\"/>\n     <use x=\"609.126953\" xlink:href=\"#DejaVuSans-101\"/>\n     <use x=\"670.650391\" xlink:href=\"#DejaVuSans-108\"/>\n     <use x=\"698.433594\" xlink:href=\"#DejaVuSans-101\"/>\n     <use x=\"759.957031\" xlink:href=\"#DejaVuSans-100\"/>\n    </g>\n   </g>\n   <g id=\"text_69\">\n    <!-- YSZ -->\n    <g transform=\"translate(405.374563 296.047047)scale(0.12 -0.12)\">\n     <defs>\n      <path d=\"M -0.203125 72.90625 \nL 10.40625 72.90625 \nL 30.609375 42.921875 \nL 50.6875 72.90625 \nL 61.28125 72.90625 \nL 35.5 34.71875 \nL 35.5 0 \nL 25.59375 0 \nL 25.59375 34.71875 \nz\n\" id=\"DejaVuSans-89\"/>\n      <path d=\"M 5.609375 72.90625 \nL 62.890625 72.90625 \nL 62.890625 65.375 \nL 16.796875 8.296875 \nL 64.015625 8.296875 \nL 64.015625 0 \nL 4.5 0 \nL 4.5 7.515625 \nL 50.59375 64.59375 \nL 5.609375 64.59375 \nz\n\" id=\"DejaVuSans-90\"/>\n     </defs>\n     <use xlink:href=\"#DejaVuSans-89\"/>\n     <use x=\"61.083984\" xlink:href=\"#DejaVuSans-83\"/>\n     <use x=\"124.560547\" xlink:href=\"#DejaVuSans-90\"/>\n    </g>\n   </g>\n   <g id=\"text_70\">\n    <!-- LSCF -->\n    <g transform=\"translate(399.560621 187.223688)scale(0.12 -0.12)\">\n     <use xlink:href=\"#DejaVuSans-76\"/>\n     <use x=\"55.712891\" xlink:href=\"#DejaVuSans-83\"/>\n     <use x=\"119.189453\" xlink:href=\"#DejaVuSans-67\"/>\n     <use x=\"189.013672\" xlink:href=\"#DejaVuSans-70\"/>\n    </g>\n   </g>\n   <g id=\"text_71\">\n    <!-- CGO -->\n    <g transform=\"translate(402.075896 328.043789)scale(0.12 -0.12)\">\n     <use xlink:href=\"#DejaVuSans-67\"/>\n     <use x=\"69.824219\" xlink:href=\"#DejaVuSans-71\"/>\n     <use x=\"147.314453\" xlink:href=\"#DejaVuSans-79\"/>\n    </g>\n   </g>\n   <g id=\"text_72\">\n    <!-- Ce8O19Sm2 -->\n    <g transform=\"translate(307.927128 344.714758)scale(0.12 -0.12)\">\n     <defs>\n      <path d=\"M 31.78125 34.625 \nQ 24.75 34.625 20.71875 30.859375 \nQ 16.703125 27.09375 16.703125 20.515625 \nQ 16.703125 13.921875 20.71875 10.15625 \nQ 24.75 6.390625 31.78125 6.390625 \nQ 38.8125 6.390625 42.859375 10.171875 \nQ 46.921875 13.96875 46.921875 20.515625 \nQ 46.921875 27.09375 42.890625 30.859375 \nQ 38.875 34.625 31.78125 34.625 \nz\nM 21.921875 38.8125 \nQ 15.578125 40.375 12.03125 44.71875 \nQ 8.5 49.078125 8.5 55.328125 \nQ 8.5 64.0625 14.71875 69.140625 \nQ 20.953125 74.21875 31.78125 74.21875 \nQ 42.671875 74.21875 48.875 69.140625 \nQ 55.078125 64.0625 55.078125 55.328125 \nQ 55.078125 49.078125 51.53125 44.71875 \nQ 48 40.375 41.703125 38.8125 \nQ 48.828125 37.15625 52.796875 32.3125 \nQ 56.78125 27.484375 56.78125 20.515625 \nQ 56.78125 9.90625 50.3125 4.234375 \nQ 43.84375 -1.421875 31.78125 -1.421875 \nQ 19.734375 -1.421875 13.25 4.234375 \nQ 6.78125 9.90625 6.78125 20.515625 \nQ 6.78125 27.484375 10.78125 32.3125 \nQ 14.796875 37.15625 21.921875 38.8125 \nz\nM 18.3125 54.390625 \nQ 18.3125 48.734375 21.84375 45.5625 \nQ 25.390625 42.390625 31.78125 42.390625 \nQ 38.140625 42.390625 41.71875 45.5625 \nQ 45.3125 48.734375 45.3125 54.390625 \nQ 45.3125 60.0625 41.71875 63.234375 \nQ 38.140625 66.40625 31.78125 66.40625 \nQ 25.390625 66.40625 21.84375 63.234375 \nQ 18.3125 60.0625 18.3125 54.390625 \nz\n\" id=\"DejaVuSans-56\"/>\n      <path d=\"M 10.984375 1.515625 \nL 10.984375 10.5 \nQ 14.703125 8.734375 18.5 7.8125 \nQ 22.3125 6.890625 25.984375 6.890625 \nQ 35.75 6.890625 40.890625 13.453125 \nQ 46.046875 20.015625 46.78125 33.40625 \nQ 43.953125 29.203125 39.59375 26.953125 \nQ 35.25 24.703125 29.984375 24.703125 \nQ 19.046875 24.703125 12.671875 31.3125 \nQ 6.296875 37.9375 6.296875 49.421875 \nQ 6.296875 60.640625 12.9375 67.421875 \nQ 19.578125 74.21875 30.609375 74.21875 \nQ 43.265625 74.21875 49.921875 64.515625 \nQ 56.59375 54.828125 56.59375 36.375 \nQ 56.59375 19.140625 48.40625 8.859375 \nQ 40.234375 -1.421875 26.421875 -1.421875 \nQ 22.703125 -1.421875 18.890625 -0.6875 \nQ 15.09375 0.046875 10.984375 1.515625 \nz\nM 30.609375 32.421875 \nQ 37.25 32.421875 41.125 36.953125 \nQ 45.015625 41.5 45.015625 49.421875 \nQ 45.015625 57.28125 41.125 61.84375 \nQ 37.25 66.40625 30.609375 66.40625 \nQ 23.96875 66.40625 20.09375 61.84375 \nQ 16.21875 57.28125 16.21875 49.421875 \nQ 16.21875 41.5 20.09375 36.953125 \nQ 23.96875 32.421875 30.609375 32.421875 \nz\n\" id=\"DejaVuSans-57\"/>\n     </defs>\n     <use xlink:href=\"#DejaVuSans-67\"/>\n     <use x=\"69.824219\" xlink:href=\"#DejaVuSans-101\"/>\n     <use x=\"131.347656\" xlink:href=\"#DejaVuSans-56\"/>\n     <use x=\"194.970703\" xlink:href=\"#DejaVuSans-79\"/>\n     <use x=\"273.681641\" xlink:href=\"#DejaVuSans-49\"/>\n     <use x=\"337.304688\" xlink:href=\"#DejaVuSans-57\"/>\n     <use x=\"400.927734\" xlink:href=\"#DejaVuSans-83\"/>\n     <use x=\"464.404297\" xlink:href=\"#DejaVuSans-109\"/>\n     <use x=\"561.816406\" xlink:href=\"#DejaVuSans-50\"/>\n    </g>\n   </g>\n   <g id=\"text_73\">\n    <!-- PCEC -->\n    <g transform=\"translate(310.509714 319.649968)scale(0.12 -0.12)\">\n     <use xlink:href=\"#DejaVuSans-80\"/>\n     <use x=\"60.302734\" xlink:href=\"#DejaVuSans-67\"/>\n     <use x=\"130.126953\" xlink:href=\"#DejaVuSans-69\"/>\n     <use x=\"193.310547\" xlink:href=\"#DejaVuSans-67\"/>\n    </g>\n   </g>\n   <g id=\"text_74\">\n    <!-- ScSZ -->\n    <g transform=\"translate(398.825279 370.448405)scale(0.12 -0.12)\">\n     <use xlink:href=\"#DejaVuSans-83\"/>\n     <use x=\"63.476562\" xlink:href=\"#DejaVuSans-99\"/>\n     <use x=\"118.457031\" xlink:href=\"#DejaVuSans-83\"/>\n     <use x=\"181.933594\" xlink:href=\"#DejaVuSans-90\"/>\n    </g>\n   </g>\n   <g id=\"text_75\">\n    <!-- BaZr0.1Ce0.7Y0.1Yb0.1O3-d -->\n    <g transform=\"translate(255.113949 377.318678)scale(0.12 -0.12)\">\n     <use xlink:href=\"#DejaVuSans-66\"/>\n     <use x=\"68.603516\" xlink:href=\"#DejaVuSans-97\"/>\n     <use x=\"129.882812\" xlink:href=\"#DejaVuSans-90\"/>\n     <use x=\"198.388672\" xlink:href=\"#DejaVuSans-114\"/>\n     <use x=\"239.501953\" xlink:href=\"#DejaVuSans-48\"/>\n     <use x=\"303.125\" xlink:href=\"#DejaVuSans-46\"/>\n     <use x=\"334.912109\" xlink:href=\"#DejaVuSans-49\"/>\n     <use x=\"398.535156\" xlink:href=\"#DejaVuSans-67\"/>\n     <use x=\"468.359375\" xlink:href=\"#DejaVuSans-101\"/>\n     <use x=\"529.882812\" xlink:href=\"#DejaVuSans-48\"/>\n     <use x=\"593.505859\" xlink:href=\"#DejaVuSans-46\"/>\n     <use x=\"625.292969\" xlink:href=\"#DejaVuSans-55\"/>\n     <use x=\"688.916016\" xlink:href=\"#DejaVuSans-89\"/>\n     <use x=\"750\" xlink:href=\"#DejaVuSans-48\"/>\n     <use x=\"813.623047\" xlink:href=\"#DejaVuSans-46\"/>\n     <use x=\"845.410156\" xlink:href=\"#DejaVuSans-49\"/>\n     <use x=\"909.033203\" xlink:href=\"#DejaVuSans-89\"/>\n     <use x=\"970.117188\" xlink:href=\"#DejaVuSans-98\"/>\n     <use x=\"1033.59375\" xlink:href=\"#DejaVuSans-48\"/>\n     <use x=\"1097.216797\" xlink:href=\"#DejaVuSans-46\"/>\n     <use x=\"1129.003906\" xlink:href=\"#DejaVuSans-49\"/>\n     <use x=\"1192.626953\" xlink:href=\"#DejaVuSans-79\"/>\n     <use x=\"1271.337891\" xlink:href=\"#DejaVuSans-51\"/>\n     <use x=\"1334.960938\" xlink:href=\"#DejaVuSans-45\"/>\n     <use x=\"1371.044922\" xlink:href=\"#DejaVuSans-100\"/>\n    </g>\n   </g>\n   <g id=\"text_76\">\n    <!-- BZCYYb -->\n    <g transform=\"translate(367.748554 357.554232)scale(0.12 -0.12)\">\n     <use xlink:href=\"#DejaVuSans-66\"/>\n     <use x=\"68.603516\" xlink:href=\"#DejaVuSans-90\"/>\n     <use x=\"137.109375\" xlink:href=\"#DejaVuSans-67\"/>\n     <use x=\"205.183594\" xlink:href=\"#DejaVuSans-89\"/>\n     <use x=\"266.267578\" xlink:href=\"#DejaVuSans-89\"/>\n     <use x=\"327.351562\" xlink:href=\"#DejaVuSans-98\"/>\n    </g>\n   </g>\n   <g id=\"text_77\">\n    <!-- BSCF -->\n    <g transform=\"translate(397.441063 264.320938)scale(0.12 -0.12)\">\n     <use xlink:href=\"#DejaVuSans-66\"/>\n     <use x=\"66.853516\" xlink:href=\"#DejaVuSans-83\"/>\n     <use x=\"130.330078\" xlink:href=\"#DejaVuSans-67\"/>\n     <use x=\"200.154297\" xlink:href=\"#DejaVuSans-70\"/>\n    </g>\n   </g>\n   <g id=\"text_78\">\n    <!-- AFL -->\n    <g transform=\"translate(406.850563 309.7296)scale(0.12 -0.12)\">\n     <use xlink:href=\"#DejaVuSans-65\"/>\n     <use x=\"68.408203\" xlink:href=\"#DejaVuSans-70\"/>\n     <use x=\"125.927734\" xlink:href=\"#DejaVuSans-76\"/>\n    </g>\n   </g>\n   <g id=\"text_79\">\n    <!-- LNO -->\n    <g transform=\"translate(403.437313 383.456446)scale(0.12 -0.12)\">\n     <defs>\n      <path d=\"M 9.8125 72.90625 \nL 23.09375 72.90625 \nL 55.421875 11.921875 \nL 55.421875 72.90625 \nL 64.984375 72.90625 \nL 64.984375 0 \nL 51.703125 0 \nL 19.390625 60.984375 \nL 19.390625 0 \nL 9.8125 0 \nz\n\" id=\"DejaVuSans-78\"/>\n     </defs>\n     <use xlink:href=\"#DejaVuSans-76\"/>\n     <use x=\"55.712891\" xlink:href=\"#DejaVuSans-78\"/>\n     <use x=\"130.517578\" xlink:href=\"#DejaVuSans-79\"/>\n    </g>\n   </g>\n   <g id=\"text_80\">\n    <!-- Ba0.5Sr0.5Co0.8Fe0.2O3-d -->\n    <g transform=\"translate(158.438326 331.909584)scale(0.12 -0.12)\">\n     <use xlink:href=\"#DejaVuSans-66\"/>\n     <use x=\"68.603516\" xlink:href=\"#DejaVuSans-97\"/>\n     <use x=\"129.882812\" xlink:href=\"#DejaVuSans-48\"/>\n     <use x=\"193.505859\" xlink:href=\"#DejaVuSans-46\"/>\n     <use x=\"225.292969\" xlink:href=\"#DejaVuSans-53\"/>\n     <use x=\"288.916016\" xlink:href=\"#DejaVuSans-83\"/>\n     <use x=\"352.392578\" xlink:href=\"#DejaVuSans-114\"/>\n     <use x=\"393.505859\" xlink:href=\"#DejaVuSans-48\"/>\n     <use x=\"457.128906\" xlink:href=\"#DejaVuSans-46\"/>\n     <use x=\"488.916016\" xlink:href=\"#DejaVuSans-53\"/>\n     <use x=\"552.539062\" xlink:href=\"#DejaVuSans-67\"/>\n     <use x=\"622.363281\" xlink:href=\"#DejaVuSans-111\"/>\n     <use x=\"683.544922\" xlink:href=\"#DejaVuSans-48\"/>\n     <use x=\"747.167969\" xlink:href=\"#DejaVuSans-46\"/>\n     <use x=\"778.955078\" xlink:href=\"#DejaVuSans-56\"/>\n     <use x=\"842.578125\" xlink:href=\"#DejaVuSans-70\"/>\n     <use x=\"894.597656\" xlink:href=\"#DejaVuSans-101\"/>\n     <use x=\"956.121094\" xlink:href=\"#DejaVuSans-48\"/>\n     <use x=\"1019.744141\" xlink:href=\"#DejaVuSans-46\"/>\n     <use x=\"1051.53125\" xlink:href=\"#DejaVuSans-50\"/>\n     <use x=\"1115.154297\" xlink:href=\"#DejaVuSans-79\"/>\n     <use x=\"1193.865234\" xlink:href=\"#DejaVuSans-51\"/>\n     <use x=\"1257.488281\" xlink:href=\"#DejaVuSans-45\"/>\n     <use x=\"1293.572266\" xlink:href=\"#DejaVuSans-100\"/>\n    </g>\n   </g>\n   <g id=\"text_81\">\n    <!-- BaZr0.1Ce0.7Y0.2O3-d -->\n    <g transform=\"translate(211.15324 388.122225)scale(0.12 -0.12)\">\n     <use xlink:href=\"#DejaVuSans-66\"/>\n     <use x=\"68.603516\" xlink:href=\"#DejaVuSans-97\"/>\n     <use x=\"129.882812\" xlink:href=\"#DejaVuSans-90\"/>\n     <use x=\"198.388672\" xlink:href=\"#DejaVuSans-114\"/>\n     <use x=\"239.501953\" xlink:href=\"#DejaVuSans-48\"/>\n     <use x=\"303.125\" xlink:href=\"#DejaVuSans-46\"/>\n     <use x=\"334.912109\" xlink:href=\"#DejaVuSans-49\"/>\n     <use x=\"398.535156\" xlink:href=\"#DejaVuSans-67\"/>\n     <use x=\"468.359375\" xlink:href=\"#DejaVuSans-101\"/>\n     <use x=\"529.882812\" xlink:href=\"#DejaVuSans-48\"/>\n     <use x=\"593.505859\" xlink:href=\"#DejaVuSans-46\"/>\n     <use x=\"625.292969\" xlink:href=\"#DejaVuSans-55\"/>\n     <use x=\"688.916016\" xlink:href=\"#DejaVuSans-89\"/>\n     <use x=\"750\" xlink:href=\"#DejaVuSans-48\"/>\n     <use x=\"813.623047\" xlink:href=\"#DejaVuSans-46\"/>\n     <use x=\"845.410156\" xlink:href=\"#DejaVuSans-50\"/>\n     <use x=\"909.033203\" xlink:href=\"#DejaVuSans-79\"/>\n     <use x=\"987.744141\" xlink:href=\"#DejaVuSans-51\"/>\n     <use x=\"1051.367188\" xlink:href=\"#DejaVuSans-45\"/>\n     <use x=\"1087.451172\" xlink:href=\"#DejaVuSans-100\"/>\n    </g>\n   </g>\n   <g id=\"text_82\">\n    <!-- MEA -->\n    <g transform=\"translate(339.283898 19.306242)scale(0.12 -0.12)\">\n     <use xlink:href=\"#DejaVuSans-77\"/>\n     <use x=\"86.279297\" xlink:href=\"#DejaVuSans-69\"/>\n     <use x=\"149.462891\" xlink:href=\"#DejaVuSans-65\"/>\n    </g>\n   </g>\n   <g id=\"text_83\">\n    <!-- La4Mn5O15Sr -->\n    <g transform=\"translate(335.257974 396.416373)scale(0.12 -0.12)\">\n     <defs>\n      <path d=\"M 37.796875 64.3125 \nL 12.890625 25.390625 \nL 37.796875 25.390625 \nz\nM 35.203125 72.90625 \nL 47.609375 72.90625 \nL 47.609375 25.390625 \nL 58.015625 25.390625 \nL 58.015625 17.1875 \nL 47.609375 17.1875 \nL 47.609375 0 \nL 37.796875 0 \nL 37.796875 17.1875 \nL 4.890625 17.1875 \nL 4.890625 26.703125 \nz\n\" id=\"DejaVuSans-52\"/>\n     </defs>\n     <use xlink:href=\"#DejaVuSans-76\"/>\n     <use x=\"55.712891\" xlink:href=\"#DejaVuSans-97\"/>\n     <use x=\"116.992188\" xlink:href=\"#DejaVuSans-52\"/>\n     <use x=\"180.615234\" xlink:href=\"#DejaVuSans-77\"/>\n     <use x=\"266.894531\" xlink:href=\"#DejaVuSans-110\"/>\n     <use x=\"330.273438\" xlink:href=\"#DejaVuSans-53\"/>\n     <use x=\"393.896484\" xlink:href=\"#DejaVuSans-79\"/>\n     <use x=\"472.607422\" xlink:href=\"#DejaVuSans-49\"/>\n     <use x=\"536.230469\" xlink:href=\"#DejaVuSans-53\"/>\n     <use x=\"599.853516\" xlink:href=\"#DejaVuSans-83\"/>\n     <use x=\"663.330078\" xlink:href=\"#DejaVuSans-114\"/>\n    </g>\n   </g>\n   <g id=\"text_84\">\n    <!-- perovskite -->\n    <g transform=\"translate(334.439999 174.263688)scale(0.12 -0.12)\">\n     <defs>\n      <path d=\"M 18.109375 8.203125 \nL 18.109375 -20.796875 \nL 9.078125 -20.796875 \nL 9.078125 54.6875 \nL 18.109375 54.6875 \nL 18.109375 46.390625 \nQ 20.953125 51.265625 25.265625 53.625 \nQ 29.59375 56 35.59375 56 \nQ 45.5625 56 51.78125 48.09375 \nQ 58.015625 40.1875 58.015625 27.296875 \nQ 58.015625 14.40625 51.78125 6.484375 \nQ 45.5625 -1.421875 35.59375 -1.421875 \nQ 29.59375 -1.421875 25.265625 0.953125 \nQ 20.953125 3.328125 18.109375 8.203125 \nz\nM 48.6875 27.296875 \nQ 48.6875 37.203125 44.609375 42.84375 \nQ 40.53125 48.484375 33.40625 48.484375 \nQ 26.265625 48.484375 22.1875 42.84375 \nQ 18.109375 37.203125 18.109375 27.296875 \nQ 18.109375 17.390625 22.1875 11.75 \nQ 26.265625 6.109375 33.40625 6.109375 \nQ 40.53125 6.109375 44.609375 11.75 \nQ 48.6875 17.390625 48.6875 27.296875 \nz\n\" id=\"DejaVuSans-112\"/>\n      <path d=\"M 2.984375 54.6875 \nL 12.5 54.6875 \nL 29.59375 8.796875 \nL 46.6875 54.6875 \nL 56.203125 54.6875 \nL 35.6875 0 \nL 23.484375 0 \nz\n\" id=\"DejaVuSans-118\"/>\n      <path d=\"M 9.078125 75.984375 \nL 18.109375 75.984375 \nL 18.109375 31.109375 \nL 44.921875 54.6875 \nL 56.390625 54.6875 \nL 27.390625 29.109375 \nL 57.625 0 \nL 45.90625 0 \nL 18.109375 26.703125 \nL 18.109375 0 \nL 9.078125 0 \nz\n\" id=\"DejaVuSans-107\"/>\n     </defs>\n     <use xlink:href=\"#DejaVuSans-112\"/>\n     <use x=\"63.476562\" xlink:href=\"#DejaVuSans-101\"/>\n     <use x=\"125\" xlink:href=\"#DejaVuSans-114\"/>\n     <use x=\"163.863281\" xlink:href=\"#DejaVuSans-111\"/>\n     <use x=\"225.044922\" xlink:href=\"#DejaVuSans-118\"/>\n     <use x=\"284.224609\" xlink:href=\"#DejaVuSans-115\"/>\n     <use x=\"336.324219\" xlink:href=\"#DejaVuSans-107\"/>\n     <use x=\"394.234375\" xlink:href=\"#DejaVuSans-105\"/>\n     <use x=\"422.017578\" xlink:href=\"#DejaVuSans-116\"/>\n     <use x=\"461.226562\" xlink:href=\"#DejaVuSans-101\"/>\n    </g>\n   </g>\n   <g id=\"text_85\">\n    <!-- La0.6Sr0.4Co0.2Fe0.8O3-d -->\n    <g transform=\"translate(258.073483 341.161144)scale(0.12 -0.12)\">\n     <defs>\n      <path d=\"M 33.015625 40.375 \nQ 26.375 40.375 22.484375 35.828125 \nQ 18.609375 31.296875 18.609375 23.390625 \nQ 18.609375 15.53125 22.484375 10.953125 \nQ 26.375 6.390625 33.015625 6.390625 \nQ 39.65625 6.390625 43.53125 10.953125 \nQ 47.40625 15.53125 47.40625 23.390625 \nQ 47.40625 31.296875 43.53125 35.828125 \nQ 39.65625 40.375 33.015625 40.375 \nz\nM 52.59375 71.296875 \nL 52.59375 62.3125 \nQ 48.875 64.0625 45.09375 64.984375 \nQ 41.3125 65.921875 37.59375 65.921875 \nQ 27.828125 65.921875 22.671875 59.328125 \nQ 17.53125 52.734375 16.796875 39.40625 \nQ 19.671875 43.65625 24.015625 45.921875 \nQ 28.375 48.1875 33.59375 48.1875 \nQ 44.578125 48.1875 50.953125 41.515625 \nQ 57.328125 34.859375 57.328125 23.390625 \nQ 57.328125 12.15625 50.6875 5.359375 \nQ 44.046875 -1.421875 33.015625 -1.421875 \nQ 20.359375 -1.421875 13.671875 8.265625 \nQ 6.984375 17.96875 6.984375 36.375 \nQ 6.984375 53.65625 15.1875 63.9375 \nQ 23.390625 74.21875 37.203125 74.21875 \nQ 40.921875 74.21875 44.703125 73.484375 \nQ 48.484375 72.75 52.59375 71.296875 \nz\n\" id=\"DejaVuSans-54\"/>\n     </defs>\n     <use xlink:href=\"#DejaVuSans-76\"/>\n     <use x=\"55.712891\" xlink:href=\"#DejaVuSans-97\"/>\n     <use x=\"116.992188\" xlink:href=\"#DejaVuSans-48\"/>\n     <use x=\"180.615234\" xlink:href=\"#DejaVuSans-46\"/>\n     <use x=\"212.402344\" xlink:href=\"#DejaVuSans-54\"/>\n     <use x=\"276.025391\" xlink:href=\"#DejaVuSans-83\"/>\n     <use x=\"339.501953\" xlink:href=\"#DejaVuSans-114\"/>\n     <use x=\"380.615234\" xlink:href=\"#DejaVuSans-48\"/>\n     <use x=\"444.238281\" xlink:href=\"#DejaVuSans-46\"/>\n     <use x=\"476.025391\" xlink:href=\"#DejaVuSans-52\"/>\n     <use x=\"539.648438\" xlink:href=\"#DejaVuSans-67\"/>\n     <use x=\"609.472656\" xlink:href=\"#DejaVuSans-111\"/>\n     <use x=\"670.654297\" xlink:href=\"#DejaVuSans-48\"/>\n     <use x=\"734.277344\" xlink:href=\"#DejaVuSans-46\"/>\n     <use x=\"766.064453\" xlink:href=\"#DejaVuSans-50\"/>\n     <use x=\"829.6875\" xlink:href=\"#DejaVuSans-70\"/>\n     <use x=\"881.707031\" xlink:href=\"#DejaVuSans-101\"/>\n     <use x=\"943.230469\" xlink:href=\"#DejaVuSans-48\"/>\n     <use x=\"1006.853516\" xlink:href=\"#DejaVuSans-46\"/>\n     <use x=\"1038.640625\" xlink:href=\"#DejaVuSans-56\"/>\n     <use x=\"1102.263672\" xlink:href=\"#DejaVuSans-79\"/>\n     <use x=\"1180.974609\" xlink:href=\"#DejaVuSans-51\"/>\n     <use x=\"1244.597656\" xlink:href=\"#DejaVuSans-45\"/>\n     <use x=\"1280.681641\" xlink:href=\"#DejaVuSans-100\"/>\n    </g>\n   </g>\n  </g>\n </g>\n <defs>\n  <clipPath id=\"p8f19144b9c\">\n   <rect height=\"388.08\" width=\"390.6\" x=\"38.482813\" y=\"10.999219\"/>\n  </clipPath>\n </defs>\n</svg>\n",
      "image/png": "[encoded data removed]"
     },
     "metadata": {}
    }
   ],
   "metadata": {}
  },
  {
   "cell_type": "code",
   "execution_count": null,
   "source": [
    "PAFC = ['ICE', 'TEG', 'micro-CHP', 'HEV', 'PHEV', 'PVT', 'CPV', 'TPV', 'turbine', 'rSOC', 'standalone', 'BOP', 'CAPEX', 'CDCL', 'BoP', 'micro-turbine', 'm-CHP', 'PEM', 'ICEV', 'IEM', 'BIPV', 'BEV', 'PV', 'MDC', 'CHHP', 'microturbine', 'PV-E', 'DFB', 'hydrogen-fueled']\n",
    "outliers = ['turbine', 'PV', 'PEM']\n",
    "result = set(PEMFC) - set(outliers)\n",
    "print(result)\n",
    "\n",
    "\n",
    "\n",
    "plt.figure(figsize=(10, 10))\n",
    "plt.xlim(-4, 4)\n",
    "plt.ylim(-3, 3)\n",
    "display_pca_scatterplot(w2v_model.wv, result, color='r', a=0.9, label=True)"
   ],
   "outputs": [],
   "metadata": {}
  },
  {
   "cell_type": "code",
   "execution_count": null,
   "source": [
    "print(color_lst.index('r'))"
   ],
   "outputs": [],
   "metadata": {}
  },
  {
   "cell_type": "code",
   "execution_count": null,
   "source": [
    "type(w2v_model.wv.index_to_key)\n",
    "# print(list(all_tokens_punct)[6])\n",
    "print()"
   ],
   "outputs": [],
   "metadata": {}
  }
 ],
 "metadata": {
  "interpreter": {
   "hash": "1265565e84b9ee442e8495c811fced6702fec999448d037553e671d32787facd"
  },
  "kernelspec": {
   "name": "python3",
   "display_name": "Python 3.8.5 64-bit ('base': conda)"
  },
  "language_info": {
   "name": "python",
   "version": "3.8.5",
   "mimetype": "text/x-python",
   "codemirror_mode": {
    "name": "ipython",
    "version": 3
   },
   "pygments_lexer": "ipython3",
   "nbconvert_exporter": "python",
   "file_extension": ".py"
  },
  "metadata": {
   "interpreter": {
    "hash": "1265565e84b9ee442e8495c811fced6702fec999448d037553e671d32787facd"
   }
  }
 },
 "nbformat": 4,
 "nbformat_minor": 4
}